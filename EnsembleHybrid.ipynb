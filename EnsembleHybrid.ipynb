{
  "nbformat": 4,
  "nbformat_minor": 0,
  "metadata": {
    "colab": {
      "provenance": [],
      "authorship_tag": "ABX9TyOzn7IVwxZ3upuHZIhjb1rJ",
      "include_colab_link": true
    },
    "kernelspec": {
      "name": "python3",
      "display_name": "Python 3"
    },
    "language_info": {
      "name": "python"
    }
  },
  "cells": [
    {
      "cell_type": "markdown",
      "metadata": {
        "id": "view-in-github",
        "colab_type": "text"
      },
      "source": [
        "<a href=\"https://colab.research.google.com/github/nura6199/my-dissertation/blob/main/EnsembleHybrid.ipynb\" target=\"_parent\"><img src=\"https://colab.research.google.com/assets/colab-badge.svg\" alt=\"Open In Colab\"/></a>"
      ]
    },
    {
      "cell_type": "code",
      "execution_count": 2,
      "metadata": {
        "id": "UxgiMP_wTcmG"
      },
      "outputs": [],
      "source": [
        "import numpy as np\n",
        "import pandas as pd\n",
        "from sklearn.model_selection import train_test_split\n",
        "from sklearn.ensemble import ExtraTreesClassifier\n",
        "from sklearn.naive_bayes import GaussianNB\n",
        "from sklearn.svm import SVC\n",
        "from sklearn.tree import DecisionTreeClassifier\n",
        "\n",
        "\n",
        "\n",
        "\n",
        "\n",
        "\n",
        "\n",
        "\n",
        "\n",
        "\n",
        "\n",
        "\n",
        "from sklearn.metrics import confusion_matrix, roc_curve, auc\n",
        "import matplotlib.pyplot as plt\n",
        "from sklearn.preprocessing import LabelEncoder, StandardScaler"
      ]
    },
    {
      "cell_type": "code",
      "source": [
        "from google.colab import files\n",
        "uploaded = files.upload()"
      ],
      "metadata": {
        "colab": {
          "base_uri": "https://localhost:8080/",
          "height": 73
        },
        "id": "S8Tvhp9sTii6",
        "outputId": "5ace9348-8260-45ab-b1b7-6f231b9c5611"
      },
      "execution_count": 3,
      "outputs": [
        {
          "output_type": "display_data",
          "data": {
            "text/plain": [
              "<IPython.core.display.HTML object>"
            ],
            "text/html": [
              "\n",
              "     <input type=\"file\" id=\"files-c7b7fbca-fd38-45e2-903c-0b54013d7b93\" name=\"files[]\" multiple disabled\n",
              "        style=\"border:none\" />\n",
              "     <output id=\"result-c7b7fbca-fd38-45e2-903c-0b54013d7b93\">\n",
              "      Upload widget is only available when the cell has been executed in the\n",
              "      current browser session. Please rerun this cell to enable.\n",
              "      </output>\n",
              "      <script>// Copyright 2017 Google LLC\n",
              "//\n",
              "// Licensed under the Apache License, Version 2.0 (the \"License\");\n",
              "// you may not use this file except in compliance with the License.\n",
              "// You may obtain a copy of the License at\n",
              "//\n",
              "//      http://www.apache.org/licenses/LICENSE-2.0\n",
              "//\n",
              "// Unless required by applicable law or agreed to in writing, software\n",
              "// distributed under the License is distributed on an \"AS IS\" BASIS,\n",
              "// WITHOUT WARRANTIES OR CONDITIONS OF ANY KIND, either express or implied.\n",
              "// See the License for the specific language governing permissions and\n",
              "// limitations under the License.\n",
              "\n",
              "/**\n",
              " * @fileoverview Helpers for google.colab Python module.\n",
              " */\n",
              "(function(scope) {\n",
              "function span(text, styleAttributes = {}) {\n",
              "  const element = document.createElement('span');\n",
              "  element.textContent = text;\n",
              "  for (const key of Object.keys(styleAttributes)) {\n",
              "    element.style[key] = styleAttributes[key];\n",
              "  }\n",
              "  return element;\n",
              "}\n",
              "\n",
              "// Max number of bytes which will be uploaded at a time.\n",
              "const MAX_PAYLOAD_SIZE = 100 * 1024;\n",
              "\n",
              "function _uploadFiles(inputId, outputId) {\n",
              "  const steps = uploadFilesStep(inputId, outputId);\n",
              "  const outputElement = document.getElementById(outputId);\n",
              "  // Cache steps on the outputElement to make it available for the next call\n",
              "  // to uploadFilesContinue from Python.\n",
              "  outputElement.steps = steps;\n",
              "\n",
              "  return _uploadFilesContinue(outputId);\n",
              "}\n",
              "\n",
              "// This is roughly an async generator (not supported in the browser yet),\n",
              "// where there are multiple asynchronous steps and the Python side is going\n",
              "// to poll for completion of each step.\n",
              "// This uses a Promise to block the python side on completion of each step,\n",
              "// then passes the result of the previous step as the input to the next step.\n",
              "function _uploadFilesContinue(outputId) {\n",
              "  const outputElement = document.getElementById(outputId);\n",
              "  const steps = outputElement.steps;\n",
              "\n",
              "  const next = steps.next(outputElement.lastPromiseValue);\n",
              "  return Promise.resolve(next.value.promise).then((value) => {\n",
              "    // Cache the last promise value to make it available to the next\n",
              "    // step of the generator.\n",
              "    outputElement.lastPromiseValue = value;\n",
              "    return next.value.response;\n",
              "  });\n",
              "}\n",
              "\n",
              "/**\n",
              " * Generator function which is called between each async step of the upload\n",
              " * process.\n",
              " * @param {string} inputId Element ID of the input file picker element.\n",
              " * @param {string} outputId Element ID of the output display.\n",
              " * @return {!Iterable<!Object>} Iterable of next steps.\n",
              " */\n",
              "function* uploadFilesStep(inputId, outputId) {\n",
              "  const inputElement = document.getElementById(inputId);\n",
              "  inputElement.disabled = false;\n",
              "\n",
              "  const outputElement = document.getElementById(outputId);\n",
              "  outputElement.innerHTML = '';\n",
              "\n",
              "  const pickedPromise = new Promise((resolve) => {\n",
              "    inputElement.addEventListener('change', (e) => {\n",
              "      resolve(e.target.files);\n",
              "    });\n",
              "  });\n",
              "\n",
              "  const cancel = document.createElement('button');\n",
              "  inputElement.parentElement.appendChild(cancel);\n",
              "  cancel.textContent = 'Cancel upload';\n",
              "  const cancelPromise = new Promise((resolve) => {\n",
              "    cancel.onclick = () => {\n",
              "      resolve(null);\n",
              "    };\n",
              "  });\n",
              "\n",
              "  // Wait for the user to pick the files.\n",
              "  const files = yield {\n",
              "    promise: Promise.race([pickedPromise, cancelPromise]),\n",
              "    response: {\n",
              "      action: 'starting',\n",
              "    }\n",
              "  };\n",
              "\n",
              "  cancel.remove();\n",
              "\n",
              "  // Disable the input element since further picks are not allowed.\n",
              "  inputElement.disabled = true;\n",
              "\n",
              "  if (!files) {\n",
              "    return {\n",
              "      response: {\n",
              "        action: 'complete',\n",
              "      }\n",
              "    };\n",
              "  }\n",
              "\n",
              "  for (const file of files) {\n",
              "    const li = document.createElement('li');\n",
              "    li.append(span(file.name, {fontWeight: 'bold'}));\n",
              "    li.append(span(\n",
              "        `(${file.type || 'n/a'}) - ${file.size} bytes, ` +\n",
              "        `last modified: ${\n",
              "            file.lastModifiedDate ? file.lastModifiedDate.toLocaleDateString() :\n",
              "                                    'n/a'} - `));\n",
              "    const percent = span('0% done');\n",
              "    li.appendChild(percent);\n",
              "\n",
              "    outputElement.appendChild(li);\n",
              "\n",
              "    const fileDataPromise = new Promise((resolve) => {\n",
              "      const reader = new FileReader();\n",
              "      reader.onload = (e) => {\n",
              "        resolve(e.target.result);\n",
              "      };\n",
              "      reader.readAsArrayBuffer(file);\n",
              "    });\n",
              "    // Wait for the data to be ready.\n",
              "    let fileData = yield {\n",
              "      promise: fileDataPromise,\n",
              "      response: {\n",
              "        action: 'continue',\n",
              "      }\n",
              "    };\n",
              "\n",
              "    // Use a chunked sending to avoid message size limits. See b/62115660.\n",
              "    let position = 0;\n",
              "    do {\n",
              "      const length = Math.min(fileData.byteLength - position, MAX_PAYLOAD_SIZE);\n",
              "      const chunk = new Uint8Array(fileData, position, length);\n",
              "      position += length;\n",
              "\n",
              "      const base64 = btoa(String.fromCharCode.apply(null, chunk));\n",
              "      yield {\n",
              "        response: {\n",
              "          action: 'append',\n",
              "          file: file.name,\n",
              "          data: base64,\n",
              "        },\n",
              "      };\n",
              "\n",
              "      let percentDone = fileData.byteLength === 0 ?\n",
              "          100 :\n",
              "          Math.round((position / fileData.byteLength) * 100);\n",
              "      percent.textContent = `${percentDone}% done`;\n",
              "\n",
              "    } while (position < fileData.byteLength);\n",
              "  }\n",
              "\n",
              "  // All done.\n",
              "  yield {\n",
              "    response: {\n",
              "      action: 'complete',\n",
              "    }\n",
              "  };\n",
              "}\n",
              "\n",
              "scope.google = scope.google || {};\n",
              "scope.google.colab = scope.google.colab || {};\n",
              "scope.google.colab._files = {\n",
              "  _uploadFiles,\n",
              "  _uploadFilesContinue,\n",
              "};\n",
              "})(self);\n",
              "</script> "
            ]
          },
          "metadata": {}
        },
        {
          "output_type": "stream",
          "name": "stdout",
          "text": [
            "Saving chronic_kidney_disease.csv to chronic_kidney_disease.csv\n"
          ]
        }
      ]
    },
    {
      "cell_type": "code",
      "source": [
        "# Load the dataset\n",
        "data = pd.read_csv('chronic_kidney_disease.csv')"
      ],
      "metadata": {
        "id": "RCMJLjXkUPdD"
      },
      "execution_count": 4,
      "outputs": []
    },
    {
      "cell_type": "markdown",
      "source": [
        "preprocessing steps"
      ],
      "metadata": {
        "id": "msWoj4n3YQ_c"
      }
    },
    {
      "cell_type": "code",
      "source": [
        "# Handling missing values\n",
        "data = data.replace('?', pd.NA)\n",
        "data = data.dropna()\n"
      ],
      "metadata": {
        "id": "vGAwYr0bYOJ_"
      },
      "execution_count": 5,
      "outputs": []
    },
    {
      "cell_type": "code",
      "source": [
        "# Convert categorical variables to numerical using LabelEncoder\n",
        "categorical_cols = ['rbc', 'pc', 'pcc', 'ba', 'htn', 'dm', 'cad', 'appet', 'pe', 'ane', 'class']\n",
        "for col in categorical_cols:\n",
        "    le = LabelEncoder()\n",
        "    data[col] = le.fit_transform(data[col])"
      ],
      "metadata": {
        "id": "fa-XiwtyYjlE"
      },
      "execution_count": 6,
      "outputs": []
    },
    {
      "cell_type": "code",
      "source": [
        "# Separate features and labels\n",
        "X = data.drop('class', axis=1)\n",
        "y = data['class']"
      ],
      "metadata": {
        "id": "d3YSSarhYwrM"
      },
      "execution_count": 7,
      "outputs": []
    },
    {
      "cell_type": "code",
      "source": [
        "# Split the data into training and testing sets\n",
        "X_train, X_test, y_train, y_test = train_test_split(X, y, test_size=0.2, random_state=42)\n"
      ],
      "metadata": {
        "id": "5JZUD6CCZAbE"
      },
      "execution_count": 8,
      "outputs": []
    },
    {
      "cell_type": "code",
      "source": [
        "# Standardize the features\n",
        "scaler = StandardScaler()\n",
        "X_train = scaler.fit_transform(X_train)\n",
        "X_test = scaler.transform(X_test)"
      ],
      "metadata": {
        "id": "o0-Je1efZRQz"
      },
      "execution_count": 9,
      "outputs": []
    },
    {
      "cell_type": "markdown",
      "source": [
        "Feature Selection using Extra Trees Classifier:\n",
        "We will use the Extra Trees Classifier to select important features from the dataset."
      ],
      "metadata": {
        "id": "3z4jE2XpZbQ5"
      }
    },
    {
      "cell_type": "code",
      "source": [
        "from sklearn.ensemble import ExtraTreesClassifier\n",
        "\n",
        "# Create the Extra Trees Classifier\n",
        "et_clf = ExtraTreesClassifier(n_estimators=100, random_state=42)"
      ],
      "metadata": {
        "id": "X7d9T52fZR0b"
      },
      "execution_count": 10,
      "outputs": []
    },
    {
      "cell_type": "code",
      "source": [
        "# Fit the model and get feature importances\n",
        "et_clf.fit(X_train, y_train)"
      ],
      "metadata": {
        "colab": {
          "base_uri": "https://localhost:8080/",
          "height": 75
        },
        "id": "HEE9IfPmZvnE",
        "outputId": "530570fb-a4ff-4564-aa1b-7eeea326aaa8"
      },
      "execution_count": 11,
      "outputs": [
        {
          "output_type": "execute_result",
          "data": {
            "text/plain": [
              "ExtraTreesClassifier(random_state=42)"
            ],
            "text/html": [
              "<style>#sk-container-id-1 {color: black;background-color: white;}#sk-container-id-1 pre{padding: 0;}#sk-container-id-1 div.sk-toggleable {background-color: white;}#sk-container-id-1 label.sk-toggleable__label {cursor: pointer;display: block;width: 100%;margin-bottom: 0;padding: 0.3em;box-sizing: border-box;text-align: center;}#sk-container-id-1 label.sk-toggleable__label-arrow:before {content: \"▸\";float: left;margin-right: 0.25em;color: #696969;}#sk-container-id-1 label.sk-toggleable__label-arrow:hover:before {color: black;}#sk-container-id-1 div.sk-estimator:hover label.sk-toggleable__label-arrow:before {color: black;}#sk-container-id-1 div.sk-toggleable__content {max-height: 0;max-width: 0;overflow: hidden;text-align: left;background-color: #f0f8ff;}#sk-container-id-1 div.sk-toggleable__content pre {margin: 0.2em;color: black;border-radius: 0.25em;background-color: #f0f8ff;}#sk-container-id-1 input.sk-toggleable__control:checked~div.sk-toggleable__content {max-height: 200px;max-width: 100%;overflow: auto;}#sk-container-id-1 input.sk-toggleable__control:checked~label.sk-toggleable__label-arrow:before {content: \"▾\";}#sk-container-id-1 div.sk-estimator input.sk-toggleable__control:checked~label.sk-toggleable__label {background-color: #d4ebff;}#sk-container-id-1 div.sk-label input.sk-toggleable__control:checked~label.sk-toggleable__label {background-color: #d4ebff;}#sk-container-id-1 input.sk-hidden--visually {border: 0;clip: rect(1px 1px 1px 1px);clip: rect(1px, 1px, 1px, 1px);height: 1px;margin: -1px;overflow: hidden;padding: 0;position: absolute;width: 1px;}#sk-container-id-1 div.sk-estimator {font-family: monospace;background-color: #f0f8ff;border: 1px dotted black;border-radius: 0.25em;box-sizing: border-box;margin-bottom: 0.5em;}#sk-container-id-1 div.sk-estimator:hover {background-color: #d4ebff;}#sk-container-id-1 div.sk-parallel-item::after {content: \"\";width: 100%;border-bottom: 1px solid gray;flex-grow: 1;}#sk-container-id-1 div.sk-label:hover label.sk-toggleable__label {background-color: #d4ebff;}#sk-container-id-1 div.sk-serial::before {content: \"\";position: absolute;border-left: 1px solid gray;box-sizing: border-box;top: 0;bottom: 0;left: 50%;z-index: 0;}#sk-container-id-1 div.sk-serial {display: flex;flex-direction: column;align-items: center;background-color: white;padding-right: 0.2em;padding-left: 0.2em;position: relative;}#sk-container-id-1 div.sk-item {position: relative;z-index: 1;}#sk-container-id-1 div.sk-parallel {display: flex;align-items: stretch;justify-content: center;background-color: white;position: relative;}#sk-container-id-1 div.sk-item::before, #sk-container-id-1 div.sk-parallel-item::before {content: \"\";position: absolute;border-left: 1px solid gray;box-sizing: border-box;top: 0;bottom: 0;left: 50%;z-index: -1;}#sk-container-id-1 div.sk-parallel-item {display: flex;flex-direction: column;z-index: 1;position: relative;background-color: white;}#sk-container-id-1 div.sk-parallel-item:first-child::after {align-self: flex-end;width: 50%;}#sk-container-id-1 div.sk-parallel-item:last-child::after {align-self: flex-start;width: 50%;}#sk-container-id-1 div.sk-parallel-item:only-child::after {width: 0;}#sk-container-id-1 div.sk-dashed-wrapped {border: 1px dashed gray;margin: 0 0.4em 0.5em 0.4em;box-sizing: border-box;padding-bottom: 0.4em;background-color: white;}#sk-container-id-1 div.sk-label label {font-family: monospace;font-weight: bold;display: inline-block;line-height: 1.2em;}#sk-container-id-1 div.sk-label-container {text-align: center;}#sk-container-id-1 div.sk-container {/* jupyter's `normalize.less` sets `[hidden] { display: none; }` but bootstrap.min.css set `[hidden] { display: none !important; }` so we also need the `!important` here to be able to override the default hidden behavior on the sphinx rendered scikit-learn.org. See: https://github.com/scikit-learn/scikit-learn/issues/21755 */display: inline-block !important;position: relative;}#sk-container-id-1 div.sk-text-repr-fallback {display: none;}</style><div id=\"sk-container-id-1\" class=\"sk-top-container\"><div class=\"sk-text-repr-fallback\"><pre>ExtraTreesClassifier(random_state=42)</pre><b>In a Jupyter environment, please rerun this cell to show the HTML representation or trust the notebook. <br />On GitHub, the HTML representation is unable to render, please try loading this page with nbviewer.org.</b></div><div class=\"sk-container\" hidden><div class=\"sk-item\"><div class=\"sk-estimator sk-toggleable\"><input class=\"sk-toggleable__control sk-hidden--visually\" id=\"sk-estimator-id-1\" type=\"checkbox\" checked><label for=\"sk-estimator-id-1\" class=\"sk-toggleable__label sk-toggleable__label-arrow\">ExtraTreesClassifier</label><div class=\"sk-toggleable__content\"><pre>ExtraTreesClassifier(random_state=42)</pre></div></div></div></div></div>"
            ]
          },
          "metadata": {},
          "execution_count": 11
        }
      ]
    },
    {
      "cell_type": "code",
      "source": [
        "# Select important features\n",
        "important_features_indices = et_clf.feature_importances_.argsort()[::-1]\n",
        "important_features = X.columns[important_features_indices]\n",
        "num_features_to_select = 10  # You can choose any number of top features\n"
      ],
      "metadata": {
        "id": "bEJ6240lZ591"
      },
      "execution_count": 12,
      "outputs": []
    },
    {
      "cell_type": "code",
      "source": [
        "# Select the top 'num_features_to_select' features\n",
        "selected_features = important_features[:num_features_to_select]"
      ],
      "metadata": {
        "id": "ydk8XKq9aHHe"
      },
      "execution_count": 13,
      "outputs": []
    },
    {
      "cell_type": "code",
      "source": [
        "# Filter the data to keep only the selected features\n",
        "X_train_selected = X_train[:, important_features_indices[:num_features_to_select]]\n",
        "X_test_selected = X_test[:, important_features_indices[:num_features_to_select]]"
      ],
      "metadata": {
        "id": "Hoci1hMja6Xo"
      },
      "execution_count": 14,
      "outputs": []
    },
    {
      "cell_type": "markdown",
      "source": [
        "Implementing Naive Bayes, SVM, and Decision Tree classifiers:"
      ],
      "metadata": {
        "id": "e2zMhprsbE8U"
      }
    },
    {
      "cell_type": "code",
      "source": [
        "from sklearn.naive_bayes import GaussianNB\n",
        "from sklearn.svm import SVC\n",
        "from sklearn.tree import DecisionTreeClassifier\n",
        "from sklearn.metrics import accuracy_score, confusion_matrix, roc_auc_score, roc_curve\n"
      ],
      "metadata": {
        "id": "g_6vAX56bHsr"
      },
      "execution_count": 15,
      "outputs": []
    },
    {
      "cell_type": "code",
      "source": [
        "# Initialize classifiers\n",
        "nb_clf = GaussianNB()\n",
        "svm_clf = SVC(probability=True, random_state=42)\n",
        "dt_clf = DecisionTreeClassifier(random_state=42)"
      ],
      "metadata": {
        "id": "wuwAxHtlbOd_"
      },
      "execution_count": 16,
      "outputs": []
    },
    {
      "cell_type": "code",
      "source": [
        "# Train and predict using Naive Bayes\n",
        "nb_clf.fit(X_train_selected, y_train)\n",
        "nb_y_pred = nb_clf.predict(X_test_selected)\n"
      ],
      "metadata": {
        "id": "WwXEfV1LbOiJ"
      },
      "execution_count": 17,
      "outputs": []
    },
    {
      "cell_type": "code",
      "source": [
        "# Train and predict using SVM\n",
        "svm_clf.fit(X_train_selected, y_train)\n",
        "svm_y_pred = svm_clf.predict(X_test_selected)"
      ],
      "metadata": {
        "id": "DCqFaavUbhGf"
      },
      "execution_count": 18,
      "outputs": []
    },
    {
      "cell_type": "code",
      "source": [
        "# Train and predict using Decision Tree\n",
        "dt_clf.fit(X_train_selected, y_train)\n",
        "dt_y_pred = dt_clf.predict(X_test_selected)"
      ],
      "metadata": {
        "id": "ojAxh4dPbmYE"
      },
      "execution_count": 19,
      "outputs": []
    },
    {
      "cell_type": "code",
      "source": [
        "from sklearn.metrics import precision_score, recall_score, f1_score\n",
        "\n",
        "# Calculate accuracy for each classifier\n",
        "nb_accuracy = accuracy_score(y_test, nb_y_pred)\n",
        "nb_precision = precision_score(y_test, nb_y_pred)\n",
        "nb_recall = recall_score(y_test, nb_y_pred)\n",
        "nb_f1_score = f1_score(y_test, nb_y_pred)\n",
        "\n",
        "svm_accuracy = accuracy_score(y_test, svm_y_pred)\n",
        "svm_precision = precision_score(y_test, svm_y_pred)\n",
        "svm_recall = recall_score(y_test, svm_y_pred)\n",
        "svm_f1_score = f1_score(y_test, svm_y_pred)\n",
        "\n",
        "dt_accuracy = accuracy_score(y_test, dt_y_pred)\n",
        "dt_precision = precision_score(y_test, dt_y_pred)\n",
        "dt_recall = recall_score(y_test, dt_y_pred)\n",
        "dt_f1_score = f1_score(y_test, dt_y_pred)"
      ],
      "metadata": {
        "id": "eQZy1UOTbmc3"
      },
      "execution_count": 20,
      "outputs": []
    },
    {
      "cell_type": "code",
      "source": [],
      "metadata": {
        "id": "_ob0mqp4daK_"
      },
      "execution_count": null,
      "outputs": []
    },
    {
      "cell_type": "code",
      "source": [
        "# Generate confusion matrix for each classifier\n",
        "nb_conf_matrix = confusion_matrix(y_test, nb_y_pred)\n",
        "svm_conf_matrix = confusion_matrix(y_test, svm_y_pred)\n",
        "dt_conf_matrix = confusion_matrix(y_test, dt_y_pred)"
      ],
      "metadata": {
        "id": "Qv-xqzg_da2j"
      },
      "execution_count": 21,
      "outputs": []
    },
    {
      "cell_type": "code",
      "source": [
        "# Generate ROC curve and calculate ROC-AUC score for each classifier\n",
        "nb_y_prob = nb_clf.predict_proba(X_test_selected)[:, 1]\n",
        "svm_y_prob = svm_clf.predict_proba(X_test_selected)[:, 1]\n",
        "dt_y_prob = dt_clf.predict_proba(X_test_selected)[:, 1]\n",
        "\n",
        "nb_roc_auc = roc_auc_score(y_test, nb_y_prob)\n",
        "svm_roc_auc = roc_auc_score(y_test, svm_y_prob)\n",
        "dt_roc_auc = roc_auc_score(y_test, dt_y_prob)\n",
        "\n",
        "fpr_nb, tpr_nb, _ = roc_curve(y_test, nb_y_prob)\n",
        "fpr_svm, tpr_svm, _ = roc_curve(y_test, svm_y_prob)\n",
        "fpr_dt, tpr_dt, _ = roc_curve(y_test, dt_y_prob)"
      ],
      "metadata": {
        "id": "59TfBuL0dnFN"
      },
      "execution_count": 22,
      "outputs": []
    },
    {
      "cell_type": "markdown",
      "source": [
        "Implementing Hybrid Ensemble Learning:\n",
        "For hybrid ensemble learning, we'll combine the predictions of Naive Bayes, SVM, and Decision Tree using a voting classifier."
      ],
      "metadata": {
        "id": "sD30Xchyd-U1"
      }
    },
    {
      "cell_type": "code",
      "source": [
        "from sklearn.ensemble import VotingClassifier\n",
        "\n",
        "# Create the voting ensemble\n",
        "voting_clf = VotingClassifier(estimators=[('nb', nb_clf), ('svm', svm_clf), ('dt', dt_clf)], voting='soft')\n"
      ],
      "metadata": {
        "id": "3sAXSeXyd7WA"
      },
      "execution_count": 23,
      "outputs": []
    },
    {
      "cell_type": "code",
      "source": [
        "# Train and predict using the voting ensemble\n",
        "voting_clf.fit(X_train_selected, y_train)\n",
        "voting_y_pred = voting_clf.predict(X_test_selected)"
      ],
      "metadata": {
        "id": "YQsnZi-aeK8L"
      },
      "execution_count": 24,
      "outputs": []
    },
    {
      "cell_type": "code",
      "source": [
        "# Calculate accuracy for the voting ensemble\n",
        "voting_accuracy = accuracy_score(y_test, voting_y_pred)\n",
        "\n",
        "# Calculate precision for the voting ensemble\n",
        "voting_precision = precision_score(y_test, voting_y_pred)\n",
        "\n",
        "# Calculate recall for the voting ensemble\n",
        "voting_recall = recall_score(y_test, voting_y_pred)\n",
        "\n",
        "# Calculate F1-score for the voting ensemble\n",
        "voting_f1_score = f1_score(y_test, voting_y_pred)"
      ],
      "metadata": {
        "id": "cBnU8MeVeWQF"
      },
      "execution_count": 25,
      "outputs": []
    },
    {
      "cell_type": "code",
      "source": [
        "# Generate confusion matrix for the voting ensemble\n",
        "voting_conf_matrix = confusion_matrix(y_test, voting_y_pred)\n"
      ],
      "metadata": {
        "id": "icfw7bUHeeud"
      },
      "execution_count": 26,
      "outputs": []
    },
    {
      "cell_type": "code",
      "source": [
        "from sklearn.model_selection import cross_val_score\n",
        "\n",
        "# Cross-validation for Naive Bayes\n",
        "nb_cv_scores = cross_val_score(nb_clf, X_train_selected, y_train, cv=5, scoring='accuracy')\n",
        "nb_cv_precision = cross_val_score(nb_clf, X_train_selected, y_train, cv=5, scoring='precision')\n",
        "nb_cv_recall = cross_val_score(nb_clf, X_train_selected, y_train, cv=5, scoring='recall')\n",
        "nb_cv_f1_score = cross_val_score(nb_clf, X_train_selected, y_train, cv=5, scoring='f1')\n",
        "\n",
        "# Cross-validation for SVM\n",
        "svm_cv_scores = cross_val_score(svm_clf, X_train_selected, y_train, cv=5, scoring='accuracy')\n",
        "svm_cv_precision = cross_val_score(svm_clf, X_train_selected, y_train, cv=5, scoring='precision')\n",
        "svm_cv_recall = cross_val_score(svm_clf, X_train_selected, y_train, cv=5, scoring='recall')\n",
        "svm_cv_f1_score = cross_val_score(svm_clf, X_train_selected, y_train, cv=5, scoring='f1')\n",
        "\n",
        "# Cross-validation for Decision Tree\n",
        "dt_cv_scores = cross_val_score(dt_clf, X_train_selected, y_train, cv=5, scoring='accuracy')\n",
        "dt_cv_precision = cross_val_score(dt_clf, X_train_selected, y_train, cv=5, scoring='precision')\n",
        "dt_cv_recall = cross_val_score(dt_clf, X_train_selected, y_train, cv=5, scoring='recall')\n",
        "dt_cv_f1_score = cross_val_score(dt_clf, X_train_selected, y_train, cv=5, scoring='f1')\n",
        "\n",
        "# Cross-validation for Voting Ensemble\n",
        "voting_cv_scores = cross_val_score(voting_clf, X_train_selected, y_train, cv=5, scoring='accuracy')\n",
        "voting_cv_precision = cross_val_score(voting_clf, X_train_selected, y_train, cv=5, scoring='precision')\n",
        "voting_cv_recall = cross_val_score(voting_clf, X_train_selected, y_train, cv=5, scoring='recall')\n",
        "voting_cv_f1_score = cross_val_score(voting_clf, X_train_selected, y_train, cv=5, scoring='f1')\n",
        "\n",
        "# Print the average cross-validation scores for each classifier\n",
        "print(\"Cross-Validation Results:\")\n",
        "print(\"Naive Bayes:\")\n",
        "print(f\"Accuracy: {nb_cv_scores.mean():.2f}\")\n",
        "print(f\"Precision: {nb_cv_precision.mean():.2f}\")\n",
        "print(f\"Recall: {nb_cv_recall.mean():.2f}\")\n",
        "print(f\"F1-score: {nb_cv_f1_score.mean():.2f}\")\n",
        "print()\n",
        "\n",
        "print(\"SVM:\")\n",
        "print(f\"Accuracy: {svm_cv_scores.mean():.2f}\")\n",
        "print(f\"Precision: {svm_cv_precision.mean():.2f}\")\n",
        "print(f\"Recall: {svm_cv_recall.mean():.2f}\")\n",
        "print(f\"F1-score: {svm_cv_f1_score.mean():.2f}\")\n",
        "print()\n",
        "\n",
        "print(\"Decision Tree:\")\n",
        "print(f\"Accuracy: {dt_cv_scores.mean():.2f}\")\n",
        "print(f\"Precision: {dt_cv_precision.mean():.2f}\")\n",
        "print(f\"Recall: {dt_cv_recall.mean():.2f}\")\n",
        "print(f\"F1-score: {dt_cv_f1_score.mean():.2f}\")\n",
        "print()\n",
        "\n",
        "print(\"Voting Ensemble:\")\n",
        "print(f\"Accuracy: {voting_cv_scores.mean():.2f}\")\n",
        "print(f\"Precision: {voting_cv_precision.mean():.2f}\")\n",
        "print(f\"Recall: {voting_cv_recall.mean():.2f}\")\n",
        "print(f\"F1-score: {voting_cv_f1_score.mean():.2f}\")\n"
      ],
      "metadata": {
        "colab": {
          "base_uri": "https://localhost:8080/",
          "height": 0
        },
        "id": "G0dYkm-6oOS_",
        "outputId": "7ee70c27-7107-4430-f7af-617fc6a8067f"
      },
      "execution_count": 27,
      "outputs": [
        {
          "output_type": "stream",
          "name": "stdout",
          "text": [
            "Cross-Validation Results:\n",
            "Naive Bayes:\n",
            "Accuracy: 0.96\n",
            "Precision: 0.94\n",
            "Recall: 0.98\n",
            "F1-score: 0.96\n",
            "\n",
            "SVM:\n",
            "Accuracy: 0.97\n",
            "Precision: 0.99\n",
            "Recall: 0.96\n",
            "F1-score: 0.97\n",
            "\n",
            "Decision Tree:\n",
            "Accuracy: 0.99\n",
            "Precision: 1.00\n",
            "Recall: 0.98\n",
            "F1-score: 0.99\n",
            "\n",
            "Voting Ensemble:\n",
            "Accuracy: 0.98\n",
            "Precision: 0.99\n",
            "Recall: 0.98\n",
            "F1-score: 0.98\n"
          ]
        }
      ]
    },
    {
      "cell_type": "code",
      "source": [
        "# Generate ROC curve and calculate ROC-AUC score for the voting ensemble\n",
        "voting_y_prob = voting_clf.predict_proba(X_test_selected)[:, 1]\n",
        "voting_roc_auc = roc_auc_score(y_test, voting_y_prob)\n",
        "fpr_voting, tpr_voting, _ = roc_curve(y_test, voting_y_prob)"
      ],
      "metadata": {
        "id": "6a6ePtzkefK0"
      },
      "execution_count": 28,
      "outputs": []
    },
    {
      "cell_type": "markdown",
      "source": [
        "Plotting ROC curves and Confusion matrices:\n",
        "Now, let's plot the ROC curves and confusion matrices for each classifier, including the hybrid ensemble learning model."
      ],
      "metadata": {
        "id": "Y-FAc7p8ewov"
      }
    },
    {
      "cell_type": "code",
      "source": [
        "import matplotlib.pyplot as plt\n",
        "\n",
        "# Function to plot ROC curve\n",
        "def plot_roc_curve(fpr, tpr, roc_auc, label):\n",
        "    plt.plot(fpr, tpr, label=f'{label} (AUC = {roc_auc:.2f})')\n",
        "\n",
        "# Plot ROC curves\n",
        "plt.figure(figsize=(5, 5))\n",
        "plot_roc_curve(fpr_nb, tpr_nb, nb_roc_auc, 'Naive Bayes')\n",
        "plot_roc_curve(fpr_svm, tpr_svm, svm_roc_auc, 'SVM')\n",
        "plot_roc_curve(fpr_dt, tpr_dt, dt_roc_auc, 'Decision Tree')\n",
        "plot_roc_curve(fpr_voting, tpr_voting, voting_roc_auc, 'Voting Hybrid Ensemble')\n",
        "#plt.plot([0, 1], [0, 1], 'k--', color='gray', label='Random Guessing')\n",
        "#plt.xlabel('False Positive Rate')\n",
        "#plt.ylabel('True Positive Rate')\n",
        "plt.title('ROC Curves')\n",
        "plt.legend(loc='lower right')\n",
        "#plt.grid()\n",
        "plt.show()\n",
        "\n"
      ],
      "metadata": {
        "colab": {
          "base_uri": "https://localhost:8080/",
          "height": 468
        },
        "id": "na_hRN5tesyC",
        "outputId": "ed1448a0-26a8-4a74-ee81-a85e32de2d62"
      },
      "execution_count": 43,
      "outputs": [
        {
          "output_type": "display_data",
          "data": {
            "text/plain": [
              "<Figure size 500x500 with 1 Axes>"
            ],
            "image/png": "[encoded data removed]"
          },
          "metadata": {}
        }
      ]
    },
    {
      "cell_type": "code",
      "source": [
        "import matplotlib.pyplot as plt\n",
        "\n",
        "# Function to plot ROC curve\n",
        "def plot_roc_curve(fpr, tpr, roc_auc, label):\n",
        "    plt.plot(fpr, tpr, label=f'{label} (AUC = {roc_auc:.2f})')\n",
        "\n",
        "# Plot ROC curves\n",
        "plt.figure(figsize=(4, 4))\n",
        "plot_roc_curve(fpr_nb, tpr_nb, nb_roc_auc, 'Naive Bayes')\n",
        "#plot_roc_curve(fpr_svm, tpr_svm, svm_roc_auc, 'SVM')\n",
        "#plot_roc_curve(fpr_dt, tpr_dt, dt_roc_auc, 'Decision Tree')\n",
        "#plot_roc_curve(fpr_voting, tpr_voting, voting_roc_auc, 'Voting Ensemble')\n",
        "#plt.plot([0, 1], [0, 1], 'k--', color='gray', label='Random Guessing')\n",
        "#plt.xlabel('False Positive Rate')\n",
        "#plt.ylabel('True Positive Rate')\n",
        "plt.title('ROC Curves')\n",
        "plt.legend(loc='lower right')\n",
        "#plt.grid()\n",
        "plt.show()"
      ],
      "metadata": {
        "colab": {
          "base_uri": "https://localhost:8080/",
          "height": 391
        },
        "id": "In14Eousg9WW",
        "outputId": "ae3c921a-2971-4a6f-fe6c-d6b5768f9140"
      },
      "execution_count": 31,
      "outputs": [
        {
          "output_type": "display_data",
          "data": {
            "text/plain": [
              "<Figure size 400x400 with 1 Axes>"
            ],
            "image/png": "[encoded data removed]"
          },
          "metadata": {}
        }
      ]
    },
    {
      "cell_type": "code",
      "source": [],
      "metadata": {
        "id": "-0R0NMncnSIT"
      },
      "execution_count": null,
      "outputs": []
    },
    {
      "cell_type": "code",
      "source": [
        "import matplotlib.pyplot as plt\n",
        "\n",
        "# Function to plot ROC curve\n",
        "def plot_roc_curve(fpr, tpr, roc_auc, label):\n",
        "    plt.plot(fpr, tpr, label=f'{label} (AUC = {roc_auc:.2f})')\n",
        "\n",
        "# Plot ROC curves\n",
        "plt.figure(figsize=(4, 4))\n",
        "#plot_roc_curve(fpr_nb, tpr_nb, nb_roc_auc, 'Naive Bayes')\n",
        "plot_roc_curve(fpr_svm, tpr_svm, svm_roc_auc, 'SVM')\n",
        "#plot_roc_curve(fpr_dt, tpr_dt, dt_roc_auc, 'Decision Tree')\n",
        "#plot_roc_curve(fpr_voting, tpr_voting, voting_roc_auc, 'Voting Ensemble')\n",
        "#plt.plot([0, 1], [0, 1], 'k--', color='gray', label='Random Guessing')\n",
        "#plt.xlabel('False Positive Rate')\n",
        "#plt.ylabel('True Positive Rate')\n",
        "plt.title('ROC Curves')\n",
        "plt.legend(loc='lower right')\n",
        "#plt.grid()\n",
        "plt.show()"
      ],
      "metadata": {
        "colab": {
          "base_uri": "https://localhost:8080/",
          "height": 391
        },
        "id": "FsaRtIi9hYjC",
        "outputId": "0ff780a2-cbc3-49ac-9dfb-d302b3c2cc6b"
      },
      "execution_count": 32,
      "outputs": [
        {
          "output_type": "display_data",
          "data": {
            "text/plain": [
              "<Figure size 400x400 with 1 Axes>"
            ],
            "image/png": "[encoded data removed]"
          },
          "metadata": {}
        }
      ]
    },
    {
      "cell_type": "code",
      "source": [
        "import matplotlib.pyplot as plt\n",
        "\n",
        "# Function to plot ROC curve\n",
        "def plot_roc_curve(fpr, tpr, roc_auc, label):\n",
        "    plt.plot(fpr, tpr, label=f'{label} (AUC = {roc_auc:.2f})')\n",
        "\n",
        "# Plot ROC curves\n",
        "plt.figure(figsize=(4, 4))\n",
        "#plot_roc_curve(fpr_nb, tpr_nb, nb_roc_auc, 'Naive Bayes')\n",
        "#plot_roc_curve(fpr_svm, tpr_svm, svm_roc_auc, 'SVM')\n",
        "plot_roc_curve(fpr_dt, tpr_dt, dt_roc_auc, 'Decision Tree')\n",
        "#plot_roc_curve(fpr_voting, tpr_voting, voting_roc_auc, 'Voting Ensemble')\n",
        "#plt.plot([0, 1], [0, 1], 'k--', color='gray', label='Random Guessing')\n",
        "#plt.xlabel('False Positive Rate')\n",
        "#plt.ylabel('True Positive Rate')\n",
        "plt.title('ROC Curves')\n",
        "plt.legend(loc='lower right')\n",
        "#plt.grid()\n",
        "plt.show()"
      ],
      "metadata": {
        "colab": {
          "base_uri": "https://localhost:8080/",
          "height": 391
        },
        "id": "8QMXbSvOhjca",
        "outputId": "594ffd90-d55f-420f-9741-e162b4c4ed98"
      },
      "execution_count": 33,
      "outputs": [
        {
          "output_type": "display_data",
          "data": {
            "text/plain": [
              "<Figure size 400x400 with 1 Axes>"
            ],
            "image/png": "[encoded data removed]"
          },
          "metadata": {}
        }
      ]
    },
    {
      "cell_type": "code",
      "source": [
        "import matplotlib.pyplot as plt\n",
        "\n",
        "# Function to plot ROC curve\n",
        "def plot_roc_curve(fpr, tpr, roc_auc, label):\n",
        "    plt.plot(fpr, tpr, label=f'{label} (AUC = {roc_auc:.2f})')\n",
        "\n",
        "# Plot ROC curves\n",
        "plt.figure(figsize=(4, 4))\n",
        "#plot_roc_curve(fpr_nb, tpr_nb, nb_roc_auc, 'Naive Bayes')\n",
        "#plot_roc_curve(fpr_svm, tpr_svm, svm_roc_auc, 'SVM')\n",
        "#plot_roc_curve(fpr_dt, tpr_dt, dt_roc_auc, 'Decision Tree')\n",
        "plot_roc_curve(fpr_voting, tpr_voting, voting_roc_auc, 'Voting Hybrid Ensemble')\n",
        "#plt.plot([0, 1], [0, 1], 'k--', color='gray', label='Random Guessing')\n",
        "#plt.xlabel('False Positive Rate')\n",
        "#plt.ylabel('True Positive Rate')\n",
        "plt.title('ROC Curves')\n",
        "plt.legend(loc='lower right')\n",
        "#plt.grid()\n",
        "plt.show()"
      ],
      "metadata": {
        "colab": {
          "base_uri": "https://localhost:8080/",
          "height": 391
        },
        "id": "PxgGkitIhsAo",
        "outputId": "03def7a0-2a71-4aca-ac80-99c75b069fe0"
      },
      "execution_count": 44,
      "outputs": [
        {
          "output_type": "display_data",
          "data": {
            "text/plain": [
              "<Figure size 400x400 with 1 Axes>"
            ],
            "image/png": "[encoded data removed]"
          },
          "metadata": {}
        }
      ]
    },
    {
      "cell_type": "code",
      "source": [
        "# Function to plot confusion matrix\n",
        "def plot_confusion_matrix(conf_matrix, title):\n",
        "    plt.imshow(conf_matrix, interpolation='nearest', cmap=plt.cm.Blues)\n",
        "    plt.title(title)\n",
        "    plt.colorbar()\n",
        "    plt.xticks([0, 1], ['Not CKD', 'CKD'])  # Complete the line to add 'CKD' label\n",
        "    plt.yticks([0, 1], ['Not CKD', 'CKD'])  # Add y-axis labels as well\n",
        "    plt.xlabel('Predicted Label')\n",
        "    plt.ylabel('True Label')\n",
        "    plt.show()"
      ],
      "metadata": {
        "id": "_moN9eRAfy2Q"
      },
      "execution_count": null,
      "outputs": []
    },
    {
      "cell_type": "code",
      "source": [
        "# Function to plot confusion matrix\n",
        "def plot_confusion_matrix(conf_matrix, title):\n",
        "    plt.imshow(conf_matrix, interpolation='nearest', cmap=plt.cm.Blues)\n",
        "    plt.title(title)\n",
        "    plt.colorbar()\n",
        "    plt.xticks([0, 1], ['Not CKD', 'CKD'])\n",
        "    plt.yticks([0, 1], ['Not CKD', 'CKD'])\n",
        "    plt.xlabel('Predicted label')\n",
        "    plt.ylabel('True label')\n",
        "    plt.title(title)\n",
        "\n",
        "    # Annotate the confusion matrix cells with values\n",
        "    for i in range(2):\n",
        "        for j in range(2):\n",
        "            plt.text(j, i, str(conf_matrix[i, j]), horizontalalignment=\"center\", verticalalignment=\"center\")\n",
        "\n",
        "    plt.show()\n",
        "\n",
        "# Plot confusion matrices\n",
        "plt.figure(figsize=(20, 5))\n",
        "plt.subplot(1, 3, 1)\n",
        "plot_confusion_matrix(nb_conf_matrix, title='Confusion Matrix - Naive Bayes')\n",
        "\n",
        "plt.figure(figsize=(20, 5))\n",
        "plt.subplot(1, 3, 1)\n",
        "plot_confusion_matrix(svm_conf_matrix, title='Confusion Matrix - SVM')\n",
        "\n",
        "plt.figure(figsize=(20, 5))\n",
        "plt.subplot(1, 3, 3)\n",
        "plot_confusion_matrix(dt_conf_matrix, title='Confusion Matrix - Decision Tree')\n",
        "\n",
        "plt.figure(figsize=(6, 5))\n",
        "plot_confusion_matrix(voting_conf_matrix, title='Confusion Matrix - Soft Voting Hybrid Ensemble')"
      ],
      "metadata": {
        "colab": {
          "base_uri": "https://localhost:8080/",
          "height": 1824
        },
        "id": "UR-GmnxMgASk",
        "outputId": "2a7c05ca-d116-4ad2-b933-645e410aacf1"
      },
      "execution_count": 40,
      "outputs": [
        {
          "output_type": "display_data",
          "data": {
            "text/plain": [
              "<Figure size 2000x500 with 2 Axes>"
            ],
            "image/png": "[encoded data removed]"
          },
          "metadata": {}
        },
        {
          "output_type": "display_data",
          "data": {
            "text/plain": [
              "<Figure size 2000x500 with 2 Axes>"
            ],
            "image/png": "[encoded data removed]"
          },
          "metadata": {}
        },
        {
          "output_type": "display_data",
          "data": {
            "text/plain": [
              "<Figure size 2000x500 with 2 Axes>"
            ],
            "image/png": "[encoded data removed]"
          },
          "metadata": {}
        },
        {
          "output_type": "display_data",
          "data": {
            "text/plain": [
              "<Figure size 600x500 with 2 Axes>"
            ],
            "image/png": "[encoded data removed]"
          },
          "metadata": {}
        }
      ]
    },
    {
      "cell_type": "code",
      "source": [
        "# Print accuracy, precision, recall, and F1-score for each classifier\n",
        "print(\"Naive Bayes:\")\n",
        "print(f\"Accuracy: {nb_accuracy:.2f}\")\n",
        "print(f\"Precision: {nb_precision:.2f}\")\n",
        "print(f\"Recall: {nb_recall:.2f}\")\n",
        "print(f\"F1-score: {nb_f1_score:.2f}\")\n",
        "print()\n",
        "\n",
        "print(\"SVM:\")\n",
        "print(f\"Accuracy: {svm_accuracy:.2f}\")\n",
        "print(f\"Precision: {svm_precision:.2f}\")\n",
        "print(f\"Recall: {svm_recall:.2f}\")\n",
        "print(f\"F1-score: {svm_f1_score:.2f}\")\n",
        "print()\n",
        "\n",
        "print(\"Decision Tree:\")\n",
        "print(f\"Accuracy: {dt_accuracy:.2f}\")\n",
        "print(f\"Precision: {dt_precision:.2f}\")\n",
        "print(f\"Recall: {dt_recall:.2f}\")\n",
        "print(f\"F1-score: {dt_f1_score:.2f}\")\n",
        "print()\n",
        "\n",
        "print(\"Voting Ensemble:\")\n",
        "print(f\"Accuracy: {voting_accuracy:.2f}\")\n",
        "print(f\"Precision: {voting_precision:.2f}\")\n",
        "print(f\"Recall: {voting_recall:.2f}\")\n",
        "print(f\"F1-score: {voting_f1_score:.2f}\")\n"
      ],
      "metadata": {
        "colab": {
          "base_uri": "https://localhost:8080/",
          "height": 0
        },
        "id": "svR5uwRLnUgA",
        "outputId": "9552dee4-a23c-449e-bcd9-89ba152cc0ce"
      },
      "execution_count": 41,
      "outputs": [
        {
          "output_type": "stream",
          "name": "stdout",
          "text": [
            "Naive Bayes:\n",
            "Accuracy: 1.00\n",
            "Precision: 1.00\n",
            "Recall: 1.00\n",
            "F1-score: 1.00\n",
            "\n",
            "SVM:\n",
            "Accuracy: 0.98\n",
            "Precision: 0.97\n",
            "Recall: 1.00\n",
            "F1-score: 0.98\n",
            "\n",
            "Decision Tree:\n",
            "Accuracy: 0.98\n",
            "Precision: 0.97\n",
            "Recall: 1.00\n",
            "F1-score: 0.98\n",
            "\n",
            "Voting Ensemble:\n",
            "Accuracy: 0.98\n",
            "Precision: 0.97\n",
            "Recall: 1.00\n",
            "F1-score: 0.98\n"
          ]
        }
      ]
    },
    {
      "cell_type": "code",
      "source": [
        "from sklearn.model_selection import cross_val_score\n",
        "\n",
        "# Cross-validation for Naive Bayes\n",
        "nb_cv_scores = cross_val_score(nb_clf, X_train_selected, y_train, cv=5, scoring='accuracy')\n",
        "nb_cv_precision = cross_val_score(nb_clf, X_train_selected, y_train, cv=5, scoring='precision')\n",
        "nb_cv_recall = cross_val_score(nb_clf, X_train_selected, y_train, cv=5, scoring='recall')\n",
        "nb_cv_f1_score = cross_val_score(nb_clf, X_train_selected, y_train, cv=5, scoring='f1')\n",
        "\n",
        "# Cross-validation for SVM\n",
        "svm_cv_scores = cross_val_score(svm_clf, X_train_selected, y_train, cv=5, scoring='accuracy')\n",
        "svm_cv_precision = cross_val_score(svm_clf, X_train_selected, y_train, cv=5, scoring='precision')\n",
        "svm_cv_recall = cross_val_score(svm_clf, X_train_selected, y_train, cv=5, scoring='recall')\n",
        "svm_cv_f1_score = cross_val_score(svm_clf, X_train_selected, y_train, cv=5, scoring='f1')\n",
        "\n",
        "# Cross-validation for Decision Tree\n",
        "dt_cv_scores = cross_val_score(dt_clf, X_train_selected, y_train, cv=5, scoring='accuracy')\n",
        "dt_cv_precision = cross_val_score(dt_clf, X_train_selected, y_train, cv=5, scoring='precision')\n",
        "dt_cv_recall = cross_val_score(dt_clf, X_train_selected, y_train, cv=5, scoring='recall')\n",
        "dt_cv_f1_score = cross_val_score(dt_clf, X_train_selected, y_train, cv=5, scoring='f1')\n",
        "\n",
        "# Cross-validation for Voting Ensemble\n",
        "voting_cv_scores = cross_val_score(voting_clf, X_train_selected, y_train, cv=5, scoring='accuracy')\n",
        "voting_cv_precision = cross_val_score(voting_clf, X_train_selected, y_train, cv=5, scoring='precision')\n",
        "voting_cv_recall = cross_val_score(voting_clf, X_train_selected, y_train, cv=5, scoring='recall')\n",
        "voting_cv_f1_score = cross_val_score(voting_clf, X_train_selected, y_train, cv=5, scoring='f1')\n",
        "\n",
        "# Print the average cross-validation scores for each classifier\n",
        "print(\"Cross-Validation Results:\")\n",
        "print(\"Naive Bayes:\")\n",
        "print(f\"Accuracy: {nb_cv_scores.mean():.2f}\")\n",
        "print(f\"Precision: {nb_cv_precision.mean():.2f}\")\n",
        "print(f\"Recall: {nb_cv_recall.mean():.2f}\")\n",
        "print(f\"F1-score: {nb_cv_f1_score.mean():.2f}\")\n",
        "print()\n",
        "\n",
        "print(\"SVM:\")\n",
        "print(f\"Accuracy: {svm_cv_scores.mean():.2f}\")\n",
        "print(f\"Precision: {svm_cv_precision.mean():.2f}\")\n",
        "print(f\"Recall: {svm_cv_recall.mean():.2f}\")\n",
        "print(f\"F1-score: {svm_cv_f1_score.mean():.2f}\")\n",
        "print()\n",
        "\n",
        "print(\"Decision Tree:\")\n",
        "print(f\"Accuracy: {dt_cv_scores.mean():.2f}\")\n",
        "print(f\"Precision: {dt_cv_precision.mean():.2f}\")\n",
        "print(f\"Recall: {dt_cv_recall.mean():.2f}\")\n",
        "print(f\"F1-score: {dt_cv_f1_score.mean():.2f}\")\n",
        "print()\n",
        "\n",
        "print(\"Voting Ensemble:\")\n",
        "print(f\"Accuracy: {voting_cv_scores.mean():.2f}\")\n",
        "print(f\"Precision: {voting_cv_precision.mean():.2f}\")\n",
        "print(f\"Recall: {voting_cv_recall.mean():.2f}\")\n",
        "print(f\"F1-score: {voting_cv_f1_score.mean():.2f}\")\n"
      ],
      "metadata": {
        "colab": {
          "base_uri": "https://localhost:8080/",
          "height": 0
        },
        "id": "lSHuGaPsn7Wt",
        "outputId": "84063851-c980-426c-cee8-a058a967cfe8"
      },
      "execution_count": 42,
      "outputs": [
        {
          "output_type": "stream",
          "name": "stdout",
          "text": [
            "Cross-Validation Results:\n",
            "Naive Bayes:\n",
            "Accuracy: 0.96\n",
            "Precision: 0.94\n",
            "Recall: 0.98\n",
            "F1-score: 0.96\n",
            "\n",
            "SVM:\n",
            "Accuracy: 0.97\n",
            "Precision: 0.99\n",
            "Recall: 0.96\n",
            "F1-score: 0.97\n",
            "\n",
            "Decision Tree:\n",
            "Accuracy: 0.99\n",
            "Precision: 1.00\n",
            "Recall: 0.98\n",
            "F1-score: 0.99\n",
            "\n",
            "Voting Ensemble:\n",
            "Accuracy: 0.98\n",
            "Precision: 0.99\n",
            "Recall: 0.98\n",
            "F1-score: 0.98\n"
          ]
        }
      ]
    }
  ]
}