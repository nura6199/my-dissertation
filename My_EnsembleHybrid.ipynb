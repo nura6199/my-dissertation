{
  "nbformat": 4,
  "nbformat_minor": 0,
  "metadata": {
    "colab": {
      "provenance": [],
      "authorship_tag": "ABX9TyPxF0ZC/4HtgzNFDtcYESgf",
      "include_colab_link": true
    },
    "kernelspec": {
      "name": "python3",
      "display_name": "Python 3"
    },
    "language_info": {
      "name": "python"
    }
  },
  "cells": [
    {
      "cell_type": "markdown",
      "metadata": {
        "id": "view-in-github",
        "colab_type": "text"
      },
      "source": [
        "<a href=\"https://colab.research.google.com/github/nura6199/my-dissertation/blob/main/My_EnsembleHybrid.ipynb\" target=\"_parent\"><img src=\"https://colab.research.google.com/assets/colab-badge.svg\" alt=\"Open In Colab\"/></a>"
      ]
    },
    {
      "cell_type": "code",
      "execution_count": 68,
      "metadata": {
        "id": "UxgiMP_wTcmG"
      },
      "outputs": [],
      "source": [
        "import numpy as np\n",
        "import pandas as pd\n",
        "from sklearn.model_selection import train_test_split\n",
        "from sklearn.ensemble import ExtraTreesClassifier\n",
        "from sklearn.naive_bayes import GaussianNB\n",
        "from sklearn.svm import SVC\n",
        "from sklearn.tree import DecisionTreeClassifier\n",
        "from sklearn.metrics import confusion_matrix, roc_curve, auc\n",
        "import matplotlib.pyplot as plt\n",
        "from sklearn.preprocessing import LabelEncoder, StandardScaler\n",
        "\n",
        "from sklearn.ensemble import VotingClassifier\n",
        "from sklearn.feature_selection import SelectKBest, chi2"
      ]
    },
    {
      "cell_type": "code",
      "source": [
        "from google.colab import files\n",
        "uploaded = files.upload()"
      ],
      "metadata": {
        "colab": {
          "base_uri": "https://localhost:8080/",
          "height": 73
        },
        "id": "S8Tvhp9sTii6",
        "outputId": "d81b1330-e249-4cb9-b101-ade818417d96"
      },
      "execution_count": 2,
      "outputs": [
        {
          "output_type": "display_data",
          "data": {
            "text/plain": [
              "<IPython.core.display.HTML object>"
            ],
            "text/html": [
              "\n",
              "     <input type=\"file\" id=\"files-1de35866-ba56-4a3e-b2be-f3cb27eeca9e\" name=\"files[]\" multiple disabled\n",
              "        style=\"border:none\" />\n",
              "     <output id=\"result-1de35866-ba56-4a3e-b2be-f3cb27eeca9e\">\n",
              "      Upload widget is only available when the cell has been executed in the\n",
              "      current browser session. Please rerun this cell to enable.\n",
              "      </output>\n",
              "      <script>// Copyright 2017 Google LLC\n",
              "//\n",
              "// Licensed under the Apache License, Version 2.0 (the \"License\");\n",
              "// you may not use this file except in compliance with the License.\n",
              "// You may obtain a copy of the License at\n",
              "//\n",
              "//      http://www.apache.org/licenses/LICENSE-2.0\n",
              "//\n",
              "// Unless required by applicable law or agreed to in writing, software\n",
              "// distributed under the License is distributed on an \"AS IS\" BASIS,\n",
              "// WITHOUT WARRANTIES OR CONDITIONS OF ANY KIND, either express or implied.\n",
              "// See the License for the specific language governing permissions and\n",
              "// limitations under the License.\n",
              "\n",
              "/**\n",
              " * @fileoverview Helpers for google.colab Python module.\n",
              " */\n",
              "(function(scope) {\n",
              "function span(text, styleAttributes = {}) {\n",
              "  const element = document.createElement('span');\n",
              "  element.textContent = text;\n",
              "  for (const key of Object.keys(styleAttributes)) {\n",
              "    element.style[key] = styleAttributes[key];\n",
              "  }\n",
              "  return element;\n",
              "}\n",
              "\n",
              "// Max number of bytes which will be uploaded at a time.\n",
              "const MAX_PAYLOAD_SIZE = 100 * 1024;\n",
              "\n",
              "function _uploadFiles(inputId, outputId) {\n",
              "  const steps = uploadFilesStep(inputId, outputId);\n",
              "  const outputElement = document.getElementById(outputId);\n",
              "  // Cache steps on the outputElement to make it available for the next call\n",
              "  // to uploadFilesContinue from Python.\n",
              "  outputElement.steps = steps;\n",
              "\n",
              "  return _uploadFilesContinue(outputId);\n",
              "}\n",
              "\n",
              "// This is roughly an async generator (not supported in the browser yet),\n",
              "// where there are multiple asynchronous steps and the Python side is going\n",
              "// to poll for completion of each step.\n",
              "// This uses a Promise to block the python side on completion of each step,\n",
              "// then passes the result of the previous step as the input to the next step.\n",
              "function _uploadFilesContinue(outputId) {\n",
              "  const outputElement = document.getElementById(outputId);\n",
              "  const steps = outputElement.steps;\n",
              "\n",
              "  const next = steps.next(outputElement.lastPromiseValue);\n",
              "  return Promise.resolve(next.value.promise).then((value) => {\n",
              "    // Cache the last promise value to make it available to the next\n",
              "    // step of the generator.\n",
              "    outputElement.lastPromiseValue = value;\n",
              "    return next.value.response;\n",
              "  });\n",
              "}\n",
              "\n",
              "/**\n",
              " * Generator function which is called between each async step of the upload\n",
              " * process.\n",
              " * @param {string} inputId Element ID of the input file picker element.\n",
              " * @param {string} outputId Element ID of the output display.\n",
              " * @return {!Iterable<!Object>} Iterable of next steps.\n",
              " */\n",
              "function* uploadFilesStep(inputId, outputId) {\n",
              "  const inputElement = document.getElementById(inputId);\n",
              "  inputElement.disabled = false;\n",
              "\n",
              "  const outputElement = document.getElementById(outputId);\n",
              "  outputElement.innerHTML = '';\n",
              "\n",
              "  const pickedPromise = new Promise((resolve) => {\n",
              "    inputElement.addEventListener('change', (e) => {\n",
              "      resolve(e.target.files);\n",
              "    });\n",
              "  });\n",
              "\n",
              "  const cancel = document.createElement('button');\n",
              "  inputElement.parentElement.appendChild(cancel);\n",
              "  cancel.textContent = 'Cancel upload';\n",
              "  const cancelPromise = new Promise((resolve) => {\n",
              "    cancel.onclick = () => {\n",
              "      resolve(null);\n",
              "    };\n",
              "  });\n",
              "\n",
              "  // Wait for the user to pick the files.\n",
              "  const files = yield {\n",
              "    promise: Promise.race([pickedPromise, cancelPromise]),\n",
              "    response: {\n",
              "      action: 'starting',\n",
              "    }\n",
              "  };\n",
              "\n",
              "  cancel.remove();\n",
              "\n",
              "  // Disable the input element since further picks are not allowed.\n",
              "  inputElement.disabled = true;\n",
              "\n",
              "  if (!files) {\n",
              "    return {\n",
              "      response: {\n",
              "        action: 'complete',\n",
              "      }\n",
              "    };\n",
              "  }\n",
              "\n",
              "  for (const file of files) {\n",
              "    const li = document.createElement('li');\n",
              "    li.append(span(file.name, {fontWeight: 'bold'}));\n",
              "    li.append(span(\n",
              "        `(${file.type || 'n/a'}) - ${file.size} bytes, ` +\n",
              "        `last modified: ${\n",
              "            file.lastModifiedDate ? file.lastModifiedDate.toLocaleDateString() :\n",
              "                                    'n/a'} - `));\n",
              "    const percent = span('0% done');\n",
              "    li.appendChild(percent);\n",
              "\n",
              "    outputElement.appendChild(li);\n",
              "\n",
              "    const fileDataPromise = new Promise((resolve) => {\n",
              "      const reader = new FileReader();\n",
              "      reader.onload = (e) => {\n",
              "        resolve(e.target.result);\n",
              "      };\n",
              "      reader.readAsArrayBuffer(file);\n",
              "    });\n",
              "    // Wait for the data to be ready.\n",
              "    let fileData = yield {\n",
              "      promise: fileDataPromise,\n",
              "      response: {\n",
              "        action: 'continue',\n",
              "      }\n",
              "    };\n",
              "\n",
              "    // Use a chunked sending to avoid message size limits. See b/62115660.\n",
              "    let position = 0;\n",
              "    do {\n",
              "      const length = Math.min(fileData.byteLength - position, MAX_PAYLOAD_SIZE);\n",
              "      const chunk = new Uint8Array(fileData, position, length);\n",
              "      position += length;\n",
              "\n",
              "      const base64 = btoa(String.fromCharCode.apply(null, chunk));\n",
              "      yield {\n",
              "        response: {\n",
              "          action: 'append',\n",
              "          file: file.name,\n",
              "          data: base64,\n",
              "        },\n",
              "      };\n",
              "\n",
              "      let percentDone = fileData.byteLength === 0 ?\n",
              "          100 :\n",
              "          Math.round((position / fileData.byteLength) * 100);\n",
              "      percent.textContent = `${percentDone}% done`;\n",
              "\n",
              "    } while (position < fileData.byteLength);\n",
              "  }\n",
              "\n",
              "  // All done.\n",
              "  yield {\n",
              "    response: {\n",
              "      action: 'complete',\n",
              "    }\n",
              "  };\n",
              "}\n",
              "\n",
              "scope.google = scope.google || {};\n",
              "scope.google.colab = scope.google.colab || {};\n",
              "scope.google.colab._files = {\n",
              "  _uploadFiles,\n",
              "  _uploadFilesContinue,\n",
              "};\n",
              "})(self);\n",
              "</script> "
            ]
          },
          "metadata": {}
        },
        {
          "output_type": "stream",
          "name": "stdout",
          "text": [
            "Saving chronic_kidney_disease.csv to chronic_kidney_disease.csv\n"
          ]
        }
      ]
    },
    {
      "cell_type": "code",
      "source": [
        "# Load the dataset\n",
        "data = pd.read_csv('chronic_kidney_disease.csv')"
      ],
      "metadata": {
        "id": "RCMJLjXkUPdD"
      },
      "execution_count": 4,
      "outputs": []
    },
    {
      "cell_type": "markdown",
      "source": [
        " Check out the data dictionary. What are a few features or relationships you might be interested in checking out?"
      ],
      "metadata": {
        "id": "YfLLbhyiHGQV"
      }
    },
    {
      "cell_type": "code",
      "source": [
        "data.head()"
      ],
      "metadata": {
        "colab": {
          "base_uri": "https://localhost:8080/",
          "height": 235
        },
        "id": "lILkxGv7HItD",
        "outputId": "109f25d5-d9ed-4d2a-98a5-f8a434f16c06"
      },
      "execution_count": 5,
      "outputs": [
        {
          "output_type": "execute_result",
          "data": {
            "text/plain": [
              "  age  bp     sg al su  rbc  pc  pcc  ba  bgr  ... pcv  wbcc rbcc htn dm  cad  \\\n",
              "0  48  80   1.02  1  0    0   0    1   1  121  ...  44  7800  5.2   0  0    1   \n",
              "1   7  50   1.02  4  0    0   0    1   1    ?  ...  38  6000  0.0   1  1    1   \n",
              "2  62  80   1.01  2  3    0   0    1   1  423  ...  31  7500  0.0   1  0    1   \n",
              "3  48  70  1.005  4  0    0   1    0   1  117  ...  32  6700  3.9   0  1    1   \n",
              "4  51  80   1.01  2  0    0   0    1   1  106  ...  35  7300  4.6   1  1    1   \n",
              "\n",
              "   appet  pe  ane  class  \n",
              "0      1   1    1    ckd  \n",
              "1      1   1    1    ckd  \n",
              "2      0   1    0    ckd  \n",
              "3      0   0    0    ckd  \n",
              "4      1   1    1    ckd  \n",
              "\n",
              "[5 rows x 25 columns]"
            ],
            "text/html": [
              "\n",
              "  <div id=\"df-0c26a284-63cd-42ee-81b3-25168cf27b5e\" class=\"colab-df-container\">\n",
              "    <div>\n",
              "<style scoped>\n",
              "    .dataframe tbody tr th:only-of-type {\n",
              "        vertical-align: middle;\n",
              "    }\n",
              "\n",
              "    .dataframe tbody tr th {\n",
              "        vertical-align: top;\n",
              "    }\n",
              "\n",
              "    .dataframe thead th {\n",
              "        text-align: right;\n",
              "    }\n",
              "</style>\n",
              "<table border=\"1\" class=\"dataframe\">\n",
              "  <thead>\n",
              "    <tr style=\"text-align: right;\">\n",
              "      <th></th>\n",
              "      <th>age</th>\n",
              "      <th>bp</th>\n",
              "      <th>sg</th>\n",
              "      <th>al</th>\n",
              "      <th>su</th>\n",
              "      <th>rbc</th>\n",
              "      <th>pc</th>\n",
              "      <th>pcc</th>\n",
              "      <th>ba</th>\n",
              "      <th>bgr</th>\n",
              "      <th>...</th>\n",
              "      <th>pcv</th>\n",
              "      <th>wbcc</th>\n",
              "      <th>rbcc</th>\n",
              "      <th>htn</th>\n",
              "      <th>dm</th>\n",
              "      <th>cad</th>\n",
              "      <th>appet</th>\n",
              "      <th>pe</th>\n",
              "      <th>ane</th>\n",
              "      <th>class</th>\n",
              "    </tr>\n",
              "  </thead>\n",
              "  <tbody>\n",
              "    <tr>\n",
              "      <th>0</th>\n",
              "      <td>48</td>\n",
              "      <td>80</td>\n",
              "      <td>1.02</td>\n",
              "      <td>1</td>\n",
              "      <td>0</td>\n",
              "      <td>0</td>\n",
              "      <td>0</td>\n",
              "      <td>1</td>\n",
              "      <td>1</td>\n",
              "      <td>121</td>\n",
              "      <td>...</td>\n",
              "      <td>44</td>\n",
              "      <td>7800</td>\n",
              "      <td>5.2</td>\n",
              "      <td>0</td>\n",
              "      <td>0</td>\n",
              "      <td>1</td>\n",
              "      <td>1</td>\n",
              "      <td>1</td>\n",
              "      <td>1</td>\n",
              "      <td>ckd</td>\n",
              "    </tr>\n",
              "    <tr>\n",
              "      <th>1</th>\n",
              "      <td>7</td>\n",
              "      <td>50</td>\n",
              "      <td>1.02</td>\n",
              "      <td>4</td>\n",
              "      <td>0</td>\n",
              "      <td>0</td>\n",
              "      <td>0</td>\n",
              "      <td>1</td>\n",
              "      <td>1</td>\n",
              "      <td>?</td>\n",
              "      <td>...</td>\n",
              "      <td>38</td>\n",
              "      <td>6000</td>\n",
              "      <td>0.0</td>\n",
              "      <td>1</td>\n",
              "      <td>1</td>\n",
              "      <td>1</td>\n",
              "      <td>1</td>\n",
              "      <td>1</td>\n",
              "      <td>1</td>\n",
              "      <td>ckd</td>\n",
              "    </tr>\n",
              "    <tr>\n",
              "      <th>2</th>\n",
              "      <td>62</td>\n",
              "      <td>80</td>\n",
              "      <td>1.01</td>\n",
              "      <td>2</td>\n",
              "      <td>3</td>\n",
              "      <td>0</td>\n",
              "      <td>0</td>\n",
              "      <td>1</td>\n",
              "      <td>1</td>\n",
              "      <td>423</td>\n",
              "      <td>...</td>\n",
              "      <td>31</td>\n",
              "      <td>7500</td>\n",
              "      <td>0.0</td>\n",
              "      <td>1</td>\n",
              "      <td>0</td>\n",
              "      <td>1</td>\n",
              "      <td>0</td>\n",
              "      <td>1</td>\n",
              "      <td>0</td>\n",
              "      <td>ckd</td>\n",
              "    </tr>\n",
              "    <tr>\n",
              "      <th>3</th>\n",
              "      <td>48</td>\n",
              "      <td>70</td>\n",
              "      <td>1.005</td>\n",
              "      <td>4</td>\n",
              "      <td>0</td>\n",
              "      <td>0</td>\n",
              "      <td>1</td>\n",
              "      <td>0</td>\n",
              "      <td>1</td>\n",
              "      <td>117</td>\n",
              "      <td>...</td>\n",
              "      <td>32</td>\n",
              "      <td>6700</td>\n",
              "      <td>3.9</td>\n",
              "      <td>0</td>\n",
              "      <td>1</td>\n",
              "      <td>1</td>\n",
              "      <td>0</td>\n",
              "      <td>0</td>\n",
              "      <td>0</td>\n",
              "      <td>ckd</td>\n",
              "    </tr>\n",
              "    <tr>\n",
              "      <th>4</th>\n",
              "      <td>51</td>\n",
              "      <td>80</td>\n",
              "      <td>1.01</td>\n",
              "      <td>2</td>\n",
              "      <td>0</td>\n",
              "      <td>0</td>\n",
              "      <td>0</td>\n",
              "      <td>1</td>\n",
              "      <td>1</td>\n",
              "      <td>106</td>\n",
              "      <td>...</td>\n",
              "      <td>35</td>\n",
              "      <td>7300</td>\n",
              "      <td>4.6</td>\n",
              "      <td>1</td>\n",
              "      <td>1</td>\n",
              "      <td>1</td>\n",
              "      <td>1</td>\n",
              "      <td>1</td>\n",
              "      <td>1</td>\n",
              "      <td>ckd</td>\n",
              "    </tr>\n",
              "  </tbody>\n",
              "</table>\n",
              "<p>5 rows × 25 columns</p>\n",
              "</div>\n",
              "    <div class=\"colab-df-buttons\">\n",
              "\n",
              "  <div class=\"colab-df-container\">\n",
              "    <button class=\"colab-df-convert\" onclick=\"convertToInteractive('df-0c26a284-63cd-42ee-81b3-25168cf27b5e')\"\n",
              "            title=\"Convert this dataframe to an interactive table.\"\n",
              "            style=\"display:none;\">\n",
              "\n",
              "  <svg xmlns=\"http://www.w3.org/2000/svg\" height=\"24px\" viewBox=\"0 -960 960 960\">\n",
              "    <path d=\"M120-120v-720h720v720H120Zm60-500h600v-160H180v160Zm220 220h160v-160H400v160Zm0 220h160v-160H400v160ZM180-400h160v-160H180v160Zm440 0h160v-160H620v160ZM180-180h160v-160H180v160Zm440 0h160v-160H620v160Z\"/>\n",
              "  </svg>\n",
              "    </button>\n",
              "\n",
              "  <style>\n",
              "    .colab-df-container {\n",
              "      display:flex;\n",
              "      gap: 12px;\n",
              "    }\n",
              "\n",
              "    .colab-df-convert {\n",
              "      background-color: #E8F0FE;\n",
              "      border: none;\n",
              "      border-radius: 50%;\n",
              "      cursor: pointer;\n",
              "      display: none;\n",
              "      fill: #1967D2;\n",
              "      height: 32px;\n",
              "      padding: 0 0 0 0;\n",
              "      width: 32px;\n",
              "    }\n",
              "\n",
              "    .colab-df-convert:hover {\n",
              "      background-color: #E2EBFA;\n",
              "      box-shadow: 0px 1px 2px rgba(60, 64, 67, 0.3), 0px 1px 3px 1px rgba(60, 64, 67, 0.15);\n",
              "      fill: #174EA6;\n",
              "    }\n",
              "\n",
              "    .colab-df-buttons div {\n",
              "      margin-bottom: 4px;\n",
              "    }\n",
              "\n",
              "    [theme=dark] .colab-df-convert {\n",
              "      background-color: #3B4455;\n",
              "      fill: #D2E3FC;\n",
              "    }\n",
              "\n",
              "    [theme=dark] .colab-df-convert:hover {\n",
              "      background-color: #434B5C;\n",
              "      box-shadow: 0px 1px 3px 1px rgba(0, 0, 0, 0.15);\n",
              "      filter: drop-shadow(0px 1px 2px rgba(0, 0, 0, 0.3));\n",
              "      fill: #FFFFFF;\n",
              "    }\n",
              "  </style>\n",
              "\n",
              "    <script>\n",
              "      const buttonEl =\n",
              "        document.querySelector('#df-0c26a284-63cd-42ee-81b3-25168cf27b5e button.colab-df-convert');\n",
              "      buttonEl.style.display =\n",
              "        google.colab.kernel.accessAllowed ? 'block' : 'none';\n",
              "\n",
              "      async function convertToInteractive(key) {\n",
              "        const element = document.querySelector('#df-0c26a284-63cd-42ee-81b3-25168cf27b5e');\n",
              "        const dataTable =\n",
              "          await google.colab.kernel.invokeFunction('convertToInteractive',\n",
              "                                                    [key], {});\n",
              "        if (!dataTable) return;\n",
              "\n",
              "        const docLinkHtml = 'Like what you see? Visit the ' +\n",
              "          '<a target=\"_blank\" href=https://colab.research.google.com/notebooks/data_table.ipynb>data table notebook</a>'\n",
              "          + ' to learn more about interactive tables.';\n",
              "        element.innerHTML = '';\n",
              "        dataTable['output_type'] = 'display_data';\n",
              "        await google.colab.output.renderOutput(dataTable, element);\n",
              "        const docLink = document.createElement('div');\n",
              "        docLink.innerHTML = docLinkHtml;\n",
              "        element.appendChild(docLink);\n",
              "      }\n",
              "    </script>\n",
              "  </div>\n",
              "\n",
              "\n",
              "<div id=\"df-284c0845-3f8d-4740-a637-3c8831d2ab78\">\n",
              "  <button class=\"colab-df-quickchart\" onclick=\"quickchart('df-284c0845-3f8d-4740-a637-3c8831d2ab78')\"\n",
              "            title=\"Suggest charts.\"\n",
              "            style=\"display:none;\">\n",
              "\n",
              "<svg xmlns=\"http://www.w3.org/2000/svg\" height=\"24px\"viewBox=\"0 0 24 24\"\n",
              "     width=\"24px\">\n",
              "    <g>\n",
              "        <path d=\"M19 3H5c-1.1 0-2 .9-2 2v14c0 1.1.9 2 2 2h14c1.1 0 2-.9 2-2V5c0-1.1-.9-2-2-2zM9 17H7v-7h2v7zm4 0h-2V7h2v10zm4 0h-2v-4h2v4z\"/>\n",
              "    </g>\n",
              "</svg>\n",
              "  </button>\n",
              "\n",
              "<style>\n",
              "  .colab-df-quickchart {\n",
              "      --bg-color: #E8F0FE;\n",
              "      --fill-color: #1967D2;\n",
              "      --hover-bg-color: #E2EBFA;\n",
              "      --hover-fill-color: #174EA6;\n",
              "      --disabled-fill-color: #AAA;\n",
              "      --disabled-bg-color: #DDD;\n",
              "  }\n",
              "\n",
              "  [theme=dark] .colab-df-quickchart {\n",
              "      --bg-color: #3B4455;\n",
              "      --fill-color: #D2E3FC;\n",
              "      --hover-bg-color: #434B5C;\n",
              "      --hover-fill-color: #FFFFFF;\n",
              "      --disabled-bg-color: #3B4455;\n",
              "      --disabled-fill-color: #666;\n",
              "  }\n",
              "\n",
              "  .colab-df-quickchart {\n",
              "    background-color: var(--bg-color);\n",
              "    border: none;\n",
              "    border-radius: 50%;\n",
              "    cursor: pointer;\n",
              "    display: none;\n",
              "    fill: var(--fill-color);\n",
              "    height: 32px;\n",
              "    padding: 0;\n",
              "    width: 32px;\n",
              "  }\n",
              "\n",
              "  .colab-df-quickchart:hover {\n",
              "    background-color: var(--hover-bg-color);\n",
              "    box-shadow: 0 1px 2px rgba(60, 64, 67, 0.3), 0 1px 3px 1px rgba(60, 64, 67, 0.15);\n",
              "    fill: var(--button-hover-fill-color);\n",
              "  }\n",
              "\n",
              "  .colab-df-quickchart-complete:disabled,\n",
              "  .colab-df-quickchart-complete:disabled:hover {\n",
              "    background-color: var(--disabled-bg-color);\n",
              "    fill: var(--disabled-fill-color);\n",
              "    box-shadow: none;\n",
              "  }\n",
              "\n",
              "  .colab-df-spinner {\n",
              "    border: 2px solid var(--fill-color);\n",
              "    border-color: transparent;\n",
              "    border-bottom-color: var(--fill-color);\n",
              "    animation:\n",
              "      spin 1s steps(1) infinite;\n",
              "  }\n",
              "\n",
              "  @keyframes spin {\n",
              "    0% {\n",
              "      border-color: transparent;\n",
              "      border-bottom-color: var(--fill-color);\n",
              "      border-left-color: var(--fill-color);\n",
              "    }\n",
              "    20% {\n",
              "      border-color: transparent;\n",
              "      border-left-color: var(--fill-color);\n",
              "      border-top-color: var(--fill-color);\n",
              "    }\n",
              "    30% {\n",
              "      border-color: transparent;\n",
              "      border-left-color: var(--fill-color);\n",
              "      border-top-color: var(--fill-color);\n",
              "      border-right-color: var(--fill-color);\n",
              "    }\n",
              "    40% {\n",
              "      border-color: transparent;\n",
              "      border-right-color: var(--fill-color);\n",
              "      border-top-color: var(--fill-color);\n",
              "    }\n",
              "    60% {\n",
              "      border-color: transparent;\n",
              "      border-right-color: var(--fill-color);\n",
              "    }\n",
              "    80% {\n",
              "      border-color: transparent;\n",
              "      border-right-color: var(--fill-color);\n",
              "      border-bottom-color: var(--fill-color);\n",
              "    }\n",
              "    90% {\n",
              "      border-color: transparent;\n",
              "      border-bottom-color: var(--fill-color);\n",
              "    }\n",
              "  }\n",
              "</style>\n",
              "\n",
              "  <script>\n",
              "    async function quickchart(key) {\n",
              "      const quickchartButtonEl =\n",
              "        document.querySelector('#' + key + ' button');\n",
              "      quickchartButtonEl.disabled = true;  // To prevent multiple clicks.\n",
              "      quickchartButtonEl.classList.add('colab-df-spinner');\n",
              "      try {\n",
              "        const charts = await google.colab.kernel.invokeFunction(\n",
              "            'suggestCharts', [key], {});\n",
              "      } catch (error) {\n",
              "        console.error('Error during call to suggestCharts:', error);\n",
              "      }\n",
              "      quickchartButtonEl.classList.remove('colab-df-spinner');\n",
              "      quickchartButtonEl.classList.add('colab-df-quickchart-complete');\n",
              "    }\n",
              "    (() => {\n",
              "      let quickchartButtonEl =\n",
              "        document.querySelector('#df-284c0845-3f8d-4740-a637-3c8831d2ab78 button');\n",
              "      quickchartButtonEl.style.display =\n",
              "        google.colab.kernel.accessAllowed ? 'block' : 'none';\n",
              "    })();\n",
              "  </script>\n",
              "</div>\n",
              "    </div>\n",
              "  </div>\n"
            ]
          },
          "metadata": {},
          "execution_count": 5
        }
      ]
    },
    {
      "cell_type": "code",
      "source": [
        "data.columns"
      ],
      "metadata": {
        "colab": {
          "base_uri": "https://localhost:8080/"
        },
        "id": "OAczoFg_ICxF",
        "outputId": "eedc2149-c814-4e49-9c34-652a1870337e"
      },
      "execution_count": 6,
      "outputs": [
        {
          "output_type": "execute_result",
          "data": {
            "text/plain": [
              "Index(['age', 'bp', 'sg', 'al', 'su', 'rbc', 'pc', 'pcc', 'ba', 'bgr', 'bu',\n",
              "       'sc', 'sod', 'pot', 'hemo', 'pcv', 'wbcc', 'rbcc', 'htn', 'dm', 'cad',\n",
              "       'appet', 'pe', 'ane', 'class'],\n",
              "      dtype='object')"
            ]
          },
          "metadata": {},
          "execution_count": 6
        }
      ]
    },
    {
      "cell_type": "markdown",
      "source": [
        " Explore the data.\n",
        " How much of the data is missing from each column?"
      ],
      "metadata": {
        "id": "_iwVaEc9IRDj"
      }
    },
    {
      "cell_type": "code",
      "source": [
        "data.isnull().sum()"
      ],
      "metadata": {
        "colab": {
          "base_uri": "https://localhost:8080/"
        },
        "id": "P7TWV-73IPoT",
        "outputId": "1bf47595-60a3-43cb-e152-2393cbce7f63"
      },
      "execution_count": 7,
      "outputs": [
        {
          "output_type": "execute_result",
          "data": {
            "text/plain": [
              "age      0\n",
              "bp       0\n",
              "sg       0\n",
              "al       0\n",
              "su       0\n",
              "rbc      0\n",
              "pc       0\n",
              "pcc      0\n",
              "ba       0\n",
              "bgr      0\n",
              "bu       0\n",
              "sc       0\n",
              "sod      0\n",
              "pot      0\n",
              "hemo     0\n",
              "pcv      0\n",
              "wbcc     0\n",
              "rbcc     0\n",
              "htn      0\n",
              "dm       0\n",
              "cad      0\n",
              "appet    0\n",
              "pe       0\n",
              "ane      0\n",
              "class    0\n",
              "dtype: int64"
            ]
          },
          "metadata": {},
          "execution_count": 7
        }
      ]
    },
    {
      "cell_type": "code",
      "source": [
        "data = data.dropna()"
      ],
      "metadata": {
        "id": "pcy2fEbhI9pj"
      },
      "execution_count": 8,
      "outputs": []
    },
    {
      "cell_type": "code",
      "source": [
        "data.shape"
      ],
      "metadata": {
        "colab": {
          "base_uri": "https://localhost:8080/"
        },
        "id": "aWYsveAOIobJ",
        "outputId": "6fd98200-b532-42cd-8247-0a4aa2fdb4fc"
      },
      "execution_count": 9,
      "outputs": [
        {
          "output_type": "execute_result",
          "data": {
            "text/plain": [
              "(400, 25)"
            ]
          },
          "metadata": {},
          "execution_count": 9
        }
      ]
    },
    {
      "cell_type": "code",
      "source": [
        "data.info()"
      ],
      "metadata": {
        "colab": {
          "base_uri": "https://localhost:8080/"
        },
        "id": "dMIGIOD0KZpb",
        "outputId": "006533f3-f4b3-45f4-9cd3-fdbb9f58008f"
      },
      "execution_count": 10,
      "outputs": [
        {
          "output_type": "stream",
          "name": "stdout",
          "text": [
            "<class 'pandas.core.frame.DataFrame'>\n",
            "RangeIndex: 400 entries, 0 to 399\n",
            "Data columns (total 25 columns):\n",
            " #   Column  Non-Null Count  Dtype  \n",
            "---  ------  --------------  -----  \n",
            " 0   age     400 non-null    object \n",
            " 1   bp      400 non-null    object \n",
            " 2   sg      400 non-null    object \n",
            " 3   al      400 non-null    object \n",
            " 4   su      400 non-null    object \n",
            " 5   rbc     400 non-null    int64  \n",
            " 6   pc      400 non-null    int64  \n",
            " 7   pcc     400 non-null    int64  \n",
            " 8   ba      400 non-null    int64  \n",
            " 9   bgr     400 non-null    object \n",
            " 10  bu      400 non-null    object \n",
            " 11  sc      400 non-null    object \n",
            " 12  sod     400 non-null    object \n",
            " 13  pot     400 non-null    object \n",
            " 14  hemo    400 non-null    object \n",
            " 15  pcv     400 non-null    int64  \n",
            " 16  wbcc    400 non-null    int64  \n",
            " 17  rbcc    400 non-null    float64\n",
            " 18  htn     400 non-null    int64  \n",
            " 19  dm      400 non-null    int64  \n",
            " 20  cad     400 non-null    int64  \n",
            " 21  appet   400 non-null    int64  \n",
            " 22  pe      400 non-null    int64  \n",
            " 23  ane     400 non-null    int64  \n",
            " 24  class   400 non-null    object \n",
            "dtypes: float64(1), int64(12), object(12)\n",
            "memory usage: 78.2+ KB\n"
          ]
        }
      ]
    },
    {
      "cell_type": "code",
      "source": [
        "data.describe()"
      ],
      "metadata": {
        "colab": {
          "base_uri": "https://localhost:8080/",
          "height": 300
        },
        "id": "CEar_NfKZ7tR",
        "outputId": "e534bd93-ac1f-4761-b1c4-fa84d4556939"
      },
      "execution_count": 11,
      "outputs": [
        {
          "output_type": "execute_result",
          "data": {
            "text/plain": [
              "              rbc          pc         pcc          ba         pcv  \\\n",
              "count  400.000000  400.000000  400.000000  400.000000  400.000000   \n",
              "mean     0.117500    0.190000    0.885000    0.935000   31.982500   \n",
              "std      0.322418    0.392792    0.319421    0.246835   16.962799   \n",
              "min      0.000000    0.000000    0.000000    0.000000    0.000000   \n",
              "25%      0.000000    0.000000    1.000000    1.000000   26.000000   \n",
              "50%      0.000000    0.000000    1.000000    1.000000   37.000000   \n",
              "75%      0.000000    0.000000    1.000000    1.000000   44.000000   \n",
              "max      1.000000    1.000000    1.000000    1.000000   54.000000   \n",
              "\n",
              "               wbcc       rbcc         htn          dm         cad  \\\n",
              "count    400.000000  400.00000  400.000000  400.000000  400.000000   \n",
              "mean    6178.500000    3.16575    0.627500    0.645000    0.905000   \n",
              "std     4490.489839    2.36621    0.484076    0.479113    0.293582   \n",
              "min        0.000000    0.00000    0.000000    0.000000    0.000000   \n",
              "25%        0.000000    0.00000    0.000000    0.000000    1.000000   \n",
              "50%     6900.000000    4.00000    1.000000    1.000000    1.000000   \n",
              "75%     9400.000000    5.10000    1.000000    1.000000    1.000000   \n",
              "max    26400.000000    8.00000    1.000000    1.000000    1.000000   \n",
              "\n",
              "            appet          pe         ane  \n",
              "count  400.000000  400.000000  400.000000  \n",
              "mean     0.792500    0.807500    0.847500  \n",
              "std      0.406024    0.394757    0.359955  \n",
              "min      0.000000    0.000000    0.000000  \n",
              "25%      1.000000    1.000000    1.000000  \n",
              "50%      1.000000    1.000000    1.000000  \n",
              "75%      1.000000    1.000000    1.000000  \n",
              "max      1.000000    1.000000    1.000000  "
            ],
            "text/html": [
              "\n",
              "  <div id=\"df-4e5fbc2d-4f6b-4ca1-8f00-d1817a767878\" class=\"colab-df-container\">\n",
              "    <div>\n",
              "<style scoped>\n",
              "    .dataframe tbody tr th:only-of-type {\n",
              "        vertical-align: middle;\n",
              "    }\n",
              "\n",
              "    .dataframe tbody tr th {\n",
              "        vertical-align: top;\n",
              "    }\n",
              "\n",
              "    .dataframe thead th {\n",
              "        text-align: right;\n",
              "    }\n",
              "</style>\n",
              "<table border=\"1\" class=\"dataframe\">\n",
              "  <thead>\n",
              "    <tr style=\"text-align: right;\">\n",
              "      <th></th>\n",
              "      <th>rbc</th>\n",
              "      <th>pc</th>\n",
              "      <th>pcc</th>\n",
              "      <th>ba</th>\n",
              "      <th>pcv</th>\n",
              "      <th>wbcc</th>\n",
              "      <th>rbcc</th>\n",
              "      <th>htn</th>\n",
              "      <th>dm</th>\n",
              "      <th>cad</th>\n",
              "      <th>appet</th>\n",
              "      <th>pe</th>\n",
              "      <th>ane</th>\n",
              "    </tr>\n",
              "  </thead>\n",
              "  <tbody>\n",
              "    <tr>\n",
              "      <th>count</th>\n",
              "      <td>400.000000</td>\n",
              "      <td>400.000000</td>\n",
              "      <td>400.000000</td>\n",
              "      <td>400.000000</td>\n",
              "      <td>400.000000</td>\n",
              "      <td>400.000000</td>\n",
              "      <td>400.00000</td>\n",
              "      <td>400.000000</td>\n",
              "      <td>400.000000</td>\n",
              "      <td>400.000000</td>\n",
              "      <td>400.000000</td>\n",
              "      <td>400.000000</td>\n",
              "      <td>400.000000</td>\n",
              "    </tr>\n",
              "    <tr>\n",
              "      <th>mean</th>\n",
              "      <td>0.117500</td>\n",
              "      <td>0.190000</td>\n",
              "      <td>0.885000</td>\n",
              "      <td>0.935000</td>\n",
              "      <td>31.982500</td>\n",
              "      <td>6178.500000</td>\n",
              "      <td>3.16575</td>\n",
              "      <td>0.627500</td>\n",
              "      <td>0.645000</td>\n",
              "      <td>0.905000</td>\n",
              "      <td>0.792500</td>\n",
              "      <td>0.807500</td>\n",
              "      <td>0.847500</td>\n",
              "    </tr>\n",
              "    <tr>\n",
              "      <th>std</th>\n",
              "      <td>0.322418</td>\n",
              "      <td>0.392792</td>\n",
              "      <td>0.319421</td>\n",
              "      <td>0.246835</td>\n",
              "      <td>16.962799</td>\n",
              "      <td>4490.489839</td>\n",
              "      <td>2.36621</td>\n",
              "      <td>0.484076</td>\n",
              "      <td>0.479113</td>\n",
              "      <td>0.293582</td>\n",
              "      <td>0.406024</td>\n",
              "      <td>0.394757</td>\n",
              "      <td>0.359955</td>\n",
              "    </tr>\n",
              "    <tr>\n",
              "      <th>min</th>\n",
              "      <td>0.000000</td>\n",
              "      <td>0.000000</td>\n",
              "      <td>0.000000</td>\n",
              "      <td>0.000000</td>\n",
              "      <td>0.000000</td>\n",
              "      <td>0.000000</td>\n",
              "      <td>0.00000</td>\n",
              "      <td>0.000000</td>\n",
              "      <td>0.000000</td>\n",
              "      <td>0.000000</td>\n",
              "      <td>0.000000</td>\n",
              "      <td>0.000000</td>\n",
              "      <td>0.000000</td>\n",
              "    </tr>\n",
              "    <tr>\n",
              "      <th>25%</th>\n",
              "      <td>0.000000</td>\n",
              "      <td>0.000000</td>\n",
              "      <td>1.000000</td>\n",
              "      <td>1.000000</td>\n",
              "      <td>26.000000</td>\n",
              "      <td>0.000000</td>\n",
              "      <td>0.00000</td>\n",
              "      <td>0.000000</td>\n",
              "      <td>0.000000</td>\n",
              "      <td>1.000000</td>\n",
              "      <td>1.000000</td>\n",
              "      <td>1.000000</td>\n",
              "      <td>1.000000</td>\n",
              "    </tr>\n",
              "    <tr>\n",
              "      <th>50%</th>\n",
              "      <td>0.000000</td>\n",
              "      <td>0.000000</td>\n",
              "      <td>1.000000</td>\n",
              "      <td>1.000000</td>\n",
              "      <td>37.000000</td>\n",
              "      <td>6900.000000</td>\n",
              "      <td>4.00000</td>\n",
              "      <td>1.000000</td>\n",
              "      <td>1.000000</td>\n",
              "      <td>1.000000</td>\n",
              "      <td>1.000000</td>\n",
              "      <td>1.000000</td>\n",
              "      <td>1.000000</td>\n",
              "    </tr>\n",
              "    <tr>\n",
              "      <th>75%</th>\n",
              "      <td>0.000000</td>\n",
              "      <td>0.000000</td>\n",
              "      <td>1.000000</td>\n",
              "      <td>1.000000</td>\n",
              "      <td>44.000000</td>\n",
              "      <td>9400.000000</td>\n",
              "      <td>5.10000</td>\n",
              "      <td>1.000000</td>\n",
              "      <td>1.000000</td>\n",
              "      <td>1.000000</td>\n",
              "      <td>1.000000</td>\n",
              "      <td>1.000000</td>\n",
              "      <td>1.000000</td>\n",
              "    </tr>\n",
              "    <tr>\n",
              "      <th>max</th>\n",
              "      <td>1.000000</td>\n",
              "      <td>1.000000</td>\n",
              "      <td>1.000000</td>\n",
              "      <td>1.000000</td>\n",
              "      <td>54.000000</td>\n",
              "      <td>26400.000000</td>\n",
              "      <td>8.00000</td>\n",
              "      <td>1.000000</td>\n",
              "      <td>1.000000</td>\n",
              "      <td>1.000000</td>\n",
              "      <td>1.000000</td>\n",
              "      <td>1.000000</td>\n",
              "      <td>1.000000</td>\n",
              "    </tr>\n",
              "  </tbody>\n",
              "</table>\n",
              "</div>\n",
              "    <div class=\"colab-df-buttons\">\n",
              "\n",
              "  <div class=\"colab-df-container\">\n",
              "    <button class=\"colab-df-convert\" onclick=\"convertToInteractive('df-4e5fbc2d-4f6b-4ca1-8f00-d1817a767878')\"\n",
              "            title=\"Convert this dataframe to an interactive table.\"\n",
              "            style=\"display:none;\">\n",
              "\n",
              "  <svg xmlns=\"http://www.w3.org/2000/svg\" height=\"24px\" viewBox=\"0 -960 960 960\">\n",
              "    <path d=\"M120-120v-720h720v720H120Zm60-500h600v-160H180v160Zm220 220h160v-160H400v160Zm0 220h160v-160H400v160ZM180-400h160v-160H180v160Zm440 0h160v-160H620v160ZM180-180h160v-160H180v160Zm440 0h160v-160H620v160Z\"/>\n",
              "  </svg>\n",
              "    </button>\n",
              "\n",
              "  <style>\n",
              "    .colab-df-container {\n",
              "      display:flex;\n",
              "      gap: 12px;\n",
              "    }\n",
              "\n",
              "    .colab-df-convert {\n",
              "      background-color: #E8F0FE;\n",
              "      border: none;\n",
              "      border-radius: 50%;\n",
              "      cursor: pointer;\n",
              "      display: none;\n",
              "      fill: #1967D2;\n",
              "      height: 32px;\n",
              "      padding: 0 0 0 0;\n",
              "      width: 32px;\n",
              "    }\n",
              "\n",
              "    .colab-df-convert:hover {\n",
              "      background-color: #E2EBFA;\n",
              "      box-shadow: 0px 1px 2px rgba(60, 64, 67, 0.3), 0px 1px 3px 1px rgba(60, 64, 67, 0.15);\n",
              "      fill: #174EA6;\n",
              "    }\n",
              "\n",
              "    .colab-df-buttons div {\n",
              "      margin-bottom: 4px;\n",
              "    }\n",
              "\n",
              "    [theme=dark] .colab-df-convert {\n",
              "      background-color: #3B4455;\n",
              "      fill: #D2E3FC;\n",
              "    }\n",
              "\n",
              "    [theme=dark] .colab-df-convert:hover {\n",
              "      background-color: #434B5C;\n",
              "      box-shadow: 0px 1px 3px 1px rgba(0, 0, 0, 0.15);\n",
              "      filter: drop-shadow(0px 1px 2px rgba(0, 0, 0, 0.3));\n",
              "      fill: #FFFFFF;\n",
              "    }\n",
              "  </style>\n",
              "\n",
              "    <script>\n",
              "      const buttonEl =\n",
              "        document.querySelector('#df-4e5fbc2d-4f6b-4ca1-8f00-d1817a767878 button.colab-df-convert');\n",
              "      buttonEl.style.display =\n",
              "        google.colab.kernel.accessAllowed ? 'block' : 'none';\n",
              "\n",
              "      async function convertToInteractive(key) {\n",
              "        const element = document.querySelector('#df-4e5fbc2d-4f6b-4ca1-8f00-d1817a767878');\n",
              "        const dataTable =\n",
              "          await google.colab.kernel.invokeFunction('convertToInteractive',\n",
              "                                                    [key], {});\n",
              "        if (!dataTable) return;\n",
              "\n",
              "        const docLinkHtml = 'Like what you see? Visit the ' +\n",
              "          '<a target=\"_blank\" href=https://colab.research.google.com/notebooks/data_table.ipynb>data table notebook</a>'\n",
              "          + ' to learn more about interactive tables.';\n",
              "        element.innerHTML = '';\n",
              "        dataTable['output_type'] = 'display_data';\n",
              "        await google.colab.output.renderOutput(dataTable, element);\n",
              "        const docLink = document.createElement('div');\n",
              "        docLink.innerHTML = docLinkHtml;\n",
              "        element.appendChild(docLink);\n",
              "      }\n",
              "    </script>\n",
              "  </div>\n",
              "\n",
              "\n",
              "<div id=\"df-c9a782aa-94ec-402d-a16e-089e4dbd445d\">\n",
              "  <button class=\"colab-df-quickchart\" onclick=\"quickchart('df-c9a782aa-94ec-402d-a16e-089e4dbd445d')\"\n",
              "            title=\"Suggest charts.\"\n",
              "            style=\"display:none;\">\n",
              "\n",
              "<svg xmlns=\"http://www.w3.org/2000/svg\" height=\"24px\"viewBox=\"0 0 24 24\"\n",
              "     width=\"24px\">\n",
              "    <g>\n",
              "        <path d=\"M19 3H5c-1.1 0-2 .9-2 2v14c0 1.1.9 2 2 2h14c1.1 0 2-.9 2-2V5c0-1.1-.9-2-2-2zM9 17H7v-7h2v7zm4 0h-2V7h2v10zm4 0h-2v-4h2v4z\"/>\n",
              "    </g>\n",
              "</svg>\n",
              "  </button>\n",
              "\n",
              "<style>\n",
              "  .colab-df-quickchart {\n",
              "      --bg-color: #E8F0FE;\n",
              "      --fill-color: #1967D2;\n",
              "      --hover-bg-color: #E2EBFA;\n",
              "      --hover-fill-color: #174EA6;\n",
              "      --disabled-fill-color: #AAA;\n",
              "      --disabled-bg-color: #DDD;\n",
              "  }\n",
              "\n",
              "  [theme=dark] .colab-df-quickchart {\n",
              "      --bg-color: #3B4455;\n",
              "      --fill-color: #D2E3FC;\n",
              "      --hover-bg-color: #434B5C;\n",
              "      --hover-fill-color: #FFFFFF;\n",
              "      --disabled-bg-color: #3B4455;\n",
              "      --disabled-fill-color: #666;\n",
              "  }\n",
              "\n",
              "  .colab-df-quickchart {\n",
              "    background-color: var(--bg-color);\n",
              "    border: none;\n",
              "    border-radius: 50%;\n",
              "    cursor: pointer;\n",
              "    display: none;\n",
              "    fill: var(--fill-color);\n",
              "    height: 32px;\n",
              "    padding: 0;\n",
              "    width: 32px;\n",
              "  }\n",
              "\n",
              "  .colab-df-quickchart:hover {\n",
              "    background-color: var(--hover-bg-color);\n",
              "    box-shadow: 0 1px 2px rgba(60, 64, 67, 0.3), 0 1px 3px 1px rgba(60, 64, 67, 0.15);\n",
              "    fill: var(--button-hover-fill-color);\n",
              "  }\n",
              "\n",
              "  .colab-df-quickchart-complete:disabled,\n",
              "  .colab-df-quickchart-complete:disabled:hover {\n",
              "    background-color: var(--disabled-bg-color);\n",
              "    fill: var(--disabled-fill-color);\n",
              "    box-shadow: none;\n",
              "  }\n",
              "\n",
              "  .colab-df-spinner {\n",
              "    border: 2px solid var(--fill-color);\n",
              "    border-color: transparent;\n",
              "    border-bottom-color: var(--fill-color);\n",
              "    animation:\n",
              "      spin 1s steps(1) infinite;\n",
              "  }\n",
              "\n",
              "  @keyframes spin {\n",
              "    0% {\n",
              "      border-color: transparent;\n",
              "      border-bottom-color: var(--fill-color);\n",
              "      border-left-color: var(--fill-color);\n",
              "    }\n",
              "    20% {\n",
              "      border-color: transparent;\n",
              "      border-left-color: var(--fill-color);\n",
              "      border-top-color: var(--fill-color);\n",
              "    }\n",
              "    30% {\n",
              "      border-color: transparent;\n",
              "      border-left-color: var(--fill-color);\n",
              "      border-top-color: var(--fill-color);\n",
              "      border-right-color: var(--fill-color);\n",
              "    }\n",
              "    40% {\n",
              "      border-color: transparent;\n",
              "      border-right-color: var(--fill-color);\n",
              "      border-top-color: var(--fill-color);\n",
              "    }\n",
              "    60% {\n",
              "      border-color: transparent;\n",
              "      border-right-color: var(--fill-color);\n",
              "    }\n",
              "    80% {\n",
              "      border-color: transparent;\n",
              "      border-right-color: var(--fill-color);\n",
              "      border-bottom-color: var(--fill-color);\n",
              "    }\n",
              "    90% {\n",
              "      border-color: transparent;\n",
              "      border-bottom-color: var(--fill-color);\n",
              "    }\n",
              "  }\n",
              "</style>\n",
              "\n",
              "  <script>\n",
              "    async function quickchart(key) {\n",
              "      const quickchartButtonEl =\n",
              "        document.querySelector('#' + key + ' button');\n",
              "      quickchartButtonEl.disabled = true;  // To prevent multiple clicks.\n",
              "      quickchartButtonEl.classList.add('colab-df-spinner');\n",
              "      try {\n",
              "        const charts = await google.colab.kernel.invokeFunction(\n",
              "            'suggestCharts', [key], {});\n",
              "      } catch (error) {\n",
              "        console.error('Error during call to suggestCharts:', error);\n",
              "      }\n",
              "      quickchartButtonEl.classList.remove('colab-df-spinner');\n",
              "      quickchartButtonEl.classList.add('colab-df-quickchart-complete');\n",
              "    }\n",
              "    (() => {\n",
              "      let quickchartButtonEl =\n",
              "        document.querySelector('#df-c9a782aa-94ec-402d-a16e-089e4dbd445d button');\n",
              "      quickchartButtonEl.style.display =\n",
              "        google.colab.kernel.accessAllowed ? 'block' : 'none';\n",
              "    })();\n",
              "  </script>\n",
              "</div>\n",
              "    </div>\n",
              "  </div>\n"
            ]
          },
          "metadata": {},
          "execution_count": 11
        }
      ]
    },
    {
      "cell_type": "code",
      "source": [
        "data.head()"
      ],
      "metadata": {
        "colab": {
          "base_uri": "https://localhost:8080/",
          "height": 235
        },
        "id": "lMINNe8qYCQm",
        "outputId": "40728eda-0192-490d-97a4-43cc9783eec7"
      },
      "execution_count": 12,
      "outputs": [
        {
          "output_type": "execute_result",
          "data": {
            "text/plain": [
              "  age  bp     sg al su  rbc  pc  pcc  ba  bgr  ... pcv  wbcc rbcc htn dm  cad  \\\n",
              "0  48  80   1.02  1  0    0   0    1   1  121  ...  44  7800  5.2   0  0    1   \n",
              "1   7  50   1.02  4  0    0   0    1   1    ?  ...  38  6000  0.0   1  1    1   \n",
              "2  62  80   1.01  2  3    0   0    1   1  423  ...  31  7500  0.0   1  0    1   \n",
              "3  48  70  1.005  4  0    0   1    0   1  117  ...  32  6700  3.9   0  1    1   \n",
              "4  51  80   1.01  2  0    0   0    1   1  106  ...  35  7300  4.6   1  1    1   \n",
              "\n",
              "   appet  pe  ane  class  \n",
              "0      1   1    1    ckd  \n",
              "1      1   1    1    ckd  \n",
              "2      0   1    0    ckd  \n",
              "3      0   0    0    ckd  \n",
              "4      1   1    1    ckd  \n",
              "\n",
              "[5 rows x 25 columns]"
            ],
            "text/html": [
              "\n",
              "  <div id=\"df-dddeee57-77c7-42fb-9a2a-1c0f417b3e06\" class=\"colab-df-container\">\n",
              "    <div>\n",
              "<style scoped>\n",
              "    .dataframe tbody tr th:only-of-type {\n",
              "        vertical-align: middle;\n",
              "    }\n",
              "\n",
              "    .dataframe tbody tr th {\n",
              "        vertical-align: top;\n",
              "    }\n",
              "\n",
              "    .dataframe thead th {\n",
              "        text-align: right;\n",
              "    }\n",
              "</style>\n",
              "<table border=\"1\" class=\"dataframe\">\n",
              "  <thead>\n",
              "    <tr style=\"text-align: right;\">\n",
              "      <th></th>\n",
              "      <th>age</th>\n",
              "      <th>bp</th>\n",
              "      <th>sg</th>\n",
              "      <th>al</th>\n",
              "      <th>su</th>\n",
              "      <th>rbc</th>\n",
              "      <th>pc</th>\n",
              "      <th>pcc</th>\n",
              "      <th>ba</th>\n",
              "      <th>bgr</th>\n",
              "      <th>...</th>\n",
              "      <th>pcv</th>\n",
              "      <th>wbcc</th>\n",
              "      <th>rbcc</th>\n",
              "      <th>htn</th>\n",
              "      <th>dm</th>\n",
              "      <th>cad</th>\n",
              "      <th>appet</th>\n",
              "      <th>pe</th>\n",
              "      <th>ane</th>\n",
              "      <th>class</th>\n",
              "    </tr>\n",
              "  </thead>\n",
              "  <tbody>\n",
              "    <tr>\n",
              "      <th>0</th>\n",
              "      <td>48</td>\n",
              "      <td>80</td>\n",
              "      <td>1.02</td>\n",
              "      <td>1</td>\n",
              "      <td>0</td>\n",
              "      <td>0</td>\n",
              "      <td>0</td>\n",
              "      <td>1</td>\n",
              "      <td>1</td>\n",
              "      <td>121</td>\n",
              "      <td>...</td>\n",
              "      <td>44</td>\n",
              "      <td>7800</td>\n",
              "      <td>5.2</td>\n",
              "      <td>0</td>\n",
              "      <td>0</td>\n",
              "      <td>1</td>\n",
              "      <td>1</td>\n",
              "      <td>1</td>\n",
              "      <td>1</td>\n",
              "      <td>ckd</td>\n",
              "    </tr>\n",
              "    <tr>\n",
              "      <th>1</th>\n",
              "      <td>7</td>\n",
              "      <td>50</td>\n",
              "      <td>1.02</td>\n",
              "      <td>4</td>\n",
              "      <td>0</td>\n",
              "      <td>0</td>\n",
              "      <td>0</td>\n",
              "      <td>1</td>\n",
              "      <td>1</td>\n",
              "      <td>?</td>\n",
              "      <td>...</td>\n",
              "      <td>38</td>\n",
              "      <td>6000</td>\n",
              "      <td>0.0</td>\n",
              "      <td>1</td>\n",
              "      <td>1</td>\n",
              "      <td>1</td>\n",
              "      <td>1</td>\n",
              "      <td>1</td>\n",
              "      <td>1</td>\n",
              "      <td>ckd</td>\n",
              "    </tr>\n",
              "    <tr>\n",
              "      <th>2</th>\n",
              "      <td>62</td>\n",
              "      <td>80</td>\n",
              "      <td>1.01</td>\n",
              "      <td>2</td>\n",
              "      <td>3</td>\n",
              "      <td>0</td>\n",
              "      <td>0</td>\n",
              "      <td>1</td>\n",
              "      <td>1</td>\n",
              "      <td>423</td>\n",
              "      <td>...</td>\n",
              "      <td>31</td>\n",
              "      <td>7500</td>\n",
              "      <td>0.0</td>\n",
              "      <td>1</td>\n",
              "      <td>0</td>\n",
              "      <td>1</td>\n",
              "      <td>0</td>\n",
              "      <td>1</td>\n",
              "      <td>0</td>\n",
              "      <td>ckd</td>\n",
              "    </tr>\n",
              "    <tr>\n",
              "      <th>3</th>\n",
              "      <td>48</td>\n",
              "      <td>70</td>\n",
              "      <td>1.005</td>\n",
              "      <td>4</td>\n",
              "      <td>0</td>\n",
              "      <td>0</td>\n",
              "      <td>1</td>\n",
              "      <td>0</td>\n",
              "      <td>1</td>\n",
              "      <td>117</td>\n",
              "      <td>...</td>\n",
              "      <td>32</td>\n",
              "      <td>6700</td>\n",
              "      <td>3.9</td>\n",
              "      <td>0</td>\n",
              "      <td>1</td>\n",
              "      <td>1</td>\n",
              "      <td>0</td>\n",
              "      <td>0</td>\n",
              "      <td>0</td>\n",
              "      <td>ckd</td>\n",
              "    </tr>\n",
              "    <tr>\n",
              "      <th>4</th>\n",
              "      <td>51</td>\n",
              "      <td>80</td>\n",
              "      <td>1.01</td>\n",
              "      <td>2</td>\n",
              "      <td>0</td>\n",
              "      <td>0</td>\n",
              "      <td>0</td>\n",
              "      <td>1</td>\n",
              "      <td>1</td>\n",
              "      <td>106</td>\n",
              "      <td>...</td>\n",
              "      <td>35</td>\n",
              "      <td>7300</td>\n",
              "      <td>4.6</td>\n",
              "      <td>1</td>\n",
              "      <td>1</td>\n",
              "      <td>1</td>\n",
              "      <td>1</td>\n",
              "      <td>1</td>\n",
              "      <td>1</td>\n",
              "      <td>ckd</td>\n",
              "    </tr>\n",
              "  </tbody>\n",
              "</table>\n",
              "<p>5 rows × 25 columns</p>\n",
              "</div>\n",
              "    <div class=\"colab-df-buttons\">\n",
              "\n",
              "  <div class=\"colab-df-container\">\n",
              "    <button class=\"colab-df-convert\" onclick=\"convertToInteractive('df-dddeee57-77c7-42fb-9a2a-1c0f417b3e06')\"\n",
              "            title=\"Convert this dataframe to an interactive table.\"\n",
              "            style=\"display:none;\">\n",
              "\n",
              "  <svg xmlns=\"http://www.w3.org/2000/svg\" height=\"24px\" viewBox=\"0 -960 960 960\">\n",
              "    <path d=\"M120-120v-720h720v720H120Zm60-500h600v-160H180v160Zm220 220h160v-160H400v160Zm0 220h160v-160H400v160ZM180-400h160v-160H180v160Zm440 0h160v-160H620v160ZM180-180h160v-160H180v160Zm440 0h160v-160H620v160Z\"/>\n",
              "  </svg>\n",
              "    </button>\n",
              "\n",
              "  <style>\n",
              "    .colab-df-container {\n",
              "      display:flex;\n",
              "      gap: 12px;\n",
              "    }\n",
              "\n",
              "    .colab-df-convert {\n",
              "      background-color: #E8F0FE;\n",
              "      border: none;\n",
              "      border-radius: 50%;\n",
              "      cursor: pointer;\n",
              "      display: none;\n",
              "      fill: #1967D2;\n",
              "      height: 32px;\n",
              "      padding: 0 0 0 0;\n",
              "      width: 32px;\n",
              "    }\n",
              "\n",
              "    .colab-df-convert:hover {\n",
              "      background-color: #E2EBFA;\n",
              "      box-shadow: 0px 1px 2px rgba(60, 64, 67, 0.3), 0px 1px 3px 1px rgba(60, 64, 67, 0.15);\n",
              "      fill: #174EA6;\n",
              "    }\n",
              "\n",
              "    .colab-df-buttons div {\n",
              "      margin-bottom: 4px;\n",
              "    }\n",
              "\n",
              "    [theme=dark] .colab-df-convert {\n",
              "      background-color: #3B4455;\n",
              "      fill: #D2E3FC;\n",
              "    }\n",
              "\n",
              "    [theme=dark] .colab-df-convert:hover {\n",
              "      background-color: #434B5C;\n",
              "      box-shadow: 0px 1px 3px 1px rgba(0, 0, 0, 0.15);\n",
              "      filter: drop-shadow(0px 1px 2px rgba(0, 0, 0, 0.3));\n",
              "      fill: #FFFFFF;\n",
              "    }\n",
              "  </style>\n",
              "\n",
              "    <script>\n",
              "      const buttonEl =\n",
              "        document.querySelector('#df-dddeee57-77c7-42fb-9a2a-1c0f417b3e06 button.colab-df-convert');\n",
              "      buttonEl.style.display =\n",
              "        google.colab.kernel.accessAllowed ? 'block' : 'none';\n",
              "\n",
              "      async function convertToInteractive(key) {\n",
              "        const element = document.querySelector('#df-dddeee57-77c7-42fb-9a2a-1c0f417b3e06');\n",
              "        const dataTable =\n",
              "          await google.colab.kernel.invokeFunction('convertToInteractive',\n",
              "                                                    [key], {});\n",
              "        if (!dataTable) return;\n",
              "\n",
              "        const docLinkHtml = 'Like what you see? Visit the ' +\n",
              "          '<a target=\"_blank\" href=https://colab.research.google.com/notebooks/data_table.ipynb>data table notebook</a>'\n",
              "          + ' to learn more about interactive tables.';\n",
              "        element.innerHTML = '';\n",
              "        dataTable['output_type'] = 'display_data';\n",
              "        await google.colab.output.renderOutput(dataTable, element);\n",
              "        const docLink = document.createElement('div');\n",
              "        docLink.innerHTML = docLinkHtml;\n",
              "        element.appendChild(docLink);\n",
              "      }\n",
              "    </script>\n",
              "  </div>\n",
              "\n",
              "\n",
              "<div id=\"df-7c0da3c5-8721-47df-884f-bc591c903c92\">\n",
              "  <button class=\"colab-df-quickchart\" onclick=\"quickchart('df-7c0da3c5-8721-47df-884f-bc591c903c92')\"\n",
              "            title=\"Suggest charts.\"\n",
              "            style=\"display:none;\">\n",
              "\n",
              "<svg xmlns=\"http://www.w3.org/2000/svg\" height=\"24px\"viewBox=\"0 0 24 24\"\n",
              "     width=\"24px\">\n",
              "    <g>\n",
              "        <path d=\"M19 3H5c-1.1 0-2 .9-2 2v14c0 1.1.9 2 2 2h14c1.1 0 2-.9 2-2V5c0-1.1-.9-2-2-2zM9 17H7v-7h2v7zm4 0h-2V7h2v10zm4 0h-2v-4h2v4z\"/>\n",
              "    </g>\n",
              "</svg>\n",
              "  </button>\n",
              "\n",
              "<style>\n",
              "  .colab-df-quickchart {\n",
              "      --bg-color: #E8F0FE;\n",
              "      --fill-color: #1967D2;\n",
              "      --hover-bg-color: #E2EBFA;\n",
              "      --hover-fill-color: #174EA6;\n",
              "      --disabled-fill-color: #AAA;\n",
              "      --disabled-bg-color: #DDD;\n",
              "  }\n",
              "\n",
              "  [theme=dark] .colab-df-quickchart {\n",
              "      --bg-color: #3B4455;\n",
              "      --fill-color: #D2E3FC;\n",
              "      --hover-bg-color: #434B5C;\n",
              "      --hover-fill-color: #FFFFFF;\n",
              "      --disabled-bg-color: #3B4455;\n",
              "      --disabled-fill-color: #666;\n",
              "  }\n",
              "\n",
              "  .colab-df-quickchart {\n",
              "    background-color: var(--bg-color);\n",
              "    border: none;\n",
              "    border-radius: 50%;\n",
              "    cursor: pointer;\n",
              "    display: none;\n",
              "    fill: var(--fill-color);\n",
              "    height: 32px;\n",
              "    padding: 0;\n",
              "    width: 32px;\n",
              "  }\n",
              "\n",
              "  .colab-df-quickchart:hover {\n",
              "    background-color: var(--hover-bg-color);\n",
              "    box-shadow: 0 1px 2px rgba(60, 64, 67, 0.3), 0 1px 3px 1px rgba(60, 64, 67, 0.15);\n",
              "    fill: var(--button-hover-fill-color);\n",
              "  }\n",
              "\n",
              "  .colab-df-quickchart-complete:disabled,\n",
              "  .colab-df-quickchart-complete:disabled:hover {\n",
              "    background-color: var(--disabled-bg-color);\n",
              "    fill: var(--disabled-fill-color);\n",
              "    box-shadow: none;\n",
              "  }\n",
              "\n",
              "  .colab-df-spinner {\n",
              "    border: 2px solid var(--fill-color);\n",
              "    border-color: transparent;\n",
              "    border-bottom-color: var(--fill-color);\n",
              "    animation:\n",
              "      spin 1s steps(1) infinite;\n",
              "  }\n",
              "\n",
              "  @keyframes spin {\n",
              "    0% {\n",
              "      border-color: transparent;\n",
              "      border-bottom-color: var(--fill-color);\n",
              "      border-left-color: var(--fill-color);\n",
              "    }\n",
              "    20% {\n",
              "      border-color: transparent;\n",
              "      border-left-color: var(--fill-color);\n",
              "      border-top-color: var(--fill-color);\n",
              "    }\n",
              "    30% {\n",
              "      border-color: transparent;\n",
              "      border-left-color: var(--fill-color);\n",
              "      border-top-color: var(--fill-color);\n",
              "      border-right-color: var(--fill-color);\n",
              "    }\n",
              "    40% {\n",
              "      border-color: transparent;\n",
              "      border-right-color: var(--fill-color);\n",
              "      border-top-color: var(--fill-color);\n",
              "    }\n",
              "    60% {\n",
              "      border-color: transparent;\n",
              "      border-right-color: var(--fill-color);\n",
              "    }\n",
              "    80% {\n",
              "      border-color: transparent;\n",
              "      border-right-color: var(--fill-color);\n",
              "      border-bottom-color: var(--fill-color);\n",
              "    }\n",
              "    90% {\n",
              "      border-color: transparent;\n",
              "      border-bottom-color: var(--fill-color);\n",
              "    }\n",
              "  }\n",
              "</style>\n",
              "\n",
              "  <script>\n",
              "    async function quickchart(key) {\n",
              "      const quickchartButtonEl =\n",
              "        document.querySelector('#' + key + ' button');\n",
              "      quickchartButtonEl.disabled = true;  // To prevent multiple clicks.\n",
              "      quickchartButtonEl.classList.add('colab-df-spinner');\n",
              "      try {\n",
              "        const charts = await google.colab.kernel.invokeFunction(\n",
              "            'suggestCharts', [key], {});\n",
              "      } catch (error) {\n",
              "        console.error('Error during call to suggestCharts:', error);\n",
              "      }\n",
              "      quickchartButtonEl.classList.remove('colab-df-spinner');\n",
              "      quickchartButtonEl.classList.add('colab-df-quickchart-complete');\n",
              "    }\n",
              "    (() => {\n",
              "      let quickchartButtonEl =\n",
              "        document.querySelector('#df-7c0da3c5-8721-47df-884f-bc591c903c92 button');\n",
              "      quickchartButtonEl.style.display =\n",
              "        google.colab.kernel.accessAllowed ? 'block' : 'none';\n",
              "    })();\n",
              "  </script>\n",
              "</div>\n",
              "    </div>\n",
              "  </div>\n"
            ]
          },
          "metadata": {},
          "execution_count": 12
        }
      ]
    },
    {
      "cell_type": "code",
      "source": [
        "data.isnull().sum()"
      ],
      "metadata": {
        "colab": {
          "base_uri": "https://localhost:8080/"
        },
        "id": "sy5trlAha6uc",
        "outputId": "958bf81b-d0b7-4714-ee5a-55d41a5677ad"
      },
      "execution_count": 13,
      "outputs": [
        {
          "output_type": "execute_result",
          "data": {
            "text/plain": [
              "age      0\n",
              "bp       0\n",
              "sg       0\n",
              "al       0\n",
              "su       0\n",
              "rbc      0\n",
              "pc       0\n",
              "pcc      0\n",
              "ba       0\n",
              "bgr      0\n",
              "bu       0\n",
              "sc       0\n",
              "sod      0\n",
              "pot      0\n",
              "hemo     0\n",
              "pcv      0\n",
              "wbcc     0\n",
              "rbcc     0\n",
              "htn      0\n",
              "dm       0\n",
              "cad      0\n",
              "appet    0\n",
              "pe       0\n",
              "ane      0\n",
              "class    0\n",
              "dtype: int64"
            ]
          },
          "metadata": {},
          "execution_count": 13
        }
      ]
    },
    {
      "cell_type": "markdown",
      "source": [
        "preprocessing steps"
      ],
      "metadata": {
        "id": "msWoj4n3YQ_c"
      }
    },
    {
      "cell_type": "markdown",
      "source": [
        "The new columns have no NaN values, so we'll drop the original columns and use the newly filled columns."
      ],
      "metadata": {
        "id": "Xe-yhtN0bLDR"
      }
    },
    {
      "cell_type": "markdown",
      "source": [
        "A new dataframe will be created with the filled columns"
      ],
      "metadata": {
        "id": "wifr7tNbbUVc"
      }
    },
    {
      "cell_type": "code",
      "source": [],
      "metadata": {
        "id": "PVitg6pBbh7C"
      },
      "execution_count": null,
      "outputs": []
    },
    {
      "cell_type": "code",
      "source": [
        "# Handling missing values\n",
        "data = data.replace('?', pd.NA)\n",
        "data = data.dropna()\n"
      ],
      "metadata": {
        "id": "vGAwYr0bYOJ_"
      },
      "execution_count": 14,
      "outputs": []
    },
    {
      "cell_type": "code",
      "source": [
        "# Convert categorical variables to numerical using LabelEncoder\n",
        "categorical_cols = ['rbc', 'pc', 'pcc', 'ba', 'htn', 'dm', 'cad', 'appet', 'pe', 'ane', 'class']\n",
        "for col in categorical_cols:\n",
        "    le = LabelEncoder()\n",
        "    data[col] = le.fit_transform(data[col])"
      ],
      "metadata": {
        "id": "fa-XiwtyYjlE"
      },
      "execution_count": 15,
      "outputs": []
    },
    {
      "cell_type": "code",
      "source": [
        "data.shape"
      ],
      "metadata": {
        "colab": {
          "base_uri": "https://localhost:8080/"
        },
        "id": "sRoyCxKUMIZ-",
        "outputId": "fb3092be-a6fc-4176-bc23-8cc72e0612e3"
      },
      "execution_count": 16,
      "outputs": [
        {
          "output_type": "execute_result",
          "data": {
            "text/plain": [
              "(228, 25)"
            ]
          },
          "metadata": {},
          "execution_count": 16
        }
      ]
    },
    {
      "cell_type": "code",
      "source": [
        "data.head()"
      ],
      "metadata": {
        "colab": {
          "base_uri": "https://localhost:8080/",
          "height": 235
        },
        "id": "TYtxDvxn9cxf",
        "outputId": "b82830a3-227c-42f0-cf46-e71c53230f43"
      },
      "execution_count": 17,
      "outputs": [
        {
          "output_type": "execute_result",
          "data": {
            "text/plain": [
              "   age  bp     sg al su  rbc  pc  pcc  ba  bgr  ... pcv   wbcc rbcc htn dm  \\\n",
              "3   48  70  1.005  4  0    0   1    0   1  117  ...  32   6700  3.9   0  1   \n",
              "5   60  90  1.015  3  0    0   0    1   1   74  ...  39   7800  4.4   0  0   \n",
              "6   68  70   1.01  0  0    0   0    1   1  100  ...  36      0  0.0   1  1   \n",
              "9   53  90   1.02  2  0    1   1    0   1   70  ...  29  12100  3.7   0  0   \n",
              "11  63  70   1.01  3  0    1   1    0   1  380  ...  32   4500  3.8   0  0   \n",
              "\n",
              "    cad  appet  pe  ane  class  \n",
              "3     1      0   0    0      0  \n",
              "5     1      1   0    1      0  \n",
              "6     1      1   1    1      0  \n",
              "9     1      0   1    0      0  \n",
              "11    1      0   0    1      0  \n",
              "\n",
              "[5 rows x 25 columns]"
            ],
            "text/html": [
              "\n",
              "  <div id=\"df-1dc65c3d-dd0d-4ef5-9326-603bc67b8d5e\" class=\"colab-df-container\">\n",
              "    <div>\n",
              "<style scoped>\n",
              "    .dataframe tbody tr th:only-of-type {\n",
              "        vertical-align: middle;\n",
              "    }\n",
              "\n",
              "    .dataframe tbody tr th {\n",
              "        vertical-align: top;\n",
              "    }\n",
              "\n",
              "    .dataframe thead th {\n",
              "        text-align: right;\n",
              "    }\n",
              "</style>\n",
              "<table border=\"1\" class=\"dataframe\">\n",
              "  <thead>\n",
              "    <tr style=\"text-align: right;\">\n",
              "      <th></th>\n",
              "      <th>age</th>\n",
              "      <th>bp</th>\n",
              "      <th>sg</th>\n",
              "      <th>al</th>\n",
              "      <th>su</th>\n",
              "      <th>rbc</th>\n",
              "      <th>pc</th>\n",
              "      <th>pcc</th>\n",
              "      <th>ba</th>\n",
              "      <th>bgr</th>\n",
              "      <th>...</th>\n",
              "      <th>pcv</th>\n",
              "      <th>wbcc</th>\n",
              "      <th>rbcc</th>\n",
              "      <th>htn</th>\n",
              "      <th>dm</th>\n",
              "      <th>cad</th>\n",
              "      <th>appet</th>\n",
              "      <th>pe</th>\n",
              "      <th>ane</th>\n",
              "      <th>class</th>\n",
              "    </tr>\n",
              "  </thead>\n",
              "  <tbody>\n",
              "    <tr>\n",
              "      <th>3</th>\n",
              "      <td>48</td>\n",
              "      <td>70</td>\n",
              "      <td>1.005</td>\n",
              "      <td>4</td>\n",
              "      <td>0</td>\n",
              "      <td>0</td>\n",
              "      <td>1</td>\n",
              "      <td>0</td>\n",
              "      <td>1</td>\n",
              "      <td>117</td>\n",
              "      <td>...</td>\n",
              "      <td>32</td>\n",
              "      <td>6700</td>\n",
              "      <td>3.9</td>\n",
              "      <td>0</td>\n",
              "      <td>1</td>\n",
              "      <td>1</td>\n",
              "      <td>0</td>\n",
              "      <td>0</td>\n",
              "      <td>0</td>\n",
              "      <td>0</td>\n",
              "    </tr>\n",
              "    <tr>\n",
              "      <th>5</th>\n",
              "      <td>60</td>\n",
              "      <td>90</td>\n",
              "      <td>1.015</td>\n",
              "      <td>3</td>\n",
              "      <td>0</td>\n",
              "      <td>0</td>\n",
              "      <td>0</td>\n",
              "      <td>1</td>\n",
              "      <td>1</td>\n",
              "      <td>74</td>\n",
              "      <td>...</td>\n",
              "      <td>39</td>\n",
              "      <td>7800</td>\n",
              "      <td>4.4</td>\n",
              "      <td>0</td>\n",
              "      <td>0</td>\n",
              "      <td>1</td>\n",
              "      <td>1</td>\n",
              "      <td>0</td>\n",
              "      <td>1</td>\n",
              "      <td>0</td>\n",
              "    </tr>\n",
              "    <tr>\n",
              "      <th>6</th>\n",
              "      <td>68</td>\n",
              "      <td>70</td>\n",
              "      <td>1.01</td>\n",
              "      <td>0</td>\n",
              "      <td>0</td>\n",
              "      <td>0</td>\n",
              "      <td>0</td>\n",
              "      <td>1</td>\n",
              "      <td>1</td>\n",
              "      <td>100</td>\n",
              "      <td>...</td>\n",
              "      <td>36</td>\n",
              "      <td>0</td>\n",
              "      <td>0.0</td>\n",
              "      <td>1</td>\n",
              "      <td>1</td>\n",
              "      <td>1</td>\n",
              "      <td>1</td>\n",
              "      <td>1</td>\n",
              "      <td>1</td>\n",
              "      <td>0</td>\n",
              "    </tr>\n",
              "    <tr>\n",
              "      <th>9</th>\n",
              "      <td>53</td>\n",
              "      <td>90</td>\n",
              "      <td>1.02</td>\n",
              "      <td>2</td>\n",
              "      <td>0</td>\n",
              "      <td>1</td>\n",
              "      <td>1</td>\n",
              "      <td>0</td>\n",
              "      <td>1</td>\n",
              "      <td>70</td>\n",
              "      <td>...</td>\n",
              "      <td>29</td>\n",
              "      <td>12100</td>\n",
              "      <td>3.7</td>\n",
              "      <td>0</td>\n",
              "      <td>0</td>\n",
              "      <td>1</td>\n",
              "      <td>0</td>\n",
              "      <td>1</td>\n",
              "      <td>0</td>\n",
              "      <td>0</td>\n",
              "    </tr>\n",
              "    <tr>\n",
              "      <th>11</th>\n",
              "      <td>63</td>\n",
              "      <td>70</td>\n",
              "      <td>1.01</td>\n",
              "      <td>3</td>\n",
              "      <td>0</td>\n",
              "      <td>1</td>\n",
              "      <td>1</td>\n",
              "      <td>0</td>\n",
              "      <td>1</td>\n",
              "      <td>380</td>\n",
              "      <td>...</td>\n",
              "      <td>32</td>\n",
              "      <td>4500</td>\n",
              "      <td>3.8</td>\n",
              "      <td>0</td>\n",
              "      <td>0</td>\n",
              "      <td>1</td>\n",
              "      <td>0</td>\n",
              "      <td>0</td>\n",
              "      <td>1</td>\n",
              "      <td>0</td>\n",
              "    </tr>\n",
              "  </tbody>\n",
              "</table>\n",
              "<p>5 rows × 25 columns</p>\n",
              "</div>\n",
              "    <div class=\"colab-df-buttons\">\n",
              "\n",
              "  <div class=\"colab-df-container\">\n",
              "    <button class=\"colab-df-convert\" onclick=\"convertToInteractive('df-1dc65c3d-dd0d-4ef5-9326-603bc67b8d5e')\"\n",
              "            title=\"Convert this dataframe to an interactive table.\"\n",
              "            style=\"display:none;\">\n",
              "\n",
              "  <svg xmlns=\"http://www.w3.org/2000/svg\" height=\"24px\" viewBox=\"0 -960 960 960\">\n",
              "    <path d=\"M120-120v-720h720v720H120Zm60-500h600v-160H180v160Zm220 220h160v-160H400v160Zm0 220h160v-160H400v160ZM180-400h160v-160H180v160Zm440 0h160v-160H620v160ZM180-180h160v-160H180v160Zm440 0h160v-160H620v160Z\"/>\n",
              "  </svg>\n",
              "    </button>\n",
              "\n",
              "  <style>\n",
              "    .colab-df-container {\n",
              "      display:flex;\n",
              "      gap: 12px;\n",
              "    }\n",
              "\n",
              "    .colab-df-convert {\n",
              "      background-color: #E8F0FE;\n",
              "      border: none;\n",
              "      border-radius: 50%;\n",
              "      cursor: pointer;\n",
              "      display: none;\n",
              "      fill: #1967D2;\n",
              "      height: 32px;\n",
              "      padding: 0 0 0 0;\n",
              "      width: 32px;\n",
              "    }\n",
              "\n",
              "    .colab-df-convert:hover {\n",
              "      background-color: #E2EBFA;\n",
              "      box-shadow: 0px 1px 2px rgba(60, 64, 67, 0.3), 0px 1px 3px 1px rgba(60, 64, 67, 0.15);\n",
              "      fill: #174EA6;\n",
              "    }\n",
              "\n",
              "    .colab-df-buttons div {\n",
              "      margin-bottom: 4px;\n",
              "    }\n",
              "\n",
              "    [theme=dark] .colab-df-convert {\n",
              "      background-color: #3B4455;\n",
              "      fill: #D2E3FC;\n",
              "    }\n",
              "\n",
              "    [theme=dark] .colab-df-convert:hover {\n",
              "      background-color: #434B5C;\n",
              "      box-shadow: 0px 1px 3px 1px rgba(0, 0, 0, 0.15);\n",
              "      filter: drop-shadow(0px 1px 2px rgba(0, 0, 0, 0.3));\n",
              "      fill: #FFFFFF;\n",
              "    }\n",
              "  </style>\n",
              "\n",
              "    <script>\n",
              "      const buttonEl =\n",
              "        document.querySelector('#df-1dc65c3d-dd0d-4ef5-9326-603bc67b8d5e button.colab-df-convert');\n",
              "      buttonEl.style.display =\n",
              "        google.colab.kernel.accessAllowed ? 'block' : 'none';\n",
              "\n",
              "      async function convertToInteractive(key) {\n",
              "        const element = document.querySelector('#df-1dc65c3d-dd0d-4ef5-9326-603bc67b8d5e');\n",
              "        const dataTable =\n",
              "          await google.colab.kernel.invokeFunction('convertToInteractive',\n",
              "                                                    [key], {});\n",
              "        if (!dataTable) return;\n",
              "\n",
              "        const docLinkHtml = 'Like what you see? Visit the ' +\n",
              "          '<a target=\"_blank\" href=https://colab.research.google.com/notebooks/data_table.ipynb>data table notebook</a>'\n",
              "          + ' to learn more about interactive tables.';\n",
              "        element.innerHTML = '';\n",
              "        dataTable['output_type'] = 'display_data';\n",
              "        await google.colab.output.renderOutput(dataTable, element);\n",
              "        const docLink = document.createElement('div');\n",
              "        docLink.innerHTML = docLinkHtml;\n",
              "        element.appendChild(docLink);\n",
              "      }\n",
              "    </script>\n",
              "  </div>\n",
              "\n",
              "\n",
              "<div id=\"df-bee3d7fb-3512-466b-b446-2ba06200de68\">\n",
              "  <button class=\"colab-df-quickchart\" onclick=\"quickchart('df-bee3d7fb-3512-466b-b446-2ba06200de68')\"\n",
              "            title=\"Suggest charts.\"\n",
              "            style=\"display:none;\">\n",
              "\n",
              "<svg xmlns=\"http://www.w3.org/2000/svg\" height=\"24px\"viewBox=\"0 0 24 24\"\n",
              "     width=\"24px\">\n",
              "    <g>\n",
              "        <path d=\"M19 3H5c-1.1 0-2 .9-2 2v14c0 1.1.9 2 2 2h14c1.1 0 2-.9 2-2V5c0-1.1-.9-2-2-2zM9 17H7v-7h2v7zm4 0h-2V7h2v10zm4 0h-2v-4h2v4z\"/>\n",
              "    </g>\n",
              "</svg>\n",
              "  </button>\n",
              "\n",
              "<style>\n",
              "  .colab-df-quickchart {\n",
              "      --bg-color: #E8F0FE;\n",
              "      --fill-color: #1967D2;\n",
              "      --hover-bg-color: #E2EBFA;\n",
              "      --hover-fill-color: #174EA6;\n",
              "      --disabled-fill-color: #AAA;\n",
              "      --disabled-bg-color: #DDD;\n",
              "  }\n",
              "\n",
              "  [theme=dark] .colab-df-quickchart {\n",
              "      --bg-color: #3B4455;\n",
              "      --fill-color: #D2E3FC;\n",
              "      --hover-bg-color: #434B5C;\n",
              "      --hover-fill-color: #FFFFFF;\n",
              "      --disabled-bg-color: #3B4455;\n",
              "      --disabled-fill-color: #666;\n",
              "  }\n",
              "\n",
              "  .colab-df-quickchart {\n",
              "    background-color: var(--bg-color);\n",
              "    border: none;\n",
              "    border-radius: 50%;\n",
              "    cursor: pointer;\n",
              "    display: none;\n",
              "    fill: var(--fill-color);\n",
              "    height: 32px;\n",
              "    padding: 0;\n",
              "    width: 32px;\n",
              "  }\n",
              "\n",
              "  .colab-df-quickchart:hover {\n",
              "    background-color: var(--hover-bg-color);\n",
              "    box-shadow: 0 1px 2px rgba(60, 64, 67, 0.3), 0 1px 3px 1px rgba(60, 64, 67, 0.15);\n",
              "    fill: var(--button-hover-fill-color);\n",
              "  }\n",
              "\n",
              "  .colab-df-quickchart-complete:disabled,\n",
              "  .colab-df-quickchart-complete:disabled:hover {\n",
              "    background-color: var(--disabled-bg-color);\n",
              "    fill: var(--disabled-fill-color);\n",
              "    box-shadow: none;\n",
              "  }\n",
              "\n",
              "  .colab-df-spinner {\n",
              "    border: 2px solid var(--fill-color);\n",
              "    border-color: transparent;\n",
              "    border-bottom-color: var(--fill-color);\n",
              "    animation:\n",
              "      spin 1s steps(1) infinite;\n",
              "  }\n",
              "\n",
              "  @keyframes spin {\n",
              "    0% {\n",
              "      border-color: transparent;\n",
              "      border-bottom-color: var(--fill-color);\n",
              "      border-left-color: var(--fill-color);\n",
              "    }\n",
              "    20% {\n",
              "      border-color: transparent;\n",
              "      border-left-color: var(--fill-color);\n",
              "      border-top-color: var(--fill-color);\n",
              "    }\n",
              "    30% {\n",
              "      border-color: transparent;\n",
              "      border-left-color: var(--fill-color);\n",
              "      border-top-color: var(--fill-color);\n",
              "      border-right-color: var(--fill-color);\n",
              "    }\n",
              "    40% {\n",
              "      border-color: transparent;\n",
              "      border-right-color: var(--fill-color);\n",
              "      border-top-color: var(--fill-color);\n",
              "    }\n",
              "    60% {\n",
              "      border-color: transparent;\n",
              "      border-right-color: var(--fill-color);\n",
              "    }\n",
              "    80% {\n",
              "      border-color: transparent;\n",
              "      border-right-color: var(--fill-color);\n",
              "      border-bottom-color: var(--fill-color);\n",
              "    }\n",
              "    90% {\n",
              "      border-color: transparent;\n",
              "      border-bottom-color: var(--fill-color);\n",
              "    }\n",
              "  }\n",
              "</style>\n",
              "\n",
              "  <script>\n",
              "    async function quickchart(key) {\n",
              "      const quickchartButtonEl =\n",
              "        document.querySelector('#' + key + ' button');\n",
              "      quickchartButtonEl.disabled = true;  // To prevent multiple clicks.\n",
              "      quickchartButtonEl.classList.add('colab-df-spinner');\n",
              "      try {\n",
              "        const charts = await google.colab.kernel.invokeFunction(\n",
              "            'suggestCharts', [key], {});\n",
              "      } catch (error) {\n",
              "        console.error('Error during call to suggestCharts:', error);\n",
              "      }\n",
              "      quickchartButtonEl.classList.remove('colab-df-spinner');\n",
              "      quickchartButtonEl.classList.add('colab-df-quickchart-complete');\n",
              "    }\n",
              "    (() => {\n",
              "      let quickchartButtonEl =\n",
              "        document.querySelector('#df-bee3d7fb-3512-466b-b446-2ba06200de68 button');\n",
              "      quickchartButtonEl.style.display =\n",
              "        google.colab.kernel.accessAllowed ? 'block' : 'none';\n",
              "    })();\n",
              "  </script>\n",
              "</div>\n",
              "    </div>\n",
              "  </div>\n"
            ]
          },
          "metadata": {},
          "execution_count": 17
        }
      ]
    },
    {
      "cell_type": "code",
      "source": [
        "# Separate features and labels\n",
        "X = data.drop('class', axis=1)\n",
        "y = data['class']"
      ],
      "metadata": {
        "id": "d3YSSarhYwrM"
      },
      "execution_count": 18,
      "outputs": []
    },
    {
      "cell_type": "code",
      "source": [
        "# Split the data into training and testing sets\n",
        "X_train, X_test, y_train, y_test = train_test_split(X, y, test_size=0.2, random_state=42)\n"
      ],
      "metadata": {
        "id": "5JZUD6CCZAbE"
      },
      "execution_count": 19,
      "outputs": []
    },
    {
      "cell_type": "markdown",
      "source": [],
      "metadata": {
        "id": "MHCBP66haFo2"
      }
    },
    {
      "cell_type": "code",
      "source": [
        "# Standardize the features\n",
        "scaler = StandardScaler()\n",
        "X_train = scaler.fit_transform(X_train)\n",
        "X_test = scaler.transform(X_test)"
      ],
      "metadata": {
        "id": "o0-Je1efZRQz"
      },
      "execution_count": 20,
      "outputs": []
    },
    {
      "cell_type": "markdown",
      "source": [
        "Feature Selection using Extra Trees Classifier:\n",
        "We will use the Extra Trees Classifier to select important features from the dataset."
      ],
      "metadata": {
        "id": "3z4jE2XpZbQ5"
      }
    },
    {
      "cell_type": "code",
      "source": [
        "from sklearn.ensemble import ExtraTreesClassifier\n",
        "\n",
        "# Create the Extra Trees Classifier\n",
        "et_clf = ExtraTreesClassifier(n_estimators=100, random_state=42)"
      ],
      "metadata": {
        "id": "X7d9T52fZR0b"
      },
      "execution_count": 21,
      "outputs": []
    },
    {
      "cell_type": "code",
      "source": [
        "# Fit the model and get feature importances\n",
        "et_clf.fit(X_train, y_train)"
      ],
      "metadata": {
        "colab": {
          "base_uri": "https://localhost:8080/",
          "height": 75
        },
        "id": "HEE9IfPmZvnE",
        "outputId": "4bd46b0e-b395-43db-d6cc-0ff0718e5ee7"
      },
      "execution_count": 22,
      "outputs": [
        {
          "output_type": "execute_result",
          "data": {
            "text/plain": [
              "ExtraTreesClassifier(random_state=42)"
            ],
            "text/html": [
              "<style>#sk-container-id-1 {color: black;background-color: white;}#sk-container-id-1 pre{padding: 0;}#sk-container-id-1 div.sk-toggleable {background-color: white;}#sk-container-id-1 label.sk-toggleable__label {cursor: pointer;display: block;width: 100%;margin-bottom: 0;padding: 0.3em;box-sizing: border-box;text-align: center;}#sk-container-id-1 label.sk-toggleable__label-arrow:before {content: \"▸\";float: left;margin-right: 0.25em;color: #696969;}#sk-container-id-1 label.sk-toggleable__label-arrow:hover:before {color: black;}#sk-container-id-1 div.sk-estimator:hover label.sk-toggleable__label-arrow:before {color: black;}#sk-container-id-1 div.sk-toggleable__content {max-height: 0;max-width: 0;overflow: hidden;text-align: left;background-color: #f0f8ff;}#sk-container-id-1 div.sk-toggleable__content pre {margin: 0.2em;color: black;border-radius: 0.25em;background-color: #f0f8ff;}#sk-container-id-1 input.sk-toggleable__control:checked~div.sk-toggleable__content {max-height: 200px;max-width: 100%;overflow: auto;}#sk-container-id-1 input.sk-toggleable__control:checked~label.sk-toggleable__label-arrow:before {content: \"▾\";}#sk-container-id-1 div.sk-estimator input.sk-toggleable__control:checked~label.sk-toggleable__label {background-color: #d4ebff;}#sk-container-id-1 div.sk-label input.sk-toggleable__control:checked~label.sk-toggleable__label {background-color: #d4ebff;}#sk-container-id-1 input.sk-hidden--visually {border: 0;clip: rect(1px 1px 1px 1px);clip: rect(1px, 1px, 1px, 1px);height: 1px;margin: -1px;overflow: hidden;padding: 0;position: absolute;width: 1px;}#sk-container-id-1 div.sk-estimator {font-family: monospace;background-color: #f0f8ff;border: 1px dotted black;border-radius: 0.25em;box-sizing: border-box;margin-bottom: 0.5em;}#sk-container-id-1 div.sk-estimator:hover {background-color: #d4ebff;}#sk-container-id-1 div.sk-parallel-item::after {content: \"\";width: 100%;border-bottom: 1px solid gray;flex-grow: 1;}#sk-container-id-1 div.sk-label:hover label.sk-toggleable__label {background-color: #d4ebff;}#sk-container-id-1 div.sk-serial::before {content: \"\";position: absolute;border-left: 1px solid gray;box-sizing: border-box;top: 0;bottom: 0;left: 50%;z-index: 0;}#sk-container-id-1 div.sk-serial {display: flex;flex-direction: column;align-items: center;background-color: white;padding-right: 0.2em;padding-left: 0.2em;position: relative;}#sk-container-id-1 div.sk-item {position: relative;z-index: 1;}#sk-container-id-1 div.sk-parallel {display: flex;align-items: stretch;justify-content: center;background-color: white;position: relative;}#sk-container-id-1 div.sk-item::before, #sk-container-id-1 div.sk-parallel-item::before {content: \"\";position: absolute;border-left: 1px solid gray;box-sizing: border-box;top: 0;bottom: 0;left: 50%;z-index: -1;}#sk-container-id-1 div.sk-parallel-item {display: flex;flex-direction: column;z-index: 1;position: relative;background-color: white;}#sk-container-id-1 div.sk-parallel-item:first-child::after {align-self: flex-end;width: 50%;}#sk-container-id-1 div.sk-parallel-item:last-child::after {align-self: flex-start;width: 50%;}#sk-container-id-1 div.sk-parallel-item:only-child::after {width: 0;}#sk-container-id-1 div.sk-dashed-wrapped {border: 1px dashed gray;margin: 0 0.4em 0.5em 0.4em;box-sizing: border-box;padding-bottom: 0.4em;background-color: white;}#sk-container-id-1 div.sk-label label {font-family: monospace;font-weight: bold;display: inline-block;line-height: 1.2em;}#sk-container-id-1 div.sk-label-container {text-align: center;}#sk-container-id-1 div.sk-container {/* jupyter's `normalize.less` sets `[hidden] { display: none; }` but bootstrap.min.css set `[hidden] { display: none !important; }` so we also need the `!important` here to be able to override the default hidden behavior on the sphinx rendered scikit-learn.org. See: https://github.com/scikit-learn/scikit-learn/issues/21755 */display: inline-block !important;position: relative;}#sk-container-id-1 div.sk-text-repr-fallback {display: none;}</style><div id=\"sk-container-id-1\" class=\"sk-top-container\"><div class=\"sk-text-repr-fallback\"><pre>ExtraTreesClassifier(random_state=42)</pre><b>In a Jupyter environment, please rerun this cell to show the HTML representation or trust the notebook. <br />On GitHub, the HTML representation is unable to render, please try loading this page with nbviewer.org.</b></div><div class=\"sk-container\" hidden><div class=\"sk-item\"><div class=\"sk-estimator sk-toggleable\"><input class=\"sk-toggleable__control sk-hidden--visually\" id=\"sk-estimator-id-1\" type=\"checkbox\" checked><label for=\"sk-estimator-id-1\" class=\"sk-toggleable__label sk-toggleable__label-arrow\">ExtraTreesClassifier</label><div class=\"sk-toggleable__content\"><pre>ExtraTreesClassifier(random_state=42)</pre></div></div></div></div></div>"
            ]
          },
          "metadata": {},
          "execution_count": 22
        }
      ]
    },
    {
      "cell_type": "code",
      "source": [
        "# Select important features\n",
        "important_features_indices = et_clf.feature_importances_.argsort()[::-1]\n",
        "important_features = X.columns[important_features_indices]\n",
        "num_features_to_select = 10  # You can choose any number of top feature"
      ],
      "metadata": {
        "id": "bCwaUfIFFkqA"
      },
      "execution_count": 25,
      "outputs": []
    },
    {
      "cell_type": "code",
      "source": [
        "# Select the top 'num_features_to_select' features\n",
        "selected_features = important_features[:num_features_to_select]"
      ],
      "metadata": {
        "id": "PDVnWLWwFp-U"
      },
      "execution_count": 26,
      "outputs": []
    },
    {
      "cell_type": "code",
      "source": [
        "# Filter the data to keep only the selected features\n",
        "X_train_selected = X_train[:, important_features_indices[:num_features_to_select]]\n",
        "X_test_selected = X_test[:, important_features_indices[:num_features_to_select]]"
      ],
      "metadata": {
        "id": "bRDE1wzsFyWl"
      },
      "execution_count": 27,
      "outputs": []
    },
    {
      "cell_type": "code",
      "source": [
        "# Plot the correlation matrix using a heatmap\n",
        "import seaborn as sns\n",
        "import seaborn as sns\n",
        "# Compute the correlation matrix\n",
        "corr_matrix = data.corr()\n",
        "plt.figure(figsize=(10, 8))\n",
        "sns.heatmap(corr_matrix, annot=True, cmap='coolwarm')\n",
        "plt.title('Correlation Matrix')\n",
        "plt.show()"
      ],
      "metadata": {
        "colab": {
          "base_uri": "https://localhost:8080/",
          "height": 756
        },
        "id": "tCGTZp1wF6qM",
        "outputId": "b35e3905-b2fe-4500-82ad-143464f63b3b"
      },
      "execution_count": 28,
      "outputs": [
        {
          "output_type": "stream",
          "name": "stderr",
          "text": [
            "<ipython-input-28-98bd512aa464>:5: FutureWarning: The default value of numeric_only in DataFrame.corr is deprecated. In a future version, it will default to False. Select only valid columns or specify the value of numeric_only to silence this warning.\n",
            "  corr_matrix = data.corr()\n"
          ]
        },
        {
          "output_type": "display_data",
          "data": {
            "text/plain": [
              "<Figure size 1000x800 with 2 Axes>"
            ],
            "image/png": "[encoded data removed]"
          },
          "metadata": {}
        }
      ]
    },
    {
      "cell_type": "code",
      "source": [
        "data['class'].value_counts().plot(kind='bar', color=['red', 'blue'])\n",
        "plt.title(\"Count of Kidney Disease Diagnosis\")\n",
        "plt.xlabel(\"classification\")\n",
        "plt.ylabel(\"Count\")\n",
        "plt.show()"
      ],
      "metadata": {
        "colab": {
          "base_uri": "https://localhost:8080/",
          "height": 467
        },
        "id": "NNT0pHxcGKcH",
        "outputId": "6ce23bcf-bbf0-4d8c-ca1b-961da25ab3dd"
      },
      "execution_count": 29,
      "outputs": [
        {
          "output_type": "display_data",
          "data": {
            "text/plain": [
              "<Figure size 640x480 with 1 Axes>"
            ],
            "image/png": "[encoded data removed]"
          },
          "metadata": {}
        }
      ]
    },
    {
      "cell_type": "code",
      "source": [],
      "metadata": {
        "id": "iiU-c8ygYg9e"
      },
      "execution_count": null,
      "outputs": []
    },
    {
      "cell_type": "code",
      "source": [
        "import matplotlib.pyplot as plt\n",
        "import numpy as np\n",
        "\n",
        "# Sample data (replace this with your dataset)\n",
        "data = np.random.randn(1000)  # Replace with your dataset\n",
        "\n",
        "# Create a histogram\n",
        "plt.hist(data, bins=20, color='blue', alpha=0.7)\n",
        "plt.xlabel('Value')\n",
        "plt.ylabel('Frequency')\n",
        "plt.title('Histogram of the Dataset')\n",
        "plt.grid(True)\n",
        "plt.show()\n"
      ],
      "metadata": {
        "colab": {
          "base_uri": "https://localhost:8080/",
          "height": 472
        },
        "id": "XLqbuvUpGTs_",
        "outputId": "16510d45-2162-4693-b1a3-6b10996cc511"
      },
      "execution_count": 30,
      "outputs": [
        {
          "output_type": "display_data",
          "data": {
            "text/plain": [
              "<Figure size 640x480 with 1 Axes>"
            ],
            "image/png": "[encoded data removed]"
          },
          "metadata": {}
        }
      ]
    },
    {
      "cell_type": "markdown",
      "source": [
        "mplementing Naive Bayes, SVM, and Decision Tree classifiers:"
      ],
      "metadata": {
        "id": "RGlp6PZ4GafR"
      }
    },
    {
      "cell_type": "code",
      "source": [
        "from sklearn.naive_bayes import GaussianNB\n",
        "from sklearn.svm import SVC\n",
        "from sklearn.tree import DecisionTreeClassifier\n",
        "from sklearn.metrics import accuracy_score, confusion_matrix, roc_auc_score, roc_curve"
      ],
      "metadata": {
        "id": "C3nsyaiDGfHI"
      },
      "execution_count": 31,
      "outputs": []
    },
    {
      "cell_type": "code",
      "source": [
        "# Initialize classifiers\n",
        "nb_clf = GaussianNB()\n",
        "svm_clf = SVC(probability=True, random_state=42)\n",
        "dt_clf = DecisionTreeClassifier(random_state=42)"
      ],
      "metadata": {
        "id": "4L3mGc7oG0ND"
      },
      "execution_count": 33,
      "outputs": []
    },
    {
      "cell_type": "code",
      "source": [
        "# Train and predict using Naive Bayes\n",
        "nb_clf.fit(X_train_selected, y_train)\n",
        "nb_y_pred = nb_clf.predict(X_test_selected)"
      ],
      "metadata": {
        "id": "IfSxgecbGp2n"
      },
      "execution_count": 34,
      "outputs": []
    },
    {
      "cell_type": "code",
      "source": [
        "# Train and predict using Decision Tree\n",
        "dt_clf.fit(X_train_selected, y_train)\n",
        "dt_y_pred = dt_clf.predict(X_test_selected)"
      ],
      "metadata": {
        "id": "ZZYOKKvkGqVz"
      },
      "execution_count": 35,
      "outputs": []
    },
    {
      "cell_type": "code",
      "source": [
        "# Train and predict using SVM\n",
        "svm_clf.fit(X_train_selected, y_train)\n",
        "svm_y_pred = svm_clf.predict(X_test_selected)"
      ],
      "metadata": {
        "id": "sToiT5G_HD2v"
      },
      "execution_count": 36,
      "outputs": []
    },
    {
      "cell_type": "markdown",
      "source": [
        "classifier's classification report"
      ],
      "metadata": {
        "id": "q7lqwMhZHMJv"
      }
    },
    {
      "cell_type": "code",
      "source": [
        "#Naive bayes classification report\n",
        "from sklearn.metrics import classification_report\n",
        "nb_y_pred = nb_clf.predict(X_test_selected)\n",
        "print(classification_report(y_test, nb_y_pred))"
      ],
      "metadata": {
        "colab": {
          "base_uri": "https://localhost:8080/"
        },
        "id": "EqbB_A_tHQr6",
        "outputId": "5f2d42aa-4679-4471-deae-c6126e0ef339"
      },
      "execution_count": 37,
      "outputs": [
        {
          "output_type": "stream",
          "name": "stdout",
          "text": [
            "              precision    recall  f1-score   support\n",
            "\n",
            "           0       1.00      1.00      1.00        15\n",
            "           1       1.00      1.00      1.00        31\n",
            "\n",
            "    accuracy                           1.00        46\n",
            "   macro avg       1.00      1.00      1.00        46\n",
            "weighted avg       1.00      1.00      1.00        46\n",
            "\n"
          ]
        }
      ]
    },
    {
      "cell_type": "code",
      "source": [
        "#Decision tree classification report\n",
        "from sklearn.metrics import classification_report\n",
        "dt_y_pred = dt_clf.predict(X_test_selected)\n",
        "print(classification_report(y_test, dt_y_pred))"
      ],
      "metadata": {
        "colab": {
          "base_uri": "https://localhost:8080/"
        },
        "id": "2FdtTyJNHZUe",
        "outputId": "bca63538-91b3-4a88-ea70-b909954cda19"
      },
      "execution_count": 38,
      "outputs": [
        {
          "output_type": "stream",
          "name": "stdout",
          "text": [
            "              precision    recall  f1-score   support\n",
            "\n",
            "           0       1.00      0.93      0.97        15\n",
            "           1       0.97      1.00      0.98        31\n",
            "\n",
            "    accuracy                           0.98        46\n",
            "   macro avg       0.98      0.97      0.97        46\n",
            "weighted avg       0.98      0.98      0.98        46\n",
            "\n"
          ]
        }
      ]
    },
    {
      "cell_type": "code",
      "source": [
        "#SVM classification report\n",
        "from sklearn.metrics import classification_report\n",
        "Svm_y_pred = svm_clf.predict(X_test_selected)\n",
        "print(classification_report(y_test, Svm_y_pred))"
      ],
      "metadata": {
        "colab": {
          "base_uri": "https://localhost:8080/"
        },
        "id": "6HDQLsuBHjeE",
        "outputId": "9720ed50-a5cb-489a-ae83-d5862c72574b"
      },
      "execution_count": 39,
      "outputs": [
        {
          "output_type": "stream",
          "name": "stdout",
          "text": [
            "              precision    recall  f1-score   support\n",
            "\n",
            "           0       1.00      0.93      0.97        15\n",
            "           1       0.97      1.00      0.98        31\n",
            "\n",
            "    accuracy                           0.98        46\n",
            "   macro avg       0.98      0.97      0.97        46\n",
            "weighted avg       0.98      0.98      0.98        46\n",
            "\n"
          ]
        }
      ]
    },
    {
      "cell_type": "code",
      "source": [
        "from sklearn.metrics import precision_score, recall_score, f1_score\n",
        "\n",
        "# Calculate accuracy for each classifier\n",
        "nb_accuracy = accuracy_score(y_test, nb_y_pred)\n",
        "nb_precision = precision_score(y_test, nb_y_pred)\n",
        "nb_recall = recall_score(y_test, nb_y_pred)\n",
        "nb_f1_score = f1_score(y_test, nb_y_pred)\n",
        "\n",
        "svm_accuracy = accuracy_score(y_test, svm_y_pred)\n",
        "svm_precision = precision_score(y_test, svm_y_pred)\n",
        "svm_recall = recall_score(y_test, svm_y_pred)\n",
        "svm_f1_score = f1_score(y_test, svm_y_pred)\n",
        "\n",
        "dt_accuracy = accuracy_score(y_test, dt_y_pred)\n",
        "dt_precision = precision_score(y_test, dt_y_pred)\n",
        "dt_recall = recall_score(y_test, dt_y_pred)\n",
        "dt_f1_score = f1_score(y_test, dt_y_pred)"
      ],
      "metadata": {
        "id": "pZbHzWfLHy-f"
      },
      "execution_count": 40,
      "outputs": []
    },
    {
      "cell_type": "code",
      "source": [
        "# Generate confusion matrix for each classifier\n",
        "nb_conf_matrix = confusion_matrix(y_test, nb_y_pred)\n",
        "svm_conf_matrix = confusion_matrix(y_test, svm_y_pred)\n",
        "dt_conf_matrix = confusion_matrix(y_test, dt_y_pred)"
      ],
      "metadata": {
        "id": "yHG9GTGgIWVP"
      },
      "execution_count": 41,
      "outputs": []
    },
    {
      "cell_type": "code",
      "source": [
        "# Generate ROC curve and calculate ROC-AUC score for each classifier\n",
        "nb_y_prob = nb_clf.predict_proba(X_test_selected)[:, 1]\n",
        "svm_y_prob = svm_clf.predict_proba(X_test_selected)[:, 1]\n",
        "dt_y_prob = dt_clf.predict_proba(X_test_selected)[:, 1]\n",
        "\n",
        "nb_roc_auc = roc_auc_score(y_test, nb_y_prob)\n",
        "svm_roc_auc = roc_auc_score(y_test, svm_y_prob)\n",
        "dt_roc_auc = roc_auc_score(y_test, dt_y_prob)\n",
        "\n",
        "fpr_nb, tpr_nb, _ = roc_curve(y_test, nb_y_prob)\n",
        "fpr_svm, tpr_svm, _ = roc_curve(y_test, svm_y_prob)\n",
        "fpr_dt, tpr_dt, _ = roc_curve(y_test, dt_y_prob)"
      ],
      "metadata": {
        "id": "c8Deb8XUIbx4"
      },
      "execution_count": 42,
      "outputs": []
    },
    {
      "cell_type": "markdown",
      "source": [
        "Implementing Hybrid Ensemble Learning: For hybrid ensemble learning, we'll combine the predictions of Naive Bayes, SVM, and Decision Tree using a voting classifier."
      ],
      "metadata": {
        "id": "MfkzHoGYIqAS"
      }
    },
    {
      "cell_type": "code",
      "source": [
        "from sklearn.ensemble import VotingClassifier\n",
        "\n",
        "# Create the voting ensemble\n",
        "voting_clf = VotingClassifier(estimators=[('nb', nb_clf), ('svm', svm_clf), ('dt', dt_clf)], voting='soft')"
      ],
      "metadata": {
        "id": "KDs6QohJIwsV"
      },
      "execution_count": 43,
      "outputs": []
    },
    {
      "cell_type": "code",
      "source": [
        "# Train and predict using the voting ensemble\n",
        "voting_clf.fit(X_train_selected, y_train)\n",
        "voting_y_pred = voting_clf.predict(X_test_selected)"
      ],
      "metadata": {
        "id": "Krm1vzxVI6X_"
      },
      "execution_count": 44,
      "outputs": []
    },
    {
      "cell_type": "code",
      "source": [
        "#hybrid ensemble classification report\n",
        "from sklearn.metrics import classification_report\n",
        "voting_y_pred = voting_clf.predict(X_test_selected)\n",
        "print(classification_report(y_test, voting_y_pred))"
      ],
      "metadata": {
        "colab": {
          "base_uri": "https://localhost:8080/"
        },
        "id": "Ti4C3T3zJBrH",
        "outputId": "95f1be00-1251-4812-f35a-29769ddd2e06"
      },
      "execution_count": 45,
      "outputs": [
        {
          "output_type": "stream",
          "name": "stdout",
          "text": [
            "              precision    recall  f1-score   support\n",
            "\n",
            "           0       1.00      0.93      0.97        15\n",
            "           1       0.97      1.00      0.98        31\n",
            "\n",
            "    accuracy                           0.98        46\n",
            "   macro avg       0.98      0.97      0.97        46\n",
            "weighted avg       0.98      0.98      0.98        46\n",
            "\n"
          ]
        }
      ]
    },
    {
      "cell_type": "code",
      "source": [
        "# Calculate accuracy for the voting ensemble\n",
        "voting_accuracy = accuracy_score(y_test, voting_y_pred)\n",
        "\n",
        "# Calculate precision for the voting ensemble\n",
        "voting_precision = precision_score(y_test, voting_y_pred)\n",
        "\n",
        "# Calculate recall for the voting ensemble\n",
        "voting_recall = recall_score(y_test, voting_y_pred)\n",
        "\n",
        "# Calculate F1-score for the voting ensemble\n",
        "voting_f1_score = f1_score(y_test, voting_y_pred)"
      ],
      "metadata": {
        "id": "doAOhazqJPAe"
      },
      "execution_count": 47,
      "outputs": []
    },
    {
      "cell_type": "code",
      "source": [
        "# Generate confusion matrix for the voting ensemble\n",
        "voting_conf_matrix = confusion_matrix(y_test, voting_y_pred)"
      ],
      "metadata": {
        "id": "tvw_7W26JjyE"
      },
      "execution_count": 48,
      "outputs": []
    },
    {
      "cell_type": "code",
      "source": [],
      "metadata": {
        "id": "Kebmg1POJPfh"
      },
      "execution_count": null,
      "outputs": []
    },
    {
      "cell_type": "code",
      "source": [
        "from sklearn.model_selection import cross_val_score\n",
        "\n",
        "# Cross-validation for Naive Bayes\n",
        "nb_cv_scores = cross_val_score(nb_clf, X_train_selected, y_train, cv=5, scoring='accuracy')\n",
        "nb_cv_precision = cross_val_score(nb_clf, X_train_selected, y_train, cv=5, scoring='precision')\n",
        "nb_cv_recall = cross_val_score(nb_clf, X_train_selected, y_train, cv=5, scoring='recall')\n",
        "nb_cv_f1_score = cross_val_score(nb_clf, X_train_selected, y_train, cv=5, scoring='f1')\n",
        "\n",
        "# Cross-validation for SVM\n",
        "svm_cv_scores = cross_val_score(svm_clf, X_train_selected, y_train, cv=5, scoring='accuracy')\n",
        "svm_cv_precision = cross_val_score(svm_clf, X_train_selected, y_train, cv=5, scoring='precision')\n",
        "svm_cv_recall = cross_val_score(svm_clf, X_train_selected, y_train, cv=5, scoring='recall')\n",
        "svm_cv_f1_score = cross_val_score(svm_clf, X_train_selected, y_train, cv=5, scoring='f1')\n",
        "\n",
        "# Cross-validation for Decision Tree\n",
        "dt_cv_scores = cross_val_score(dt_clf, X_train_selected, y_train, cv=5, scoring='accuracy')\n",
        "dt_cv_precision = cross_val_score(dt_clf, X_train_selected, y_train, cv=5, scoring='precision')\n",
        "dt_cv_recall = cross_val_score(dt_clf, X_train_selected, y_train, cv=5, scoring='recall')\n",
        "dt_cv_f1_score = cross_val_score(dt_clf, X_train_selected, y_train, cv=5, scoring='f1')\n",
        "\n",
        "# Cross-validation for Voting Ensemble\n",
        "voting_cv_scores = cross_val_score(voting_clf, X_train_selected, y_train, cv=5, scoring='accuracy')\n",
        "voting_cv_precision = cross_val_score(voting_clf, X_train_selected, y_train, cv=5, scoring='precision')\n",
        "voting_cv_recall = cross_val_score(voting_clf, X_train_selected, y_train, cv=5, scoring='recall')\n",
        "voting_cv_f1_score = cross_val_score(voting_clf, X_train_selected, y_train, cv=5, scoring='f1')\n",
        "\n",
        "# Print the average cross-validation scores for each classifier\n",
        "print(\"Cross-Validation Results:\")\n",
        "print(\"Naive Bayes:\")\n",
        "print(f\"Accuracy: {nb_cv_scores.mean():.2f}\")\n",
        "print(f\"Precision: {nb_cv_precision.mean():.2f}\")\n",
        "print(f\"Recall: {nb_cv_recall.mean():.2f}\")\n",
        "print(f\"F1-score: {nb_cv_f1_score.mean():.2f}\")\n",
        "print()\n",
        "\n",
        "print(\"SVM:\")\n",
        "print(f\"Accuracy: {svm_cv_scores.mean():.2f}\")\n",
        "print(f\"Precision: {svm_cv_precision.mean():.2f}\")\n",
        "print(f\"Recall: {svm_cv_recall.mean():.2f}\")\n",
        "print(f\"F1-score: {svm_cv_f1_score.mean():.2f}\")\n",
        "print()\n",
        "\n",
        "print(\"Decision Tree:\")\n",
        "print(f\"Accuracy: {dt_cv_scores.mean():.2f}\")\n",
        "print(f\"Precision: {dt_cv_precision.mean():.2f}\")\n",
        "print(f\"Recall: {dt_cv_recall.mean():.2f}\")\n",
        "print(f\"F1-score: {dt_cv_f1_score.mean():.2f}\")\n",
        "print()\n",
        "\n",
        "print(\"Voting Ensemble:\")\n",
        "print(f\"Accuracy: {voting_cv_scores.mean():.2f}\")\n",
        "print(f\"Precision: {voting_cv_precision.mean():.2f}\")\n",
        "print(f\"Recall: {voting_cv_recall.mean():.2f}\")\n",
        "print(f\"F1-score: {voting_cv_f1_score.mean():.2f}\")"
      ],
      "metadata": {
        "colab": {
          "base_uri": "https://localhost:8080/"
        },
        "id": "b-jtAZAdKFS5",
        "outputId": "d99e8c5f-957c-446b-e99e-c733043941e4"
      },
      "execution_count": 51,
      "outputs": [
        {
          "output_type": "stream",
          "name": "stdout",
          "text": [
            "Cross-Validation Results:\n",
            "Naive Bayes:\n",
            "Accuracy: 0.96\n",
            "Precision: 0.94\n",
            "Recall: 0.98\n",
            "F1-score: 0.96\n",
            "\n",
            "SVM:\n",
            "Accuracy: 0.97\n",
            "Precision: 0.99\n",
            "Recall: 0.96\n",
            "F1-score: 0.97\n",
            "\n",
            "Decision Tree:\n",
            "Accuracy: 0.99\n",
            "Precision: 1.00\n",
            "Recall: 0.98\n",
            "F1-score: 0.99\n",
            "\n",
            "Voting Ensemble:\n",
            "Accuracy: 0.98\n",
            "Precision: 0.99\n",
            "Recall: 0.98\n",
            "F1-score: 0.98\n"
          ]
        }
      ]
    },
    {
      "cell_type": "code",
      "source": [
        "# Generate ROC curve and calculate ROC-AUC score for the voting ensemble\n",
        "voting_y_prob = voting_clf.predict_proba(X_test_selected)[:, 1]\n",
        "voting_roc_auc = roc_auc_score(y_test, voting_y_prob)\n",
        "fpr_voting, tpr_voting, _ = roc_curve(y_test, voting_y_prob)"
      ],
      "metadata": {
        "id": "HQI6xT5WM_Mg"
      },
      "execution_count": 52,
      "outputs": []
    },
    {
      "cell_type": "code",
      "source": [
        "import matplotlib.pyplot as plt\n",
        "\n",
        "# Function to plot ROC curve\n",
        "def plot_roc_curve(fpr, tpr, roc_auc, label):\n",
        "    plt.plot(fpr, tpr, label=f'{label} (AUC = {roc_auc:.2f})')\n",
        "\n",
        "# Plot ROC curves\n",
        "plt.figure(figsize=(5, 5))\n",
        "plot_roc_curve(fpr_nb, tpr_nb, nb_roc_auc, 'Naive Bayes')\n",
        "plot_roc_curve(fpr_svm, tpr_svm, svm_roc_auc, 'SVM')\n",
        "plot_roc_curve(fpr_dt, tpr_dt, dt_roc_auc, 'Decision Tree')\n",
        "plot_roc_curve(fpr_voting, tpr_voting, voting_roc_auc, 'Voting Hybrid Ensemble')\n",
        "#plt.plot([0, 1], [0, 1], 'k--', color='gray', label='Random Guessing')\n",
        "#plt.xlabel('False Positive Rate')\n",
        "#plt.ylabel('True Positive Rate')\n",
        "plt.title('ROC Curves')\n",
        "plt.legend(loc='lower right')\n",
        "#plt.grid()\n",
        "plt.show()\n",
        "\n"
      ],
      "metadata": {
        "colab": {
          "base_uri": "https://localhost:8080/",
          "height": 468
        },
        "id": "na_hRN5tesyC",
        "outputId": "1f5d028d-f834-44f8-a876-8d14ca97981e"
      },
      "execution_count": 53,
      "outputs": [
        {
          "output_type": "display_data",
          "data": {
            "text/plain": [
              "<Figure size 500x500 with 1 Axes>"
            ],
            "image/png": "[encoded data removed]"
          },
          "metadata": {}
        }
      ]
    },
    {
      "cell_type": "code",
      "source": [
        "import matplotlib.pyplot as plt\n",
        "\n",
        "# Function to plot ROC curve\n",
        "def plot_roc_curve(fpr, tpr, roc_auc, label):\n",
        "    plt.plot(fpr, tpr, label=f'{label} (AUC = {roc_auc:.2f})')\n",
        "\n",
        "# Plot ROC curves\n",
        "plt.figure(figsize=(4, 4))\n",
        "plot_roc_curve(fpr_nb, tpr_nb, nb_roc_auc, 'Naive Bayes')\n",
        "#plot_roc_curve(fpr_svm, tpr_svm, svm_roc_auc, 'SVM')\n",
        "#plot_roc_curve(fpr_dt, tpr_dt, dt_roc_auc, 'Decision Tree')\n",
        "#plot_roc_curve(fpr_voting, tpr_voting, voting_roc_auc, 'Voting Ensemble')\n",
        "#plt.plot([0, 1], [0, 1], 'k--', color='gray', label='Random Guessing')\n",
        "#plt.xlabel('False Positive Rate')\n",
        "#plt.ylabel('True Positive Rate')\n",
        "plt.title('ROC Curves')\n",
        "plt.legend(loc='lower right')\n",
        "#plt.grid()\n",
        "plt.show()"
      ],
      "metadata": {
        "colab": {
          "base_uri": "https://localhost:8080/",
          "height": 391
        },
        "id": "In14Eousg9WW",
        "outputId": "054ce9fe-1ba5-466f-ab10-1367139eb22e"
      },
      "execution_count": 54,
      "outputs": [
        {
          "output_type": "display_data",
          "data": {
            "text/plain": [
              "<Figure size 400x400 with 1 Axes>"
            ],
            "image/png": "[encoded data removed]"
          },
          "metadata": {}
        }
      ]
    },
    {
      "cell_type": "code",
      "source": [],
      "metadata": {
        "id": "-0R0NMncnSIT"
      },
      "execution_count": null,
      "outputs": []
    },
    {
      "cell_type": "code",
      "source": [
        "import matplotlib.pyplot as plt\n",
        "\n",
        "# Function to plot ROC curve\n",
        "def plot_roc_curve(fpr, tpr, roc_auc, label):\n",
        "    plt.plot(fpr, tpr, label=f'{label} (AUC = {roc_auc:.2f})')\n",
        "\n",
        "# Plot ROC curves\n",
        "plt.figure(figsize=(4, 4))\n",
        "#plot_roc_curve(fpr_nb, tpr_nb, nb_roc_auc, 'Naive Bayes')\n",
        "plot_roc_curve(fpr_svm, tpr_svm, svm_roc_auc, 'SVM')\n",
        "#plot_roc_curve(fpr_dt, tpr_dt, dt_roc_auc, 'Decision Tree')\n",
        "#plot_roc_curve(fpr_voting, tpr_voting, voting_roc_auc, 'Voting Ensemble')\n",
        "#plt.plot([0, 1], [0, 1], 'k--', color='gray', label='Random Guessing')\n",
        "#plt.xlabel('False Positive Rate')\n",
        "#plt.ylabel('True Positive Rate')\n",
        "plt.title('ROC Curves')\n",
        "plt.legend(loc='lower right')\n",
        "#plt.grid()\n",
        "plt.show()"
      ],
      "metadata": {
        "colab": {
          "base_uri": "https://localhost:8080/",
          "height": 391
        },
        "id": "FsaRtIi9hYjC",
        "outputId": "2ea34596-b886-4957-e87e-c41ad3fb9594"
      },
      "execution_count": 55,
      "outputs": [
        {
          "output_type": "display_data",
          "data": {
            "text/plain": [
              "<Figure size 400x400 with 1 Axes>"
            ],
            "image/png": "[encoded data removed]"
          },
          "metadata": {}
        }
      ]
    },
    {
      "cell_type": "code",
      "source": [
        "import matplotlib.pyplot as plt\n",
        "\n",
        "# Function to plot ROC curve\n",
        "def plot_roc_curve(fpr, tpr, roc_auc, label):\n",
        "    plt.plot(fpr, tpr, label=f'{label} (AUC = {roc_auc:.2f})')\n",
        "\n",
        "# Plot ROC curves\n",
        "plt.figure(figsize=(4, 4))\n",
        "#plot_roc_curve(fpr_nb, tpr_nb, nb_roc_auc, 'Naive Bayes')\n",
        "#plot_roc_curve(fpr_svm, tpr_svm, svm_roc_auc, 'SVM')\n",
        "plot_roc_curve(fpr_dt, tpr_dt, dt_roc_auc, 'Decision Tree')\n",
        "#plot_roc_curve(fpr_voting, tpr_voting, voting_roc_auc, 'Voting Ensemble')\n",
        "#plt.plot([0, 1], [0, 1], 'k--', color='gray', label='Random Guessing')\n",
        "#plt.xlabel('False Positive Rate')\n",
        "#plt.ylabel('True Positive Rate')\n",
        "plt.title('ROC Curves')\n",
        "plt.legend(loc='lower right')\n",
        "#plt.grid()\n",
        "plt.show()"
      ],
      "metadata": {
        "colab": {
          "base_uri": "https://localhost:8080/",
          "height": 391
        },
        "id": "8QMXbSvOhjca",
        "outputId": "160b7798-5abc-4888-a190-21035f1e037d"
      },
      "execution_count": 56,
      "outputs": [
        {
          "output_type": "display_data",
          "data": {
            "text/plain": [
              "<Figure size 400x400 with 1 Axes>"
            ],
            "image/png": "[encoded data removed]"
          },
          "metadata": {}
        }
      ]
    },
    {
      "cell_type": "code",
      "source": [
        "import matplotlib.pyplot as plt\n",
        "\n",
        "# Function to plot ROC curve\n",
        "def plot_roc_curve(fpr, tpr, roc_auc, label):\n",
        "    plt.plot(fpr, tpr, label=f'{label} (AUC = {roc_auc:.2f})')\n",
        "\n",
        "# Plot ROC curves\n",
        "plt.figure(figsize=(4, 4))\n",
        "#plot_roc_curve(fpr_nb, tpr_nb, nb_roc_auc, 'Naive Bayes')\n",
        "#plot_roc_curve(fpr_svm, tpr_svm, svm_roc_auc, 'SVM')\n",
        "#plot_roc_curve(fpr_dt, tpr_dt, dt_roc_auc, 'Decision Tree')\n",
        "plot_roc_curve(fpr_voting, tpr_voting, voting_roc_auc, 'Voting Hybrid Ensemble')\n",
        "#plt.plot([0, 1], [0, 1], 'k--', color='gray', label='Random Guessing')\n",
        "#plt.xlabel('False Positive Rate')\n",
        "#plt.ylabel('True Positive Rate')\n",
        "plt.title('ROC Curves')\n",
        "plt.legend(loc='lower right')\n",
        "#plt.grid()\n",
        "plt.show()"
      ],
      "metadata": {
        "colab": {
          "base_uri": "https://localhost:8080/",
          "height": 391
        },
        "id": "PxgGkitIhsAo",
        "outputId": "40ff3411-988b-4c72-847e-b95f0418665e"
      },
      "execution_count": 57,
      "outputs": [
        {
          "output_type": "display_data",
          "data": {
            "text/plain": [
              "<Figure size 400x400 with 1 Axes>"
            ],
            "image/png": "[encoded data removed]"
          },
          "metadata": {}
        }
      ]
    },
    {
      "cell_type": "code",
      "source": [
        "# Function to plot confusion matrix\n",
        "def plot_confusion_matrix(conf_matrix, title):\n",
        "    plt.imshow(conf_matrix, interpolation='nearest', cmap=plt.cm.Blues)\n",
        "    plt.title(title)\n",
        "    plt.colorbar()\n",
        "    plt.xticks([0, 1], ['Not CKD', 'CKD'])  # Complete the line to add 'CKD' label\n",
        "    plt.yticks([0, 1], ['Not CKD', 'CKD'])  # Add y-axis labels as well\n",
        "    plt.xlabel('Predicted Label')\n",
        "    plt.ylabel('True Label')\n",
        "    plt.show()\n",
        "\n"
      ],
      "metadata": {
        "id": "_moN9eRAfy2Q"
      },
      "execution_count": 58,
      "outputs": []
    },
    {
      "cell_type": "code",
      "source": [],
      "metadata": {
        "id": "D3Icc2P_mEB9"
      },
      "execution_count": null,
      "outputs": []
    },
    {
      "cell_type": "code",
      "source": [
        "# Function to plot confusion matrix\n",
        "def plot_confusion_matrix(conf_matrix, title):\n",
        "    plt.imshow(conf_matrix, interpolation='nearest', cmap=plt.cm.Blues)\n",
        "    plt.title(title)\n",
        "    plt.colorbar()\n",
        "    plt.xticks([0, 1], ['Not CKD', 'CKD'])  # Complete the line to add 'CKD' label\n",
        "    plt.yticks([0, 1], ['Not CKD', 'CKD'])  # Add y-axis labels as well\n",
        "    plt.xlabel('Predicted Label')\n",
        "    plt.ylabel('True Label')\n",
        "    plt.show()\n",
        "\n"
      ],
      "metadata": {
        "id": "AJc0xhxEl3sB"
      },
      "execution_count": 59,
      "outputs": []
    },
    {
      "cell_type": "code",
      "source": [],
      "metadata": {
        "id": "OAEL9of-l4L6"
      },
      "execution_count": null,
      "outputs": []
    },
    {
      "cell_type": "code",
      "source": [
        "# Function to plot confusion matrix\n",
        "def plot_confusion_matrix(conf_matrix, title):\n",
        "    plt.imshow(conf_matrix, interpolation='nearest', cmap=plt.cm.Blues)\n",
        "    plt.title(title)\n",
        "    plt.colorbar()\n",
        "    plt.xticks([0, 1], ['Not CKD', 'CKD'])\n",
        "    plt.yticks([0, 1], ['Not CKD', 'CKD'])\n",
        "    plt.xlabel('Predicted label')\n",
        "    plt.ylabel('True label')\n",
        "    plt.title(title)\n",
        "\n",
        "    # Annotate the confusion matrix cells with values\n",
        "    for i in range(2):\n",
        "        for j in range(2):\n",
        "            plt.text(j, i, str(conf_matrix[i, j]), horizontalalignment=\"center\", verticalalignment=\"center\")\n",
        "\n",
        "    plt.show()\n",
        "\n",
        "#Naive bayes classification report\n",
        "from sklearn.metrics import classification_report\n",
        "nb_y_pred = nb_clf.predict(X_test_selected)\n",
        "print(classification_report(y_test, nb_y_pred))\n",
        "\n",
        "\n",
        "# Plot confusion matrices\n",
        "\n",
        "plt.figure(figsize=(10, 2))\n",
        "plt.subplot(1, 3, 1)\n",
        "plot_confusion_matrix(nb_conf_matrix, title='Confusion Matrix - Naive Bayes')\n",
        "\n",
        "#SVM classification report\n",
        "from sklearn.metrics import classification_report\n",
        "Svm_y_pred = svm_clf.predict(X_test_selected)\n",
        "print(classification_report(y_test, Svm_y_pred))\n",
        "\n",
        "# Plot confusion matrices\n",
        "plt.figure(figsize=(10, 2))\n",
        "plt.subplot(1, 3, 1)\n",
        "plot_confusion_matrix(svm_conf_matrix, title='Confusion Matrix - SVM')\n",
        "\n",
        "#Decision tree classification report\n",
        "from sklearn.metrics import classification_report\n",
        "dt_y_pred = dt_clf.predict(X_test_selected)\n",
        "print(classification_report(y_test, dt_y_pred))\n",
        "\n",
        "# Plot confusion matrices\n",
        "plt.figure(figsize=(10, 2))\n",
        "plt.subplot(1, 3, 3)\n",
        "plot_confusion_matrix(dt_conf_matrix, title='Confusion Matrix - Decision Tree')\n",
        "\n",
        "\n",
        "#clssification report for Hybrid ensemble\n",
        "from sklearn.metrics import classification_report\n",
        "voting_y_pred = voting_clf.predict(X_test_selected)\n",
        "print(classification_report(y_test, voting_y_pred))\n",
        "\n",
        "# Plot confusion matrices\n",
        "plt.figure(figsize=(10, 2))\n",
        "plot_confusion_matrix(voting_conf_matrix, title='Confusion Matrix - Soft Voting Hybrid Ensemble')"
      ],
      "metadata": {
        "colab": {
          "base_uri": "https://localhost:8080/",
          "height": 1000
        },
        "id": "UR-GmnxMgASk",
        "outputId": "9b4c9c0a-36d1-4d7d-a1f5-220b23fe9bba"
      },
      "execution_count": 60,
      "outputs": [
        {
          "output_type": "stream",
          "name": "stdout",
          "text": [
            "              precision    recall  f1-score   support\n",
            "\n",
            "           0       1.00      1.00      1.00        15\n",
            "           1       1.00      1.00      1.00        31\n",
            "\n",
            "    accuracy                           1.00        46\n",
            "   macro avg       1.00      1.00      1.00        46\n",
            "weighted avg       1.00      1.00      1.00        46\n",
            "\n"
          ]
        },
        {
          "output_type": "display_data",
          "data": {
            "text/plain": [
              "<Figure size 1000x200 with 2 Axes>"
            ],
            "image/png": "[encoded data removed]"
          },
          "metadata": {}
        },
        {
          "output_type": "stream",
          "name": "stdout",
          "text": [
            "              precision    recall  f1-score   support\n",
            "\n",
            "           0       1.00      0.93      0.97        15\n",
            "           1       0.97      1.00      0.98        31\n",
            "\n",
            "    accuracy                           0.98        46\n",
            "   macro avg       0.98      0.97      0.97        46\n",
            "weighted avg       0.98      0.98      0.98        46\n",
            "\n"
          ]
        },
        {
          "output_type": "display_data",
          "data": {
            "text/plain": [
              "<Figure size 1000x200 with 2 Axes>"
            ],
            "image/png": "[encoded data removed]"
          },
          "metadata": {}
        },
        {
          "output_type": "stream",
          "name": "stdout",
          "text": [
            "              precision    recall  f1-score   support\n",
            "\n",
            "           0       1.00      0.93      0.97        15\n",
            "           1       0.97      1.00      0.98        31\n",
            "\n",
            "    accuracy                           0.98        46\n",
            "   macro avg       0.98      0.97      0.97        46\n",
            "weighted avg       0.98      0.98      0.98        46\n",
            "\n"
          ]
        },
        {
          "output_type": "display_data",
          "data": {
            "text/plain": [
              "<Figure size 1000x200 with 2 Axes>"
            ],
            "image/png": "[encoded data removed]"
          },
          "metadata": {}
        },
        {
          "output_type": "stream",
          "name": "stdout",
          "text": [
            "              precision    recall  f1-score   support\n",
            "\n",
            "           0       1.00      0.93      0.97        15\n",
            "           1       0.97      1.00      0.98        31\n",
            "\n",
            "    accuracy                           0.98        46\n",
            "   macro avg       0.98      0.97      0.97        46\n",
            "weighted avg       0.98      0.98      0.98        46\n",
            "\n"
          ]
        },
        {
          "output_type": "display_data",
          "data": {
            "text/plain": [
              "<Figure size 1000x200 with 2 Axes>"
            ],
            "image/png": "[encoded data removed]"
          },
          "metadata": {}
        }
      ]
    },
    {
      "cell_type": "code",
      "source": [
        "#clssification report for Hybrid ensemble\n",
        "from sklearn.metrics import classification_report\n",
        "voting_y_pred = voting_clf.predict(X_test_selected)\n",
        "print(classification_report(y_test, voting_y_pred))"
      ],
      "metadata": {
        "id": "Xj_FMNGak1K9",
        "colab": {
          "base_uri": "https://localhost:8080/"
        },
        "outputId": "db18adf1-8cf7-403e-f5aa-7a4f0773a6ee"
      },
      "execution_count": null,
      "outputs": [
        {
          "output_type": "stream",
          "name": "stdout",
          "text": [
            "              precision    recall  f1-score   support\n",
            "\n",
            "           0       1.00      0.93      0.97        15\n",
            "           1       0.97      1.00      0.98        31\n",
            "\n",
            "    accuracy                           0.98        46\n",
            "   macro avg       0.98      0.97      0.97        46\n",
            "weighted avg       0.98      0.98      0.98        46\n",
            "\n"
          ]
        }
      ]
    },
    {
      "cell_type": "code",
      "source": [
        "# Print accuracy, precision, recall, and F1-score for each classifier\n",
        "print(\"Naive Bayes:\")\n",
        "print(f\"Accuracy: {nb_accuracy:.2f}\")\n",
        "print(f\"Precision: {nb_precision:.2f}\")\n",
        "print(f\"Recall: {nb_recall:.2f}\")\n",
        "print(f\"F1-score: {nb_f1_score:.2f}\")\n",
        "print()\n",
        "\n",
        "print(\"SVM:\")\n",
        "print(f\"Accuracy: {svm_accuracy:.2f}\")\n",
        "print(f\"Precision: {svm_precision:.2f}\")\n",
        "print(f\"Recall: {svm_recall:.2f}\")\n",
        "print(f\"F1-score: {svm_f1_score:.2f}\")\n",
        "print()\n",
        "\n",
        "print(\"Decision Tree:\")\n",
        "print(f\"Accuracy: {dt_accuracy:.2f}\")\n",
        "print(f\"Precision: {dt_precision:.2f}\")\n",
        "print(f\"Recall: {dt_recall:.2f}\")\n",
        "print(f\"F1-score: {dt_f1_score:.2f}\")\n",
        "print()\n",
        "\n",
        "print(\"Voting Ensemble:\")\n",
        "print(f\"Accuracy: {voting_accuracy:.2f}\")\n",
        "print(f\"Precision: {voting_precision:.2f}\")\n",
        "print(f\"Recall: {voting_recall:.2f}\")\n",
        "print(f\"F1-score: {voting_f1_score:.2f}\")\n"
      ],
      "metadata": {
        "colab": {
          "base_uri": "https://localhost:8080/"
        },
        "id": "svR5uwRLnUgA",
        "outputId": "d53e27b6-2a3f-4f0e-aacd-df538d72e6af"
      },
      "execution_count": 61,
      "outputs": [
        {
          "output_type": "stream",
          "name": "stdout",
          "text": [
            "Naive Bayes:\n",
            "Accuracy: 1.00\n",
            "Precision: 1.00\n",
            "Recall: 1.00\n",
            "F1-score: 1.00\n",
            "\n",
            "SVM:\n",
            "Accuracy: 0.98\n",
            "Precision: 0.97\n",
            "Recall: 1.00\n",
            "F1-score: 0.98\n",
            "\n",
            "Decision Tree:\n",
            "Accuracy: 0.98\n",
            "Precision: 0.97\n",
            "Recall: 1.00\n",
            "F1-score: 0.98\n",
            "\n",
            "Voting Ensemble:\n",
            "Accuracy: 0.98\n",
            "Precision: 0.97\n",
            "Recall: 1.00\n",
            "F1-score: 0.98\n"
          ]
        }
      ]
    },
    {
      "cell_type": "code",
      "source": [
        "import matplotlib.pyplot as plt\n",
        "\n",
        "# Data for each metric\n",
        "accuracy_scores = [nb_accuracy, svm_accuracy, dt_accuracy, voting_accuracy]\n",
        "precision_scores = [nb_precision, svm_precision, dt_precision, voting_precision]\n",
        "recall_scores = [nb_recall, svm_recall, dt_recall, voting_recall]\n",
        "f1_scores = [nb_f1_score, svm_f1_score, dt_f1_score, voting_f1_score]\n",
        "\n",
        "# Original labels for the classifiers\n",
        "classifiers = ['Naive Bayes', 'SVM', 'Decision Tree', 'HE_Model']\n",
        "\n",
        "# Capitalize the classifier names\n",
        "classifiers_capitalized = [classifier.title() for classifier in classifiers]\n",
        "\n",
        "# Create subplots for each metric\n",
        "fig, axes = plt.subplots(2, 2, figsize=(12, 8))\n",
        "fig.subplots_adjust(hspace=0.4)\n",
        "\n",
        "# Plot histograms for each metric\n",
        "for i, metric_name in enumerate(['Accuracy', 'Precision', 'Recall', 'F1-score']):\n",
        "    row, col = i // 2, i % 2\n",
        "    axes[row, col].bar(classifiers_capitalized, [accuracy_scores[i], precision_scores[i], recall_scores[i], f1_scores[i]], color=['skyblue', 'lightgreen', 'lightcoral', 'lightsalmon'])\n",
        "    axes[row, col].set_title(metric_name)\n",
        "    axes[row, col].set_ylim(0, 1)\n",
        "\n",
        "# Display the histograms\n",
        "plt.show()\n"
      ],
      "metadata": {
        "colab": {
          "base_uri": "https://localhost:8080/",
          "height": 699
        },
        "id": "5dADJ4haXXcX",
        "outputId": "d25f5fe6-a0e9-4755-f805-6eaf17c9237c"
      },
      "execution_count": 93,
      "outputs": [
        {
          "output_type": "display_data",
          "data": {
            "text/plain": [
              "<Figure size 1200x800 with 4 Axes>"
            ],
            "image/png": "[encoded data removed]"
          },
          "metadata": {}
        }
      ]
    },
    {
      "cell_type": "code",
      "source": [
        "from sklearn.model_selection import cross_val_score\n",
        "\n",
        "# Cross-validation for Naive Bayes\n",
        "nb_cv_scores = cross_val_score(nb_clf, X_train_selected, y_train, cv=5, scoring='accuracy')\n",
        "nb_cv_precision = cross_val_score(nb_clf, X_train_selected, y_train, cv=5, scoring='precision')\n",
        "nb_cv_recall = cross_val_score(nb_clf, X_train_selected, y_train, cv=5, scoring='recall')\n",
        "nb_cv_f1_score = cross_val_score(nb_clf, X_train_selected, y_train, cv=5, scoring='f1')\n",
        "\n",
        "# Cross-validation for SVM\n",
        "svm_cv_scores = cross_val_score(svm_clf, X_train_selected, y_train, cv=5, scoring='accuracy')\n",
        "svm_cv_precision = cross_val_score(svm_clf, X_train_selected, y_train, cv=5, scoring='precision')\n",
        "svm_cv_recall = cross_val_score(svm_clf, X_train_selected, y_train, cv=5, scoring='recall')\n",
        "svm_cv_f1_score = cross_val_score(svm_clf, X_train_selected, y_train, cv=5, scoring='f1')\n",
        "\n",
        "# Cross-validation for Decision Tree\n",
        "dt_cv_scores = cross_val_score(dt_clf, X_train_selected, y_train, cv=5, scoring='accuracy')\n",
        "dt_cv_precision = cross_val_score(dt_clf, X_train_selected, y_train, cv=5, scoring='precision')\n",
        "dt_cv_recall = cross_val_score(dt_clf, X_train_selected, y_train, cv=5, scoring='recall')\n",
        "dt_cv_f1_score = cross_val_score(dt_clf, X_train_selected, y_train, cv=5, scoring='f1')\n",
        "\n",
        "# Cross-validation for Voting Ensemble\n",
        "voting_cv_scores = cross_val_score(voting_clf, X_train_selected, y_train, cv=5, scoring='accuracy')\n",
        "voting_cv_precision = cross_val_score(voting_clf, X_train_selected, y_train, cv=5, scoring='precision')\n",
        "voting_cv_recall = cross_val_score(voting_clf, X_train_selected, y_train, cv=5, scoring='recall')\n",
        "voting_cv_f1_score = cross_val_score(voting_clf, X_train_selected, y_train, cv=5, scoring='f1')\n",
        "\n",
        "# Print the average cross-validation scores for each classifier\n",
        "print(\"Cross-Validation Results:\")\n",
        "print(\"Naive Bayes:\")\n",
        "print(f\"Accuracy: {nb_cv_scores.mean():.2f}\")\n",
        "print(f\"Precision: {nb_cv_precision.mean():.2f}\")\n",
        "print(f\"Recall: {nb_cv_recall.mean():.2f}\")\n",
        "print(f\"F1-score: {nb_cv_f1_score.mean():.2f}\")\n",
        "print()\n",
        "#Naive bayes classification report\n",
        "from sklearn.metrics import classification_report\n",
        "nb_y_pred = nb_clf.predict(X_test_selected)\n",
        "print(classification_report(y_test, nb_y_pred))\n",
        "\n",
        "print(\"SVM:\")\n",
        "print(f\"Accuracy: {svm_cv_scores.mean():.2f}\")\n",
        "print(f\"Precision: {svm_cv_precision.mean():.2f}\")\n",
        "print(f\"Recall: {svm_cv_recall.mean():.2f}\")\n",
        "print(f\"F1-score: {svm_cv_f1_score.mean():.2f}\")\n",
        "print()\n",
        "\n",
        "print(\"Decision Tree:\")\n",
        "print(f\"Accuracy: {dt_cv_scores.mean():.2f}\")\n",
        "print(f\"Precision: {dt_cv_precision.mean():.2f}\")\n",
        "print(f\"Recall: {dt_cv_recall.mean():.2f}\")\n",
        "print(f\"F1-score: {dt_cv_f1_score.mean():.2f}\")\n",
        "print()\n",
        "\n",
        "print(\"Voting Ensemble:\")\n",
        "print(f\"Accuracy: {voting_cv_scores.mean():.2f}\")\n",
        "print(f\"Precision: {voting_cv_precision.mean():.2f}\")\n",
        "print(f\"Recall: {voting_cv_recall.mean():.2f}\")\n",
        "print(f\"F1-score: {voting_cv_f1_score.mean():.2f}\")\n"
      ],
      "metadata": {
        "colab": {
          "base_uri": "https://localhost:8080/"
        },
        "id": "lSHuGaPsn7Wt",
        "outputId": "1fb5228b-0541-446d-8c2b-fbadabb23a86"
      },
      "execution_count": null,
      "outputs": [
        {
          "output_type": "stream",
          "name": "stdout",
          "text": [
            "Cross-Validation Results:\n",
            "Naive Bayes:\n",
            "Accuracy: 0.96\n",
            "Precision: 0.94\n",
            "Recall: 0.98\n",
            "F1-score: 0.96\n",
            "\n",
            "              precision    recall  f1-score   support\n",
            "\n",
            "           0       1.00      1.00      1.00        15\n",
            "           1       1.00      1.00      1.00        31\n",
            "\n",
            "    accuracy                           1.00        46\n",
            "   macro avg       1.00      1.00      1.00        46\n",
            "weighted avg       1.00      1.00      1.00        46\n",
            "\n",
            "SVM:\n",
            "Accuracy: 0.97\n",
            "Precision: 0.99\n",
            "Recall: 0.96\n",
            "F1-score: 0.97\n",
            "\n",
            "Decision Tree:\n",
            "Accuracy: 0.99\n",
            "Precision: 1.00\n",
            "Recall: 0.98\n",
            "F1-score: 0.99\n",
            "\n",
            "Voting Ensemble:\n",
            "Accuracy: 0.98\n",
            "Precision: 0.99\n",
            "Recall: 0.98\n",
            "F1-score: 0.98\n"
          ]
        }
      ]
    },
    {
      "cell_type": "code",
      "source": [
        "import matplotlib.pyplot as plt\n",
        "\n",
        "# Cross-validation results for each classifier\n",
        "accuracy_scores = [nb_cv_scores.mean(), svm_cv_scores.mean(), dt_cv_scores.mean(), voting_cv_scores.mean()]\n",
        "precision_scores = [nb_cv_precision.mean(), svm_cv_precision.mean(), dt_cv_precision.mean(), voting_cv_precision.mean()]\n",
        "recall_scores = [nb_cv_recall.mean(), svm_cv_recall.mean(), dt_cv_recall.mean(), voting_cv_recall.mean()]\n",
        "f1_scores = [nb_cv_f1_score.mean(), svm_cv_f1_score.mean(), dt_cv_f1_score.mean(), voting_cv_f1_score.mean()]\n",
        "\n",
        "# Labels for classifiers\n",
        "classifiers = ['Naive Bayes', 'SVM', 'Decision Tree', \" \" 'HE-Model']\n",
        "\n",
        "# Create subplots for each metric\n",
        "plt.figure(figsize=(15, 3))\n",
        "\n",
        "# Accuracy histogram\n",
        "plt.subplot(1, 4, 1)\n",
        "plt.bar(classifiers, accuracy_scores, color='skyblue')\n",
        "plt.title('Accuracy')\n",
        "plt.ylim(0, 1)\n",
        "\n",
        "# Precision histogram\n",
        "plt.subplot(1, 4, 2)\n",
        "plt.bar(classifiers, precision_scores, color='salmon')\n",
        "plt.title('Precision')\n",
        "plt.ylim(0, 1)\n",
        "\n",
        "# Recall histogram\n",
        "plt.subplot(1, 4, 3)\n",
        "plt.bar(classifiers, recall_scores, color='lightgreen')\n",
        "plt.title('Recall')\n",
        "plt.ylim(0, 1)\n",
        "\n",
        "# F1-score histogram\n",
        "plt.subplot(1, 4, 4)\n",
        "plt.bar(classifiers, f1_scores, color='lightcoral')\n",
        "plt.title('F1-score')\n",
        "plt.ylim(0, 1)\n",
        "\n",
        "# Adjust spacing between subplots\n",
        "plt.tight_layout()\n",
        "\n",
        "# Show the histograms\n",
        "plt.show()\n"
      ],
      "metadata": {
        "colab": {
          "base_uri": "https://localhost:8080/",
          "height": 289
        },
        "id": "QnLJKuf7Pn9U",
        "outputId": "f85661e8-9ab3-4173-b8de-2347f71d4679"
      },
      "execution_count": 67,
      "outputs": [
        {
          "output_type": "display_data",
          "data": {
            "text/plain": [
              "<Figure size 1500x300 with 4 Axes>"
            ],
            "image/png": "[encoded data removed]"
          },
          "metadata": {}
        }
      ]
    },
    {
      "cell_type": "code",
      "source": [
        "import matplotlib.pyplot as plt\n",
        "\n",
        "# Cross-validation results for each classifier\n",
        "accuracy_scores = [nb_cv_scores.mean(), svm_cv_scores.mean(), dt_cv_scores.mean(), voting_cv_scores.mean()]\n",
        "precision_scores = [nb_cv_precision.mean(), svm_cv_precision.mean(), dt_cv_precision.mean(), voting_cv_precision.mean()]\n",
        "recall_scores = [nb_cv_recall.mean(), svm_cv_recall.mean(), dt_cv_recall.mean(), voting_cv_recall.mean()]\n",
        "f1_scores = [nb_cv_f1_score.mean(), svm_cv_f1_score.mean(), dt_cv_f1_score.mean(), voting_cv_f1_score.mean()]\n",
        "\n",
        "# Labels for classifiers\n",
        "classifiers = ['Naive Bayes', 'SVM', 'Decision Tree', \" \" 'HE-Model']\n",
        "\n",
        "# Create subplots for each metric\n",
        "plt.figure(figsize=(15, 5))\n",
        "\n",
        "# Accuracy histogram\n",
        "plt.subplot(1, 4, 1)\n",
        "plt.bar(classifiers, accuracy_scores, color='skyblue')\n",
        "plt.title('Accuracy')\n",
        "plt.ylim(0, 1)\n",
        "\n",
        "\n",
        "\n",
        "\n",
        "\n",
        "\n",
        "# Adjust spacing between subplots\n",
        "plt.tight_layout()\n",
        "\n",
        "# Show the histograms\n",
        "plt.show()\n"
      ],
      "metadata": {
        "colab": {
          "base_uri": "https://localhost:8080/",
          "height": 507
        },
        "id": "Ijs9-0wRRfx3",
        "outputId": "4a4e9115-298c-4859-b9d5-7e85cc1a4e9b"
      },
      "execution_count": 70,
      "outputs": [
        {
          "output_type": "display_data",
          "data": {
            "text/plain": [
              "<Figure size 1500x500 with 1 Axes>"
            ],
            "image/png": "[encoded data removed]"
          },
          "metadata": {}
        }
      ]
    },
    {
      "cell_type": "code",
      "source": [],
      "metadata": {
        "id": "ZxWH4OKmRgZG"
      },
      "execution_count": null,
      "outputs": []
    },
    {
      "cell_type": "code",
      "source": [
        "import matplotlib.pyplot as plt\n",
        "\n",
        "# Cross-validation results for each classifier\n",
        "accuracy_scores = [nb_cv_scores.mean(), svm_cv_scores.mean(), dt_cv_scores.mean(), voting_cv_scores.mean()]\n",
        "precision_scores = [nb_cv_precision.mean(), svm_cv_precision.mean(), dt_cv_precision.mean(), voting_cv_precision.mean()]\n",
        "recall_scores = [nb_cv_recall.mean(), svm_cv_recall.mean(), dt_cv_recall.mean(), voting_cv_recall.mean()]\n",
        "f1_scores = [nb_cv_f1_score.mean(), svm_cv_f1_score.mean(), dt_cv_f1_score.mean(), voting_cv_f1_score.mean()]\n",
        "\n",
        "# Labels for classifiers\n",
        "classifiers = ['Naive Bayes', 'SVM', 'Decision Tree', \" \" 'HE-Model']\n",
        "\n",
        "# Create subplots for each metric\n",
        "plt.figure(figsize=(15, 5))\n",
        "\n",
        "\n",
        "\n",
        "# Precision histogram\n",
        "plt.subplot(1, 4, 2)\n",
        "plt.bar(classifiers, precision_scores, color='salmon')\n",
        "plt.title('Precision')\n",
        "plt.ylim(0, 1)\n",
        "\n",
        "\n",
        "\n",
        "# Adjust spacing between subplots\n",
        "plt.tight_layout()\n",
        "\n",
        "# Show the histograms\n",
        "plt.show()\n"
      ],
      "metadata": {
        "colab": {
          "base_uri": "https://localhost:8080/",
          "height": 507
        },
        "id": "WMhJ6sZGRg8D",
        "outputId": "b75ef13d-3807-4668-b036-c1811fe48fd0"
      },
      "execution_count": 72,
      "outputs": [
        {
          "output_type": "display_data",
          "data": {
            "text/plain": [
              "<Figure size 1500x500 with 1 Axes>"
            ],
            "image/png": "[encoded data removed]"
          },
          "metadata": {}
        }
      ]
    },
    {
      "cell_type": "code",
      "source": [
        "import matplotlib.pyplot as plt\n",
        "\n",
        "# Cross-validation results for each classifier\n",
        "accuracy_scores = [nb_cv_scores.mean(), svm_cv_scores.mean(), dt_cv_scores.mean(), voting_cv_scores.mean()]\n",
        "precision_scores = [nb_cv_precision.mean(), svm_cv_precision.mean(), dt_cv_precision.mean(), voting_cv_precision.mean()]\n",
        "recall_scores = [nb_cv_recall.mean(), svm_cv_recall.mean(), dt_cv_recall.mean(), voting_cv_recall.mean()]\n",
        "f1_scores = [nb_cv_f1_score.mean(), svm_cv_f1_score.mean(), dt_cv_f1_score.mean(), voting_cv_f1_score.mean()]\n",
        "\n",
        "# Labels for classifiers\n",
        "classifiers = ['Naive Bayes', 'SVM', 'Decision Tree', \" \" 'HE-Model']\n",
        "\n",
        "# Create subplots for each metric\n",
        "plt.figure(figsize=(15, 5))\n",
        "\n",
        "\n",
        "\n",
        "# Recall histogram\n",
        "plt.subplot(1, 4, 2)\n",
        "plt.bar(classifiers, recall_scores, color='lightgreen')\n",
        "plt.title('Recall')\n",
        "plt.ylim(0, 1)\n",
        "\n",
        "\n",
        "\n",
        "# Adjust spacing between subplots\n",
        "plt.tight_layout()\n",
        "\n",
        "# Show the histograms\n",
        "plt.show()\n"
      ],
      "metadata": {
        "colab": {
          "base_uri": "https://localhost:8080/",
          "height": 507
        },
        "id": "TfwztFwFRhyU",
        "outputId": "373b4b5f-4f62-4108-8177-86266509deb4"
      },
      "execution_count": 77,
      "outputs": [
        {
          "output_type": "display_data",
          "data": {
            "text/plain": [
              "<Figure size 1500x500 with 1 Axes>"
            ],
            "image/png": "[encoded data removed]"
          },
          "metadata": {}
        }
      ]
    },
    {
      "cell_type": "code",
      "source": [
        "import matplotlib.pyplot as plt\n",
        "\n",
        "# Cross-validation results for each classifier\n",
        "accuracy_scores = [nb_cv_scores.mean(), svm_cv_scores.mean(), dt_cv_scores.mean(), voting_cv_scores.mean()]\n",
        "precision_scores = [nb_cv_precision.mean(), svm_cv_precision.mean(), dt_cv_precision.mean(), voting_cv_precision.mean()]\n",
        "recall_scores = [nb_cv_recall.mean(), svm_cv_recall.mean(), dt_cv_recall.mean(), voting_cv_recall.mean()]\n",
        "f1_scores = [nb_cv_f1_score.mean(), svm_cv_f1_score.mean(), dt_cv_f1_score.mean(), voting_cv_f1_score.mean()]\n",
        "\n",
        "# Labels for classifiers\n",
        "classifiers = ['Naive Bayes', 'SVM', 'Decision Tree', \" \" 'HE-Model']\n",
        "\n",
        "# Create subplots for each metric\n",
        "plt.figure(figsize=(15, 5))\n",
        "\n",
        "\n",
        "\n",
        "\n",
        "# F1-score histogram\n",
        "plt.subplot(1, 4, 4)\n",
        "plt.bar(classifiers, f1_scores, color='lightcoral')\n",
        "plt.title('F1-score')\n",
        "plt.ylim(0, 1)\n",
        "\n",
        "# Adjust spacing between subplots\n",
        "plt.tight_layout()\n",
        "\n",
        "# Show the histograms\n",
        "plt.show()\n"
      ],
      "metadata": {
        "colab": {
          "base_uri": "https://localhost:8080/",
          "height": 507
        },
        "id": "Uz3M05ulTeRJ",
        "outputId": "a1f0cc9b-cd3a-416d-893a-53bb51c6c80c"
      },
      "execution_count": 81,
      "outputs": [
        {
          "output_type": "display_data",
          "data": {
            "text/plain": [
              "<Figure size 1500x500 with 1 Axes>"
            ],
            "image/png": "[encoded data removed]"
          },
          "metadata": {}
        }
      ]
    },
    {
      "cell_type": "code",
      "source": [
        "import matplotlib.pyplot as plt\n",
        "\n",
        "# Cross-validation results\n",
        "accuracy_scores = [nb_cv_scores.mean(), svm_cv_scores.mean(), dt_cv_scores.mean(), voting_cv_scores.mean()]\n",
        "precision_scores = [nb_cv_precision.mean(), svm_cv_precision.mean(), dt_cv_precision.mean(), voting_cv_precision.mean()]\n",
        "recall_scores = [nb_cv_recall.mean(), svm_cv_recall.mean(), dt_cv_recall.mean(), voting_cv_recall.mean()]\n",
        "f1_scores = [nb_cv_f1_score.mean(), svm_cv_f1_score.mean(), dt_cv_f1_score.mean(), voting_cv_f1_score.mean()]\n",
        "\n",
        "# Labels for the classifiers\n",
        "classifiers = ['Naive Bayes', 'SVM', 'Decision Tree', 'HE-Model']\n",
        "\n",
        "# Plot histograms for each metric\n",
        "fig, axes = plt.subplots(nrows=2, ncols=2, figsize=(12, 8))\n",
        "plt.subplots_adjust(hspace=0.4)\n",
        "\n",
        "# Accuracy\n",
        "axes[0, 0].bar(classifiers, accuracy_scores, color='skyblue')\n",
        "axes[0, 0].set_title('Accuracy')\n",
        "axes[0, 0].set_ylim(0, 1)\n",
        "\n",
        "# Precision\n",
        "axes[0, 1].bar(classifiers, precision_scores, color='lightgreen')\n",
        "axes[0, 1].set_title('Precision')\n",
        "axes[0, 1].set_ylim(0, 1)\n",
        "\n",
        "# Recall\n",
        "axes[1, 0].bar(classifiers, recall_scores, color='lightcoral')\n",
        "axes[1, 0].set_title('Recall')\n",
        "axes[1, 0].set_ylim(0, 1)\n",
        "\n",
        "# F1-score\n",
        "axes[1, 1].bar(classifiers, f1_scores, color='lightsalmon')\n",
        "axes[1, 1].set_title('F1-score')\n",
        "axes[1, 1].set_ylim(0, 1)\n",
        "\n",
        "# Show the plots\n",
        "plt.show()\n"
      ],
      "metadata": {
        "colab": {
          "base_uri": "https://localhost:8080/",
          "height": 699
        },
        "id": "Vz4YjWIBT8CR",
        "outputId": "04c541e0-9b02-4d4c-9ab5-c879e4bf9d71"
      },
      "execution_count": 84,
      "outputs": [
        {
          "output_type": "display_data",
          "data": {
            "text/plain": [
              "<Figure size 1200x800 with 4 Axes>"
            ],
            "image/png": "[encoded data removed]"
          },
          "metadata": {}
        }
      ]
    }
  ]
}